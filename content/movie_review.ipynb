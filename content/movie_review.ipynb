{
 "cells": [
  {
   "cell_type": "markdown",
   "metadata": {},
   "source": [
    "Majority of data is expressed as text format such as news articles, SNS and speech. Each article has some meanings and opinions, which have significant effects on things around us like economics, politics, etc. Therefore, using these information for prediction systems is important. Most of prediction algorithms, however, take input in the form of tensor (1st-order tensor is vector), which requires us to represent text data in the tensor(vector) form. In this article, we review popular three vector representation: Bag or Words, Word2Vec, and Doc2Vec. Then, we compare these qualities through sentiment analysis for movie reviews of [IMDb](http://ai.stanford.edu/~amaas/data/sentiment).  Then, we conclude that Doc2Vec is an efficient representation."
   ]
  },
  {
   "cell_type": "markdown",
   "metadata": {},
   "source": [
    "# 1. Vector Representations"
   ]
  },
  {
   "cell_type": "markdown",
   "metadata": {},
   "source": [
    "We shall here introduce three of the most popular methods: Bag of Words, Word2Vec, and Doc2Vec. "
   ]
  },
  {
   "cell_type": "markdown",
   "metadata": {},
   "source": [
    "## Bag of Words"
   ]
  },
  {
   "cell_type": "markdown",
   "metadata": {},
   "source": [
    "Bag of words is one of the most simplifying representations. We just count how many words we see in the text and represent as a vector whose components are the count numbers. Consider the case where we have the following two sentences:\n",
    "\n",
    "1. I like playing tennis. Kardashian likes playing tennis as much as I do. \n",
    "2. Kardashian actually likes playing baseball better than tennis.\n",
    "\n",
    "Then, we have the following words list:\n",
    "\n",
    "```python\n",
    "[\"I\", \"playing\", \"tennis\", \"Kardashian\", \"likes\", \"like\", \"as\",\n",
    "    \"much\", \"do\", \"actually\", \"baseball\", \"better\", \"than\"]\n",
    "```\n",
    "Base on this words list, we obtain\n",
    " 1. [2, 2, 2, 1, 1, 1, 2, 1, 1, 0, 0, 0, 0]\n",
    " 2. [0, 1, 1, 1, 1, 0, 0, 0, 0, 1, 1, 1, 1]\n",
    " \n",
    "Each i-th component of above vectors corresponds to the count number of i-th word in the word list; e.g., we have 2 at third component of the vector 1 and 1 at the vector 2  because we see ‘tennis’ twice in the first sentence and once in the second sentence. Though this representation is clearly oversimplification, it has been popular because of good performance. \n",
    "\n",
    "We here treat different length sentences. The above representation leads to that the longer sentences we express, the bigger components. Therefore, we have to normalize vectors. Let $\\bf{v}$ be a vector and let $v_i$ be its i-th component. We have\n",
    " $$ \\tilde{v}_i = \\frac{v_i}{\\|\\bf{v}\\|}, $$\n",
    " where $\\|\\cdot\\|$ is some norm; e.g., L2 norm. "
   ]
  },
  {
   "cell_type": "markdown",
   "metadata": {},
   "source": [
    "## Word2Vec"
   ]
  },
  {
   "cell_type": "markdown",
   "metadata": {},
   "source": [
    "The bag of words is oversimplified representation, which neglect the context. Next, we consider the another vector representation: skip-gram and continuous bag of words (CBOW) model, which has been introduced by T. Mikolov et al. in [the paper](https://arxiv.org/abs/1301.3781). The main idea is estimating the meaning of each word from neighbor words. We assume the relation as in the below figure:\n",
    "\n",
    "![vector_representation]({filename}images/movie_review/vector_representation.png)\n",
    "\n",
    "This figure comes from [the same paper](https://arxiv.org/abs/1301.3781) by T. Mikolov et al. While the current word vector is determined by the summation of forward and backward word vectors  in CBOW model, the certain range forward and backward word vectors are determined by the current word vector in skip-gram model. Both models use log linear model to reduce the computational complexity by getting rid of non-linear hidden layer. T. Mikolov et al. has also introduced negative sampling to learn the skip-gram model efficiently in [the paper](https://arxiv.org/abs/1310.4546). \n",
    "\n",
    "\n",
    "These algorithms succeeded to extract linear feature. For instance, we denote by $vec[\\cdot]$ a vector representation of a word. Then, we have the the following result:\n",
    "$$vec[king] - vec[man] + vec[woman] \\approx vec[queen].$$\n",
    "We can say that these algorithms are succeeded to find an effective representation of words in a vector space."
   ]
  },
  {
   "cell_type": "markdown",
   "metadata": {},
   "source": [
    "## Doc2Vec"
   ]
  },
  {
   "cell_type": "markdown",
   "metadata": {},
   "source": [
    "In most of applications like sentiment analysis, we are required to extract features from one sentence or paragraph. Though the Word2Vec has succeeded to grab semantic features of each word, they have poor performance when converting features of words into those of a paragraph through average over a document or CNN. As a sort of extensions, Q. Le and T. Mikolov have developed Doc2Vec, which extract features from various length one sentence or paragraph and produces fixed-length feature representation. In [the paper](https://arxiv.org/pdf/1405.4053v2.pdf), they have introduced two kind vector representations: Distributed Memory version of Paragraph Vectors (PV-DM) and Distributed Bag of Words version of Paragraph Vectors (PV-DBOW). \n",
    "\n",
    "PV-DM simply adds one feature vector to CBOW model. The below figure explains the model architecture (cited from [the original paper]((https://arxiv.org/pdf/1405.4053v2.pdf)). \n",
    "\n",
    "![pvdm]({filename}images/movie_review/pvdm.png)\n",
    "\n",
    "At the training stage, weight parameters for words and paragraphs are learned in the same way as Word2Vec. Note that weight parameters for words are shared across all of the documents while weight parameters for each paragraph is used only for one paragraph. At the prediction time after training, we fix weight parameters for classifier layer and words. Then, we learn the weight parameters for unseen paragraph.\n",
    "\n",
    "\n",
    "PV-DBOW, on the other hand, extract features of a paragraph through optimization with sampled words, which is close to skip-gram model. The below figure explains the model architecture (cited from [the original paper]((https://arxiv.org/pdf/1405.4053v2.pdf)). \n",
    "\n",
    "![pvdbow]({filename}images/movie_review/pvdbow.png)\n",
    "\n",
    "This model ignores the context and omit necessity to memorize weight parameters for words. At training time, we sample the text window and words from chosen text window. Then, we optimize parameters through stochastic gradient decent.\n",
    "\n",
    "Empirically, taking concatenation of both vector representations gives better performance."
   ]
  },
  {
   "cell_type": "markdown",
   "metadata": {},
   "source": [
    "# 2. Experiments"
   ]
  },
  {
   "cell_type": "markdown",
   "metadata": {},
   "source": [
    "In this section, we compare quality of vector representations introduced in the previous section. We use IMDb review data fetched from http://ai.stanford.edu/~amaas/data/sentiment. This data contains 100000 review, which can be divided into two folds: 50000 labeled and 50000 unlabeled reviews. The labeled reviews is able to split further into 25000 positive reviews scored from 7 to 10 out of 10 and 25000 negative reviews scored from 1 to 4 out of 10. Unlabeled reviews do not have any scores. We use half labeled reviews, 25000 reviews, consisting of 12500 positive and 12500 negative for train data and the other half for test data. Unlabeled data is used for unsupervised training of Word2Vec and Doc2Vec. In this experiment, we work on a binary classification problem to predict if unseen data is classified to positive or negative. \n",
    "\n",
    "For implementation of Word2Vec and Doc2Vec, we use the python package, [gensim](https://radimrehurek.com/gensim/index.html), which contains various implemented methods for natural language process.\n",
    "\n",
    "Let’s work on experiments while seeing an example of implementation of Doc2Vec. First of all, we  have to load text data in the form of one of the classes of implemented at gensim.models.doc2vec, TaggedDocument, which has two attributes: words and tags. Words and tags have to be lists of strings. Note that we have to assign unique tag for each document; otherwise, we end up replacing old data with new data when they have the same tag. \n",
    "\n",
    "When loading data, we set two parameters: ‘remove_stopwords’ and ‘remove_special’. Roughly speaking, stop words are frequent words with unimportant meanings; e.g., a, the, and you. Getting rid of these words often improve the performance. In this experiments, we get rid of stop words for all three representation. ‘remove_special’ refers to if we use special characters such as ‘?’, ‘!’, and ‘,’. Since special characters are included in [the paper introducing Doc2Vec](https://arxiv.org/pdf/1405.4053v2.pdf), we set ‘remove_special = False’ only for Doc2Vec. "
   ]
  },
  {
   "cell_type": "code",
   "execution_count": null,
   "metadata": {
    "collapsed": true
   },
   "outputs": [],
   "source": [
    "import numpy as np\n",
    "import os\n",
    "import re\n",
    "from bs4 import BeautifulSoup\n",
    "from gensim.models.doc2vec import TaggedDocument\n",
    "from nltk.corpus import stopwords\n",
    "from six.moves import xrange, zip, map, filter\n",
    "\n",
    "def get_document(file_dirs, remove_stopwords=True, remove_special=True):\n",
    "    documents = []\n",
    "    labels=[]\n",
    "    tags = []\n",
    "    for file_dir in file_dirs:\n",
    "        name_list = [x for x in os.listdir(file_dir) if '.txt' in x]\n",
    "        for x in iter(name_list):\n",
    "            # data is named as id_star.txt\n",
    "            comp_re = re.compile('(\\d+)_(\\d+).txt')\n",
    "            obj = comp_re.search(x)\n",
    "            f = open(os.path.join(file_dir, x), 'r')\n",
    "            # convert HTML format data to text data\n",
    "            review_text = BeautifulSoup(f.read(), 'lxml').get_text()\n",
    "            review_text = review_text.lower()\n",
    "            # get rid of special characters\n",
    "            if remove_special:\n",
    "                wordlist = re.findall(r\"[a-z]+ | [^ a-z]\", review_text)\n",
    "            else:\n",
    "                wordlist = re.sub(\"[^a-z]\",\" \", review_text).split()\n",
    "            # get rid of stop words; e.g., he, she, you, ...\n",
    "            if remove_stopwords:\n",
    "                stops = set(stopwords.words(\"english\"))\n",
    "                wordlist = [w for w in wordlist if not w in stops]\n",
    "            # tag for each document\n",
    "            tag = \"SENT_\" + obj.group(1) + '_' + obj.group(2)\n",
    "            documents.append(TaggedDocument(words=wordlist, tags=[tag]))\n",
    "            f.close()\n",
    "            # seperate data into positive and negative\n",
    "            star = float(obj.group(2))\n",
    "            if star > 5:\n",
    "                labels.append(1)\n",
    "            else:\n",
    "                labels.append(0)\n",
    "    return [documents, labels, tags]"
   ]
  },
  {
   "cell_type": "code",
   "execution_count": null,
   "metadata": {
    "collapsed": true
   },
   "outputs": [],
   "source": [
    "train_labeled = get_document(['./aclImdb/train/pos', './aclImdb/train/neg'], \n",
    "                             remove_stopwords=True,  remove_special=False)\n",
    "train_unlabeled = get_document(['./aclImdb/train/unsup'], \n",
    "                               remove_stopwords=True, remove_special=False)\n",
    "test_data = get_document(['./aclImdb/test/pos', './aclImdb/test/neg'])"
   ]
  },
  {
   "cell_type": "markdown",
   "metadata": {},
   "source": [
    "Using both unlabeled and labeled data, we extract features for each document. As in the original paper, we set dimension 400 for both of PV-DM and  PV-DBOW and concatenate them; i.e., we have (75000, 800) for training."
   ]
  },
  {
   "cell_type": "code",
   "execution_count": null,
   "metadata": {
    "collapsed": true
   },
   "outputs": [],
   "source": [
    "from gensim.models.doc2vec import Doc2Vec\n",
    "\n",
    "pvdm = Doc2Vec(train_labeled[0] + train_unlabeled[0], size=400, dm=1,\n",
    "                 window=5, min_count=5, workers=4, max_vocab_size=50000, iter=11)\n",
    "pvdbow = Doc2Vec(train_labeled[0] + train_unlabeled[0], size=400, dm=0,\n",
    "                 window=5, min_count=5, workers=4, max_vocab_size=50000, iter=11)"
   ]
  },
  {
   "cell_type": "markdown",
   "metadata": {},
   "source": [
    "After training, we can get vector for paragraphs by attribute, 'infer_vector'"
   ]
  },
  {
   "cell_type": "code",
   "execution_count": null,
   "metadata": {
    "collapsed": true
   },
   "outputs": [],
   "source": [
    "def get_vectors(doc2vec, sentences):\n",
    "    return np.array(list(map(lambda x: doc2vec.infer_vector(x.words), sentences)))"
   ]
  },
  {
   "cell_type": "code",
   "execution_count": null,
   "metadata": {
    "collapsed": true
   },
   "outputs": [],
   "source": [
    "# get paragraph vectors for training\n",
    "train_pvdm = get_vectors(pvdm, train_labeled[0])\n",
    "train_pvdbow = get_vectors(pvdbow, train_labeled[0])\n",
    "train_paragraph = np.concatenate((train_pvdm, train_pvdbow), axis=1)\n",
    "# get paragraph vectors for prediction\n",
    "test_pvdm = get_vectors(pvdm, test_data[0])\n",
    "test_pvdbow = get_vectors(pvdbow, test_data[0])\n",
    "test_paragraph = np.concatenate((test_pvdm, test_pvdbow), axis=1)"
   ]
  },
  {
   "cell_type": "markdown",
   "metadata": {},
   "source": [
    "Note that though we extracted the features through method 'infer_vector', we can also get features by 'pvdm(pvdbow).docvecs.doctag_syn0'. Since obtaining features through ‘infer_vector’ leads to better performance, we employed ‘infer_vector’ for both of training and test.\n",
    "\n",
    "Now, we work on Logistic Regression with keras."
   ]
  },
  {
   "cell_type": "code",
   "execution_count": null,
   "metadata": {
    "collapsed": true
   },
   "outputs": [],
   "source": [
    "from keras.layers import Dense\n",
    "from keras.optimizers import Adam\n",
    "\n",
    "model = Sequential()\n",
    "model.add(Dense(1, activation='sigmoid', name='output',  input_shape=[800]))\n",
    "\n",
    "opt = Adam(lr=1e-3)\n",
    "model.compile(loss='binary_crossentropy', optimizer=opt, metrics=['acc'])"
   ]
  },
  {
   "cell_type": "code",
   "execution_count": null,
   "metadata": {
    "collapsed": true
   },
   "outputs": [],
   "source": [
    "model.fit(train_paragraph, train_labeled[1], nb_epoch=100, batch_size=1000, verbose=2)"
   ]
  },
  {
   "cell_type": "code",
   "execution_count": null,
   "metadata": {
    "collapsed": true
   },
   "outputs": [],
   "source": [
    "prediction = model.predict_classes(test_paragraph)[:, 0]"
   ]
  },
  {
   "cell_type": "markdown",
   "metadata": {},
   "source": [
    "Here is the result:"
   ]
  },
  {
   "cell_type": "markdown",
   "metadata": {},
   "source": [
    "<table style=\"width:100%; border-collapse: collapse; border: 1px solid black;\">\n",
    "  <tr>\n",
    "    <th style=\"border: 1px solid black;\"></th>\n",
    "    <th style=\"border: 1px solid black;\">BOW</th>\n",
    "    <th style=\"border: 1px solid black;\">Word2Vec</th> \n",
    "    <th style=\"border: 1px solid black;\">Doc2Vec</th>\n",
    "  </tr>\n",
    "  <tr>\n",
    "    <td style=\"border: 1px solid black;\">Accuracy</td>\n",
    "    <td style=\"border: 1px solid black;\">86.6% </td>\n",
    "    <td style=\"border: 1px solid black;\">84.3%</td>\n",
    "    <td style=\"border: 1px solid black;\">87.5%</td>\n",
    "  </tr>\n",
    "\n",
    "</table>"
   ]
  },
  {
   "cell_type": "markdown",
   "metadata": {},
   "source": [
    "# 3. Discussion"
   ]
  },
  {
   "cell_type": "markdown",
   "metadata": {},
   "source": [
    "In this article, we have reviewed three vector representation of documents and compare their qualities as features of logistic regression. One of the benefits of Doc2Vec does not require high dimensional parameter space unlike BOW. For example, while Doc2Vec has 800 dimensional features in the experiment, BOW results in 5000 dimensional features to keep the quality. Besides that, Doc2Vec resulted in the best performance in the experiment. \n",
    "\n",
    "We have implemented logistic regression through deep learning framework library ‘keras’, which makes it easy to extend logistic regression to multiple layer neural network by adding some layers. In the paper of Doc2Vec, by adding hidden layer with 50 units, they achieved 92.6% accuracy, which is far from our results. (By adding hidden layer with some regularization like batch normalization and dropout, we could not achieve this accuracy in the experiment). Since we did not choose hyper parameters with validation, we have possibilities need to improve the qualities of vectors with better hyper parameters. \n",
    "\n",
    "As a feature work, by combining state-of-art deep learning algorithm after Doc2Vec layer, we can improve the performance more. "
   ]
  }
 ],
 "metadata": {
  "anaconda-cloud": {},
  "kernelspec": {
   "display_name": "Python [conda root]",
   "language": "python",
   "name": "conda-root-py"
  },
  "language_info": {
   "codemirror_mode": {
    "name": "ipython",
    "version": 3
   },
   "file_extension": ".py",
   "mimetype": "text/x-python",
   "name": "python",
   "nbconvert_exporter": "python",
   "pygments_lexer": "ipython3",
   "version": "3.5.2"
  }
 },
 "nbformat": 4,
 "nbformat_minor": 1
}
