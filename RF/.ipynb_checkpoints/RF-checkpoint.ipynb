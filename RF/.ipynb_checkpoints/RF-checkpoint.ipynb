{
 "cells": [
  {
   "cell_type": "markdown",
   "metadata": {},
   "source": [
    "# Prediction for Advertisement on the Internet"
   ]
  },
  {
   "cell_type": "markdown",
   "metadata": {},
   "source": [
    "We will work on predicting if given data of images with some attributes are advertisements. Each candidate has the geometry of the image (if available) as well as phrases occurring in the URL, the image's URL and alt text, the anchor text, and words occurring near the anchor text: the geometry is three-dimensional and continuous and other attributes are binary (0 or 1). The number of these attributes is 1,558. Given training data have 3,279 instances along with label as to if they are advertisement (2,821 non ads, 458 ads). 28% of them are missing geometry attributes. \n",
    "\n",
    "After trained with given training data, we work on predict test data's the label: if test instances are classified to advertisement. Thus, this prediction problem is binary classification problem. "
   ]
  },
  {
   "cell_type": "markdown",
   "metadata": {},
   "source": [
    "# 1. Background"
   ]
  },
  {
   "cell_type": "markdown",
   "metadata": {},
   "source": [
    "While we have 3,279 instances in the training data, each sample has 1,558 attributes. The number of data and input dimension are the almost same order, which more likely leads to overfitting. To avoid this, we choose only important features and use them for prediction. Important features mean here the features that have the strong correlation to the output. Thus, out goal is choosing features with the most dominant effects on prediction rather than dimension reduction for data compression like PCA. We here use random forests and automatic relevance determination(ARD)."
   ]
  },
  {
   "cell_type": "markdown",
   "metadata": {},
   "source": [
    "## 1.1. Random Forests"
   ]
  },
  {
   "cell_type": "markdown",
   "metadata": {},
   "source": [
    "Random forests has been introduced by Breiman in [the paper](https://www.stat.berkeley.edu/~breiman/randomforest2001.pdf) in 2001. He proposed collecting many classification and regression trees(CART) and used them to establish better predictors. The key concept of random forests is bagging introduced by Breiman in [the paper](rhttp://statistics.berkeley.edu/sites/default/files/tech-reports/421.pdf) in 1994. The name comes from the combination of acronym of two words: bootstrap and aggregating. Bagging has been succeeded to improve unstable predictors like neural network and CART. By applying bagging to CART, we obtain the better accuracy tree, random forests. As one of the useful byproducts, we can use random forests to measure importance of each input feature.  We explain these concepts in the following order: bootstrap, bagging, and random forests."
   ]
  },
  {
   "cell_type": "markdown",
   "metadata": {},
   "source": [
    "### Bootstrap"
   ]
  },
  {
   "cell_type": "markdown",
   "metadata": {},
   "source": [
    "Bootstrap is a general methodology to measure the accuracy of estimations based on resampling, which has been introduced by Efron and Tibshirani in [the paper](https://projecteuclid.org/download/pdf_1/euclid.ss/1177013815). Since the variance of an estimation is frequently used to measure the accuracy of estimation, bootstrap is practically used to guess the variance of the estimation. Especially, bootstrap gives us a computational approach to analytically intractable cases.  \n",
    "\n",
    "Let's say we have $n$ samples from distribution $F$ and estimate its mean with the unbiased estimator,\n",
    "$$ \\bar{x} = \\sum_{i=1}^n x_i / n.$$\n",
    "Let us denote by $\\mu_2 (F) = E_F X^2 - (E_F X)^2$  the variance of distribution $F$. We analytically calculate the standard deviation $\\sigma(F; N, \\bar{x})$ as\n",
    "$$\\sigma (F) = [\\mu_2 (F) / n]^{1/2},$$\n",
    "where $\\sigma(F) \\equiv \\sigma(F; n, \\bar{x})$. Since $\\mu_2 (F) $ is unknown function, we use unbiased estimator  $\\bar{\\mu}_2 = \\sum_{i=1}^n (x_i - \\bar{x})^2 / (n - 1)$ instead; i.e., we have\n",
    "$$\\bar{\\sigma} = [\\bar{\\mu}_2 / n]^{1/2}.$$\n",
    "\n",
    "There is another way. Let $\\hat{F}$ be the empirical distribution; i.e., $\\hat{F}$ assigns the probability mass $1/n$ to each data point $x_i$. Then, we obtain\n",
    "$$\\bar{\\sigma} \\equiv \\sigma(\\hat{F}) = [\\mu_2(\\hat{F}) / n]^{1/2},$$\n",
    "where $\\mu_2(\\hat{F}) = \\sum_{i=1}^n (x_i - \\bar{x})^2 / n$. This approach is more flexible. In the above mean estimation example, we have to know the analytical expression of unbiased estimation of the variance, which is not often the case for more complex estimations. \n",
    "\n",
    "To apply the second method to even more complex cases, we introduce the new sampling concept called bootstrap sampling. Let us assume that we estimate $\\theta$, which corresponds to $E_F X$ in the previous example. To formalize into the second method, we need to calculate\n",
    "$$E_{\\hat{F}} (\\hat{{\\theta}}(\\bf{x}) - E_{\\hat{F}} \\hat{{\\theta}}(\\bf{x}))^2,$$\n",
    "where $\\hat{F}$ is the empirical distribution of n data points $\\bf{x} = (x_1, x_2, \\dots, x_n)$. Since computing all of the case $\\hat{{\\theta}}(\\bf{x})$ is too expensive, we resort to Monte Carlo method; i.e., we take sample mean with B sets of data $\\{\\bf{x}^b\\}_{b=1}^B = \\{x_1^b, x_2^b, \\dots, x_n^b\\}_{b=1}^B$ sampled from empirical distribution $\\hat{F}$. Note that all of sets must have exactly n data because the expression of estimation depends on n. This sampling method is called bootstrap sampling. Taking sample mean instead of expectation leads to\n",
    "$$\\theta^*(\\cdot) = \\frac{\\sum_{b=1}^B \\hat{\\theta }(b)}{B}$$\n",
    "$$\\sigma_B = \\left(\\frac{\\sum_{b=1}^B (\\hat{\\theta}(b) - \\theta^*(\\cdot) }{B - 1}\\right)^{1/2}.$$\n",
    "$\\sigma_B$ can be used to measure the accuracy of the estimation.\n",
    "\n",
    "For more precise discussion over the accuracy of this method itself, you can check [the original paper](https://projecteuclid.org/download/pdf_1/euclid.ss/1177013815)."
   ]
  },
  {
   "cell_type": "markdown",
   "metadata": {},
   "source": [
    "### Bagging"
   ]
  },
  {
   "cell_type": "markdown",
   "metadata": {},
   "source": [
    "Bagging has been introduced by Breiman in [the paper](rhttp://statistics.berkeley.edu/sites/default/files/tech-reports/421.pdf). He used bootstrap sampling to improve the accuracy of unstable predictors. The concept is quite simple. Consider a predictor trained by training set $\\mathcal{L}$. For each input $x$, prediction can be expressed as $\\varphi(x, \\mathcal{L})$. For regression case, we can define the aggregated predictor as \n",
    "$$\\varphi_A(x) = E_{\\mathcal{L}} \\varphi(x, \\mathcal{L}).$$\n",
    "\n",
    "For the classification case, the class voted by the most predictors would be the prediction value. That is, each $\\varphi(x, \\mathcal{L})$ has C dimensional output $\\varphi(x, \\mathcal{L}) = (\\varphi^1(x, \\mathcal{L}), \\varphi^2(x, \\mathcal{L}), \\dots, \\varphi^C(x, \\mathcal{L}))$ and each component corresponds to each class confidence. Then, the aggregated predictor is defined as \n",
    "$$\\varphi_A(x) = \\underset{1 \\leq c \\leq C}{max} E_{\\mathcal{L}} \\varphi^c(x, \\mathcal{L}).$$\n",
    "\n",
    "This aggregation procedure especially increase the accuracy of unstable predictors. Consider the regression case. We have the generalized prediction error in $\\varphi (x, \\mathcal{L})$ and $\\varphi_A(x)$:\n",
    "$$e = E_{\\mathcal{L}} E_{y, x} (y - \\varphi(x, \\mathcal{L}))^2,$$\n",
    "$$e_A = E_{y, x} (y - \\varphi_A(x))^2.$$\n",
    "Then, we obtain\n",
    "$$e = E_{\\mathcal{L}} E_{y, x} y^2 - 2 E_{y, x}y \\varphi_A(x) +  E_{\\mathcal{L}} E_{y, x} \\varphi(x, \\mathcal{L})^2\\\\\n",
    "\\geq E_{y, x} (y - \\varphi_A(x))^2\\\\\n",
    "= e_A,$$\n",
    "where we use Jensen inequality, $E_{\\mathcal{L}}\\varphi(x, \\mathcal{L})^2 \\geq (E_{\\mathcal{L}}\\varphi(x, \\mathcal{L}))^2$. Hence, aggregated predictor has better performance if and only if $E_{\\mathcal{L}}\\varphi(x, \\mathcal{L})^2$ is strictly greater than $(E_{\\mathcal{L}}\\varphi(x, \\mathcal{L}))^2$, which implies that unstable predictors — large variance predictors — will be improved by the aggregation. \n",
    "\n",
    "In the practical situation, the calculation of $E_{\\mathcal{L}} \\varphi(x, \\mathcal{L})$ is often intractable. Then, we often use \n",
    "$$\\varphi_B(x) = \\hat{E}_{\\mathcal{L}} \\varphi(x, \\mathcal{L}),$$\n",
    "where $\\hat{E}(\\cdot)$ is empirical expectation calculated through bootstrap sampling. Bootstrap sampling gives us some numerical errors between $\\varphi_B(x)$ and $\\varphi_A(x)$. Therefore, there is cross-over point between instability and stability at which $\\varphi_B(x)$ stop improving and does worse. Indeed, there is the example that stability predictor does worse through bagging in [the paper](rhttp://statistics.berkeley.edu/sites/default/files/tech-reports/421.pdf).\n",
    "\n",
    "In classification, a predictor predicts a class label $c \\in \\{1, 2, \\dots, C\\}$. The probability of correct classification can be calculated as \n",
    "$$r(\\mathcal{L}) = \\sum_{c} P(\\varphi(x, \\mathcal{L}) = c | y = c) P(y = c).$$\n",
    "We define $Q(c | x) \\equiv P_{\\mathcal{L}}(\\varphi(x, \\mathcal{L}) = c)$, where$P_{\\mathcal{L}}$ is probability measure of samples $\\mathcal{L}$. By taking marginalization over $P_\\mathcal{L}$, we have\n",
    "$$r = \\sum_{c}E[Q(c | x) | y=c] P(y = c)\\\\\n",
    "= \\sum_{c} \\int Q(c | x) P(y=c|x) P_x(dx).$$\n",
    "\n",
    "Since the aggregated predictor is equivalent to $\\varphi_A(x) = \\underset{c}{argmax} Q(c | x)$, we can write down the probability of correct classification of the aggregated predictor as\n",
    "$$r_A = \\sum_{c} \\int I(\\underset{j}{argmax} Q(j | x) = c) P(y=c|x) P_x(dx),$$\n",
    "where $I(\\cdot)$ is the indicator function. Consider a set $D$,\n",
    "$$D = \\{x; \\underset{c}{argmax} Q(c | x) = \\underset{c}{argmax} P(c | x) \\}.$$\n",
    "We can express $r_A$ as \n",
    "$$r_A = \\int_D \\underset{c}{max}P(y=c|x) P_x(dx) + \\sum_{c} \\int_{D^c} I(\\varphi_A(x) = c) P(y=c|x) P_x(dx).$$\n",
    "\n",
    "For each predictor, the highest attainable correct prediction is obtained when $P_x(D) = 1$; i.e., we have\n",
    "$$r^* = \\int \\underset{c}{max}P(y=c|x) P_x(dx).$$\n",
    "For $x \\in D$, $\\sum_{c} Q(c | x) P(y = c | x)$ can be less than $\\underset{c}{max}P(y=c|x)$. Thus, even if $P_x(D) \\simeq 1$, non-aggregated predictor might be far from optimal. \n",
    "\n",
    "In classification, aggregation actually improves the performance more for the better performance predictor. This can be deduced from the above expression of $r_A$. In order to have the performance close to optimal one $r^*$, we have to assign large probability mass to $D$; i.e., the predictor already have high probability of correct classification. As to the stability of the predictor, the same statement as regression holds for classification. "
   ]
  },
  {
   "cell_type": "markdown",
   "metadata": {},
   "source": [
    "### Random Forests and Feature Importance"
   ]
  },
  {
   "cell_type": "markdown",
   "metadata": {},
   "source": [
    "Random forest has been introduced by Breiman in [the paper](https://www.stat.berkeley.edu/~breiman/randomforest2001.pdf) . As we discussed previously, bagging improves the accuracy of unstable predictors like neural network and CART. Then, He applied bagging to CART to improve the accuracy.\n",
    "\n",
    "Concept is quite simple. At every node, we just split data depending on subset of variable. Let's say we have $M$ dimensional input feature. At every node, randomly chosen subset $s$ variables  of $M$ variables are used to split data. After established some trees, we mean of outputs of trees for regression, or \n",
    "take vote as to which class will data should be classified for classification. \n",
    "\n",
    "As one of the useful byproducts of bootstrap sampling, we have unused samples called out-of-bags, which has been discussed in [the paper](https://www.stat.berkeley.edu/~breiman/OOBestimation.pdf)  by Breiman. When using bootstrap sampling, we have unsampled data for each set. This comes from the following:\n",
    "\n",
    "Let $N$ be the number of data. The probability to unsample one of the data $x_i$ is $(1 - \\frac{1}{N})^N$. By using the fact that $\\underset{n\\to \\infty}{lim}(1 + \\frac{1}{N})^{-N} = \\frac{1}{e}$, we can lead to $\\underset{N \\to \\infty}{lim}(1 - \\frac{1}{N})^N = \\frac{1}{e} \\simeq 0.3679$. Thus, for large enough data, almost 37% data will not be sampled. Using these unsampled data, we can improve accuracy of prediction for important some statistical quantities. For example, it is known that training error has downside bias. We can use out-of-bag to have more accurate estimation of generalized error without any additional data. Thus, to evaluate the performance of random forests, we need neither of test data nor additional computational time coming from cross validation. \n",
    "\n",
    "As another useful byproducts, we have feature importance. This is a quantity to measure the importance of each component of input for prediction. As we mentioned above, the performance of random forest is measured on out-of-bag. The performance should be measured by certain criteria such as Gini index, entropy, and accuracy. Then, we add noise to each variables and see how much the value of the criteria changes. We do this through the following process.\n",
    "\n",
    "Let us assume that we use $M$ dimensional input feature $\\bf{x} = (x_1, x_2, \\dots, x_M)$ and $N_T$ trees for estimation.\n",
    "\n",
    "FOR i = 1 to $N_T$\n",
    "- Generate a tree\n",
    "- Evaluate performance on out-of-bag\n",
    "\n",
    "FOR m = 1 to $M$\n",
    "\n",
    "- Collapse $x_m$ by noise \n",
    "- Evaluate and save the change of the value of the criteria\n",
    "\n",
    "END FOR\n",
    "\n",
    "END FOR\n",
    "\n",
    "- Take mean saved changes (The higher, the more important)\n",
    "\n",
    "\n",
    "Through this process, we identify which component is significant for prediction. In scikit-learn implementation, normalized criteria are used to evaluate the feature importance; they measure how much noised feature increases the value of criteria in the percentage. Gini impurity and mean squared error used as default for classification and regression respectively."
   ]
  },
  {
   "cell_type": "markdown",
   "metadata": {},
   "source": [
    "## 1.2. Automatic Relevance Determination (ARD)"
   ]
  },
  {
   "cell_type": "markdown",
   "metadata": {},
   "source": [
    "As another method of dimension reduction, we have ARD. we choose the important feature in the Bayesian framework. Consider the $M$ dimensional input features. We have the model as\n",
    "$$p(y |w, X, \\beta) =  N(y | w^t \\cdot X, 1/\\beta),$$\n",
    "$$p(w) = N(w | 0, A^{-1}),$$\n",
    "where $N(\\cdot | \\mu, \\Sigma)$ is the normal distribution with mean $\\mu$ and covariance $\\Sigma$; $X = (x_1, x_2, \\dots, x_M)$; $A = diag(\\alpha)$ with $M$ dimensional vector $\\alpha$. Note that each component of $\\alpha$ corresponds to the precision of distribution for each component of weights $w$. If the variable $x_i$ is irrelevant to prediction $alpha_i$ goes to infinity and $w_i$ goes to zero. For precise discussion, you can check [this book](https://www.amazon.com/Machine-Learning-Probabilistic-Perspective-Computation/dp/0262018020)."
   ]
  },
  {
   "cell_type": "markdown",
   "metadata": {},
   "source": [
    "# 2. Analysis"
   ]
  },
  {
   "cell_type": "markdown",
   "metadata": {},
   "source": [
    "Let's wrok on analysis!!!! \n",
    "\n",
    "We use the following libraries."
   ]
  },
  {
   "cell_type": "code",
   "execution_count": 1,
   "metadata": {
    "collapsed": false
   },
   "outputs": [
    {
     "name": "stderr",
     "output_type": "stream",
     "text": [
      "Using TensorFlow backend.\n"
     ]
    }
   ],
   "source": [
    "import numpy as np\n",
    "import re\n",
    "from sklearn.ensemble import RandomForestClassifier\n",
    "from sklearn.ensemble import RandomForestRegressor\n",
    "from sklearn.linear_model import ARDRegression, LinearRegression\n",
    "from sklearn.model_selection import KFold\n",
    "from six.moves import zip, xrange\n",
    "from sklearn.preprocessing import Imputer\n",
    "from tqdm import tqdm\n",
    "import matplotlib.pyplot as plt\n",
    "\n",
    "# keras (tensorflow backend)\n",
    "from keras.layers import Flatten, Lambda\n",
    "from keras.models import Sequential\n",
    "from keras.layers import BatchNormalization\n",
    "from keras.layers import Activation\n",
    "from keras.layers import Dense\n",
    "from keras.layers.advanced_activations import PReLU\n",
    "from keras.layers import Dropout\n",
    "from keras.optimizers import Adam\n",
    "from keras import backend as K\n",
    "\n",
    "%matplotlib inline"
   ]
  },
  {
   "cell_type": "markdown",
   "metadata": {},
   "source": [
    "We fetch data from the local machine."
   ]
  },
  {
   "cell_type": "code",
   "execution_count": 45,
   "metadata": {
    "collapsed": true
   },
   "outputs": [],
   "source": [
    "f= open('data')\n",
    "data = f.read()"
   ]
  },
  {
   "cell_type": "markdown",
   "metadata": {},
   "source": [
    "When we fetch data, we divide attributes into three categorieds: three-dimensional continuous attributres, other binary attributes, and lable (0 or 1)."
   ]
  },
  {
   "cell_type": "code",
   "execution_count": 43,
   "metadata": {
    "collapsed": false
   },
   "outputs": [],
   "source": [
    "def get_data(data):\n",
    "    cont = []\n",
    "    binary = []\n",
    "    # convert missing value from '    ?  ' to '?'\n",
    "    data = data.replace(' ', '')\n",
    "    data = data.splitlines()\n",
    "    label = []\n",
    "    for x in data:\n",
    "        # nan is mroe convenietn to treat with numpy \n",
    "        x = x.replace('?', 'nan')\n",
    "        x = x.split(',')\n",
    "        cont.append(np.array(x[:3], dtype=float))\n",
    "        binary.append(np.array(x[3:-1], dtype=float))\n",
    "        # convert laberl into binary: 0 or 1\n",
    "        if x[-1] == 'ad.':\n",
    "            label.append(1)\n",
    "        else:\n",
    "            label.append(0)\n",
    "    # shuffle order to have reasonable estimate for cross validation\n",
    "    n_data = len(cont)\n",
    "    index = np.arange(n_data)\n",
    "    np.random.shuffle(index)\n",
    "    return np.array(cont)[index], np.array(binary)[index], np.array(label)[index]"
   ]
  },
  {
   "cell_type": "code",
   "execution_count": 46,
   "metadata": {
    "collapsed": false
   },
   "outputs": [],
   "source": [
    "data = get_data(data)"
   ]
  },
  {
   "cell_type": "code",
   "execution_count": 48,
   "metadata": {
    "collapsed": false
   },
   "outputs": [
    {
     "data": {
      "text/plain": [
       "array([1, 0, 1, ..., 1, 0, 1])"
      ]
     },
     "execution_count": 48,
     "metadata": {},
     "output_type": "execute_result"
    }
   ],
   "source": [
    "data[2]"
   ]
  },
  {
   "cell_type": "markdown",
   "metadata": {},
   "source": [
    "## 2.1. Completion"
   ]
  },
  {
   "cell_type": "markdown",
   "metadata": {
    "collapsed": true
   },
   "source": [
    "As we mentioned at the beginning of this article, 28% of candidates are missing geometry attributes: three continuous variables. In this section, we consider methods to fill these missing attributes. Because of the simplicity of implementation, we here work on predicting missing values using available attributes as input instead of optimizing generative models like EM algorithms. Since attributes have high dimension compared to the size of training data, we consider feature selection based on how much they contribute to the quality of prediction. The measure as to contribution to the prediction is called importance of feature. We evaluate importance of features with the rest 78% data: full attributes data. \n",
    "\n",
    "First, we work on random forests. We analyze the relation between the accuracy of prediction and importance of features. After that, we also see the the relation of importance of features to other algorithms: neural network, linear regression, and ARD."
   ]
  },
  {
   "cell_type": "code",
   "execution_count": 49,
   "metadata": {
    "collapsed": true
   },
   "outputs": [],
   "source": [
    "def get_complete_data(data):\n",
    "    \"\"\"Return only full attributes data\"\"\"\n",
    "    cont_data = []\n",
    "    binary_data = []\n",
    "    label_data = []\n",
    "    count = 0\n",
    "    # count the number of missing attributes data\n",
    "    miss_bi = 0\n",
    "    miss_c = 0\n",
    "    for cont, binary, label in zip(data[0], data[1], data[2]):\n",
    "        if True in np.isnan(cont):\n",
    "            miss_c += 1\n",
    "            continue\n",
    "        if True in np.isnan(binary):\n",
    "            miss_bi += 1\n",
    "            continue\n",
    "        else:\n",
    "            binary_data.append(binary)\n",
    "            cont_data.append(cont)\n",
    "            label_data.append(label)\n",
    "    print('continuous missing:', miss_c)\n",
    "    print('binary missing:', miss_bi)\n",
    "    return [np.array(cont_data), np.array(binary_data), np.array(label_data)]"
   ]
  },
  {
   "cell_type": "code",
   "execution_count": 50,
   "metadata": {
    "collapsed": false
   },
   "outputs": [
    {
     "name": "stdout",
     "output_type": "stream",
     "text": [
      "('continuous missing:', 910)\n",
      "('binary missing:', 10)\n"
     ]
    }
   ],
   "source": [
    "complete_data = get_complete_data(data)"
   ]
  },
  {
   "cell_type": "markdown",
   "metadata": {},
   "source": [
    "Given data seems to miss some attributes even in binary attributes ......"
   ]
  },
  {
   "cell_type": "markdown",
   "metadata": {},
   "source": [
    "We evalute feature importance with 1000 trees in the same way as [the original papers](https://www.stat.berkeley.edu/~breiman/randomforest2001.pdf). "
   ]
  },
  {
   "cell_type": "code",
   "execution_count": 327,
   "metadata": {
    "collapsed": false
   },
   "outputs": [
    {
     "name": "stdout",
     "output_type": "stream",
     "text": [
      "CPU times: user 3min 40s, sys: 428 ms, total: 3min 41s\n",
      "Wall time: 3min 39s\n"
     ]
    }
   ],
   "source": [
    "%%time\n",
    "\n",
    "forest = RandomForestRegressor(n_estimators=1000, criterion='mse')\n",
    "forest.fit(complete_data[1], complete_data[0])"
   ]
  },
  {
   "cell_type": "code",
   "execution_count": 328,
   "metadata": {
    "collapsed": false
   },
   "outputs": [
    {
     "data": {
      "image/png": "[encoded data removed]",
      "text/plain": [
       "<matplotlib.figure.Figure at 0x7f38219cd550>"
      ]
     },
     "metadata": {},
     "output_type": "display_data"
    }
   ],
   "source": [
    "# get idnex of features in descending order of the importance\n",
    "index = np.argsort(forest.feature_importances_)[::-1]\n",
    "n_data = len(forest.feature_importances_)\n",
    "_ = plt.bar(np.arange(n_data), forest.feature_importances_[index])"
   ]
  },
  {
   "cell_type": "markdown",
   "metadata": {},
   "source": [
    "The ten most important features:"
   ]
  },
  {
   "cell_type": "code",
   "execution_count": 329,
   "metadata": {
    "collapsed": false
   },
   "outputs": [
    {
     "data": {
      "image/png": "[encoded data removed]",
      "text/plain": [
       "<matplotlib.figure.Figure at 0x7f382822ecd0>"
      ]
     },
     "metadata": {},
     "output_type": "display_data"
    }
   ],
   "source": [
    "_ = plt.bar(np.arange(10), forest.feature_importances_[index[:10]])"
   ]
  },
  {
   "cell_type": "markdown",
   "metadata": {},
   "source": [
    "Even the most important features have almost 8% increase in the value of criteria. This is not be large value compared to examples in [the original papers](https://www.stat.berkeley.edu/~breiman/randomforest2001.pdf); i.e., it is difficult to predict through only a few attributes. \n",
    "\n",
    "Let's see how much importance of feature has an effect on prediction. We evaluate the performance of each algorithm with the percentage of error:\n",
    "$$\\frac{|y_{true} - y_{prediction}|}{|y_{true}|}.$$\n",
    "For the evaluation of the performance, we use ten folds cross validation."
   ]
  },
  {
   "cell_type": "code",
   "execution_count": 277,
   "metadata": {
    "collapsed": true
   },
   "outputs": [],
   "source": [
    "def compute_error(y, prediction):\n",
    "    error = np.abs(prediction - y) / np.abs(y)\n",
    "    return np.mean(error)\n",
    "\n",
    "def evaluate_completion(cont_data, binary_data, predictor, *args):\n",
    "    train_input = []\n",
    "    train_target = []\n",
    "    test_input = []\n",
    "    count = 0\n",
    "    binary_data = imp.fit_transform(binary_data)\n",
    "    for cont, bi in zip(cont_data, binary_data):\n",
    "        if True in np.isnan(cont):\n",
    "            test_input.append(bi)\n",
    "        else:\n",
    "            train_input.append(bi)\n",
    "            train_target.append(cont)\n",
    "    train_input = np.array(train_input)\n",
    "    train_target = np.array(train_target) \n",
    "    kf = KFold(n_splits=10)\n",
    "    errors = []\n",
    "    for idx, (train, test) in enumerate(tqdm(kf.split(train_input))):\n",
    "        X_train, X_test = train_input[train], train_input[test]\n",
    "        y_train, y_test = train_target[train], train_target[test]\n",
    "        Y = np.concatenate((np.nan * y_test, y_train))\n",
    "        prediction = predictor(*((X_train, X_test, y_train) + args))\n",
    "        error = compute_error(y_test, prediction)\n",
    "        errors.append(error)\n",
    "    return np.mean(errors)"
   ]
  },
  {
   "cell_type": "code",
   "execution_count": 60,
   "metadata": {
    "collapsed": true
   },
   "outputs": [],
   "source": [
    "def predictor_RFR(X_train, X_test, y_train, n_estimators=10):\n",
    "    \"\"\"Return prediciton of random forests regressor\"\"\"\n",
    "    forest = RandomForestRegressor(n_estimators=n_estimators)\n",
    "    forest.fit(X_train, y_train)\n",
    "    return forest.predict(X_test)\n",
    "\n",
    "def predictor_mean(X_train, X_test, y_train):\n",
    "    \"\"\"Return mean value as prediciotn for missing value\"\"\"\n",
    "    dim = y_train.shape[-1]\n",
    "    n_data = len(X_test)\n",
    "    imp = Imputer(missing_values=np.nan, strategy='mean', axis=0)\n",
    "    Y = np.concatenate((np.nan * np.zeros((n_data, dim)), y_train), axis=0)\n",
    "    return imp.fit_transform(Y)[:n_data]"
   ]
  },
  {
   "cell_type": "code",
   "execution_count": 118,
   "metadata": {
    "collapsed": false
   },
   "outputs": [
    {
     "name": "stderr",
     "output_type": "stream",
     "text": [
      "10it [00:00, 213.62it/s]"
     ]
    },
    {
     "name": "stdout",
     "output_type": "stream",
     "text": [
      "0.667816339464\n",
      "CPU times: user 80 ms, sys: 12 ms, total: 92 ms\n",
      "Wall time: 90.6 ms\n"
     ]
    },
    {
     "name": "stderr",
     "output_type": "stream",
     "text": [
      "\n"
     ]
    }
   ],
   "source": [
    "%%time\n",
    "\n",
    "mean_error = evaluate_completion(complete_data[0], complete_data[1], predictor_mean)\n",
    "print(mean_error)"
   ]
  },
  {
   "cell_type": "markdown",
   "metadata": {},
   "source": [
    "Let's see the change of the performance depending on the size of selected features."
   ]
  },
  {
   "cell_type": "code",
   "execution_count": 77,
   "metadata": {
    "collapsed": false
   },
   "outputs": [
    {
     "data": {
      "text/plain": [
       "[1, 2, 4, 10, 21, 46, 100, 215, 464, 1000, 1555]"
      ]
     },
     "execution_count": 77,
     "metadata": {},
     "output_type": "execute_result"
    }
   ],
   "source": [
    "# the number of features to check the performance\n",
    "logspace = np.logspace(0, int(np.log10(len(index))), 10)\n",
    "logspace = [int(x) for x in logspace]\n",
    "logspace.append(len(index))\n",
    "logspace"
   ]
  },
  {
   "cell_type": "code",
   "execution_count": 123,
   "metadata": {
    "collapsed": false
   },
   "outputs": [
    {
     "name": "stderr",
     "output_type": "stream",
     "text": [
      "10it [00:02,  4.69it/s]\n",
      "10it [00:02,  4.63it/s]\n",
      "10it [00:02,  4.65it/s]\n",
      "10it [00:02,  4.29it/s]\n",
      "10it [00:02,  3.52it/s]\n",
      "10it [00:04,  2.10it/s]\n",
      "10it [00:10,  1.07s/it]\n",
      "10it [00:24,  2.46s/it]\n",
      "10it [00:57,  5.76s/it]\n",
      "10it [02:08, 12.85s/it]\n",
      "10it [03:26, 20.06s/it]"
     ]
    },
    {
     "name": "stdout",
     "output_type": "stream",
     "text": [
      "CPU times: user 7min 24s, sys: 136 ms, total: 7min 24s\n",
      "Wall time: 7min 24s\n"
     ]
    },
    {
     "name": "stderr",
     "output_type": "stream",
     "text": [
      "\n"
     ]
    }
   ],
   "source": [
    "%%time\n",
    "\n",
    "errors = []\n",
    "for i in logspace:\n",
    "    errors.append(evaluate_completion(complete_data[0], complete_data[1][:, index[:i]], predictor_RFR, 100))"
   ]
  },
  {
   "cell_type": "code",
   "execution_count": 126,
   "metadata": {
    "collapsed": false
   },
   "outputs": [
    {
     "name": "stdout",
     "output_type": "stream",
     "text": [
      "index oredered by feature importance:\n",
      "[1240  348 1332 ...,  176  767 1554]\n",
      "index permuated at random:\n",
      "[1382  670  484 ...,  125  718 1134]\n"
     ]
    }
   ],
   "source": [
    "shuffle_index = index.copy()\n",
    "np.random.shuffle(shuffle_index)\n",
    "print('index oredered by feature importance:')\n",
    "print(index)\n",
    "print('index permuated at random:')\n",
    "print(shuffle_index)"
   ]
  },
  {
   "cell_type": "code",
   "execution_count": 124,
   "metadata": {
    "collapsed": false
   },
   "outputs": [
    {
     "name": "stderr",
     "output_type": "stream",
     "text": [
      "10it [00:02,  4.50it/s]\n",
      "10it [00:02,  4.85it/s]\n",
      "10it [00:02,  4.66it/s]\n",
      "10it [00:02,  4.20it/s]\n",
      "10it [00:02,  3.34it/s]\n",
      "10it [00:04,  2.40it/s]\n",
      "10it [00:07,  1.36it/s]\n",
      "10it [00:17,  1.78s/it]\n",
      "10it [00:42,  4.26s/it]\n",
      "10it [01:37,  9.46s/it]\n",
      "10it [03:26, 21.05s/it]"
     ]
    },
    {
     "name": "stdout",
     "output_type": "stream",
     "text": [
      "CPU times: user 6min 27s, sys: 52 ms, total: 6min 27s\n",
      "Wall time: 6min 27s\n"
     ]
    },
    {
     "name": "stderr",
     "output_type": "stream",
     "text": [
      "\n"
     ]
    }
   ],
   "source": [
    "%%time\n",
    "\n",
    "shuffle_errors = []\n",
    "for i in logspace:\n",
    "    shuffle_errors.append(evaluate_completion(complete_data[0], complete_data[1][:, shuffle_index[:i]], predictor_RFR, 100))"
   ]
  },
  {
   "cell_type": "code",
   "execution_count": 125,
   "metadata": {
    "collapsed": false
   },
   "outputs": [
    {
     "data": {
      "image/png": "[encoded data removed]",
      "text/plain": [
       "<matplotlib.figure.Figure at 0x7f38265df3d0>"
      ]
     },
     "metadata": {},
     "output_type": "display_data"
    }
   ],
   "source": [
    "fig, ax = plt.subplots()\n",
    "\n",
    "ax.set_ylabel('Error')\n",
    "ax.set_title('Error of Random Forests over Different Size Features')\n",
    "\n",
    "\n",
    "ax.plot(logspace, errors, label='RFR')\n",
    "ax.plot(logspace, shuffle_errors, label='RFR_shuffled')\n",
    "ax.plot(logspace, mean_error * np.ones_like(errors), label='Mean')\n",
    "ax.set_xlabel('The number of features')\n",
    "ax.set_xscale('log')\n",
    "_ = ax.legend(loc='lower left')"
   ]
  },
  {
   "cell_type": "markdown",
   "metadata": {},
   "source": [
    "'Mean' corresponds to the performance of filling unknown value with mean and both 'RFR' and 'RFR_shuffled' corresponds to that with random forests. While adding features with the order of the importance in 'RFR', adding features with a random order in 'RFR_shuffle'. Throughout the various number of features input, feature selection based on the importance of feature works better. This implies that random forests succeeded to choose features from the effective ones. "
   ]
  },
  {
   "cell_type": "markdown",
   "metadata": {},
   "source": [
    "### Neural Network"
   ]
  },
  {
   "cell_type": "markdown",
   "metadata": {},
   "source": [
    "Next, we consider neural network. Though generally speaking, neural network has strong performance in high dimensional input, we see the relation between performance and feature importance of random forets."
   ]
  },
  {
   "cell_type": "code",
   "execution_count": 149,
   "metadata": {
    "collapsed": true
   },
   "outputs": [],
   "source": [
    "def build_network(conf, input_shape):\n",
    "    \"\"\"Build network\"\"\"\n",
    "    model = Sequential()\n",
    "    model.add(Lambda(lambda x: x,  input_shape=input_shape))\n",
    "    for x in conf:\n",
    "        if x['is_drop']:\n",
    "            model.add(Dropout(x['drop_rate']))\n",
    "        model.add(Dense(x['n_feature']))      \n",
    "        if x['is_batch']:\n",
    "            model.add(BatchNormalization(mode=1, axis=-1))     \n",
    "        if x['activation'] is None:\n",
    "            pass\n",
    "        if x['activation'] is 'prelu':\n",
    "            model.add(PReLU())\n",
    "        else:\n",
    "            model.add(Activation(x['activation']))\n",
    "    return model\n",
    "    \n",
    "def customized_accuracy(y, prediction):\n",
    "    error = K.abs(prediction - y) / K.abs(y)\n",
    "    return K.mean(error)\n",
    "\n",
    "def customized_loss(y, prediction):\n",
    "    loss = K.abs(prediction - y) / K.abs(y)\n",
    "    return K.sum(loss)\n",
    "\n",
    "def predictor_NN(X_train, X_test, y_train, conf, loss, metrics, is_clear=True):\n",
    "    if is_clear:\n",
    "        K.clear_session()\n",
    "    input_shape = X_train.shape[1:]\n",
    "    model = build_network(conf.model_config, input_shape)\n",
    "    opt = Adam(lr=conf.learning_rate)\n",
    "    model.compile(loss=loss,\n",
    "              optimizer=opt,\n",
    "              metrics=[metrics])\n",
    "    model.fit(X_train, y_train, nb_epoch=conf.n_epoch, batch_size=conf.batch_size, verbose=0)\n",
    "    return model.predict(X_test)"
   ]
  },
  {
   "cell_type": "code",
   "execution_count": 175,
   "metadata": {
    "collapsed": false
   },
   "outputs": [
    {
     "name": "stderr",
     "output_type": "stream",
     "text": [
      "10it [01:40,  9.99s/it]\n",
      "10it [01:37,  9.75s/it]\n",
      "10it [01:38,  9.75s/it]\n",
      "10it [01:40,  9.94s/it]\n",
      "10it [01:38, 10.02s/it]\n",
      "10it [01:40, 10.01s/it]\n",
      "10it [01:44, 10.16s/it]\n",
      "10it [01:40,  9.99s/it]\n",
      "10it [01:45, 10.58s/it]\n",
      "10it [01:52, 11.15s/it]\n",
      "10it [02:00, 12.12s/it]"
     ]
    },
    {
     "name": "stdout",
     "output_type": "stream",
     "text": [
      "CPU times: user 29min 27s, sys: 2min 1s, total: 31min 29s\n",
      "Wall time: 18min 59s\n"
     ]
    },
    {
     "name": "stderr",
     "output_type": "stream",
     "text": [
      "\n"
     ]
    }
   ],
   "source": [
    "%%time\n",
    "\n",
    "errors_NN = []\n",
    "for i in logspace:\n",
    "    input_shape = i\n",
    "    output_dim = complete_data[0].shape[-1]\n",
    "\n",
    "    class Config(object):\n",
    "        n_epoch = 100\n",
    "        learning_rate = 1e-3\n",
    "        batch_size = 128\n",
    "        input_shape = input_shape\n",
    "        # confriguration of the architecture of network\n",
    "        model_config = [{'n_feature': int(0.5 * dim) if int(0.5 * dim) > 10 else 10,\n",
    "                         'activation': 'prelu', 'is_batch': True, 'is_drop': False},\n",
    "                        {'n_feature': int(0.5**2 * dim) if int(0.5**2 * dim) > 10 else 10,\n",
    "                         'activation': 'prelu', 'is_batch': True, 'is_drop': False},\n",
    "                        {'n_feature': int(0.5**3 * dim) if int(0.5**3 * dim) > 10 else 10,\n",
    "                         'activation': 'prelu', 'is_batch': True, 'is_drop': False},\n",
    "                        {'n_feature': output_dim,'activation': None, 'is_batch': False, \n",
    "                         'is_drop': False, 'drop_rate': 0.5}]\n",
    "        \n",
    "    conf = Config()\n",
    "    error = evaluate_completion(complete_data[0], complete_data[1][:, index[:i]],\n",
    "                            predictor_NN, conf, customized_loss, customized_accuracy)\n",
    "    errors_NN.append(error)"
   ]
  },
  {
   "cell_type": "code",
   "execution_count": 176,
   "metadata": {
    "collapsed": false
   },
   "outputs": [
    {
     "name": "stderr",
     "output_type": "stream",
     "text": [
      "10it [01:39, 10.02s/it]\n",
      "10it [01:41,  9.91s/it]\n",
      "10it [01:41, 10.02s/it]\n",
      "10it [01:38,  9.91s/it]\n",
      "10it [01:42, 10.16s/it]\n",
      "10it [01:41, 10.07s/it]\n",
      "10it [01:40, 10.07s/it]\n",
      "10it [01:41, 10.10s/it]\n",
      "10it [01:48, 10.83s/it]\n",
      "10it [01:52, 11.33s/it]\n",
      "10it [01:58, 11.87s/it]"
     ]
    },
    {
     "name": "stdout",
     "output_type": "stream",
     "text": [
      "CPU times: user 29min 37s, sys: 2min 3s, total: 31min 41s\n",
      "Wall time: 19min 7s\n"
     ]
    },
    {
     "name": "stderr",
     "output_type": "stream",
     "text": [
      "\n"
     ]
    }
   ],
   "source": [
    "%%time\n",
    "\n",
    "errors_NN_shuffle = []\n",
    "for i in logspace:\n",
    "    input_shape = i\n",
    "    output_dim = complete_data[0].shape[-1]\n",
    "\n",
    "    class Config(object):\n",
    "        n_epoch = 100\n",
    "        learning_rate = 1e-3\n",
    "        batch_size = 128\n",
    "        input_shape = input_shape\n",
    "        model_config = [{'n_feature': int(0.5 * dim) if int(0.5 * dim) > 10 else 10,'activation': 'prelu', 'is_batch': True, 'is_drop': False},\n",
    "                    {'n_feature': int(0.5**2 * dim) if int(0.5**2 * dim) > 10 else 10,'activation': 'prelu', 'is_batch': True, 'is_drop': False},\n",
    "                    {'n_feature': int(0.5**3 * dim) if int(0.5**3 * dim) > 10 else 10,'activation': 'prelu', 'is_batch': True, 'is_drop': False},\n",
    "                    {'n_feature': output_dim,'activation': None, 'is_batch': False, 'is_drop': False, \n",
    "                     'drop_rate': 0.5}]\n",
    "        \n",
    "    conf = Config()\n",
    "    error = evaluate_completion(complete_data[0], complete_data[1][:, shuffle_index[:i]],\n",
    "                            predictor_NN, conf, customized_loss, customized_accuracy)\n",
    "    errors_NN_shuffle.append(error)"
   ]
  },
  {
   "cell_type": "code",
   "execution_count": 189,
   "metadata": {
    "collapsed": false
   },
   "outputs": [
    {
     "data": {
      "image/png": "[encoded data removed]",
      "text/plain": [
       "<matplotlib.figure.Figure at 0x7f382435c890>"
      ]
     },
     "metadata": {},
     "output_type": "display_data"
    }
   ],
   "source": [
    "fig, ax = plt.subplots()\n",
    "\n",
    "ax.set_ylabel('Error')\n",
    "ax.set_title('Error of Neural Network over Different Size Features')\n",
    "ax.set_yscale('log')\n",
    "\n",
    "ax.plot(logspace, errors_NN, label='NN', color='b')\n",
    "ax.plot(logspace, errors_NN_shuffle, label='NN_shuffled', color='g')\n",
    "ax.plot(logspace, mean_error * np.ones_like(errors), label='Mean', color='r')\n",
    "ax.set_xlabel('The number of features')\n",
    "ax.set_xscale('log')\n",
    "_ = ax.legend(loc='upper left')"
   ]
  },
  {
   "cell_type": "code",
   "execution_count": 191,
   "metadata": {
    "collapsed": false
   },
   "outputs": [
    {
     "data": {
      "image/png": "[encoded data removed]",
      "text/plain": [
       "<matplotlib.figure.Figure at 0x7f3824447d10>"
      ]
     },
     "metadata": {},
     "output_type": "display_data"
    }
   ],
   "source": [
    "fig, ax = plt.subplots()\n",
    "\n",
    "ax.set_ylabel('Error')\n",
    "ax.set_title('Error of Neural Network over Different Size Features')\n",
    "\n",
    "ax.plot(logspace, errors_NN, label='NN', color='b')\n",
    "ax.plot(logspace, mean_error * np.ones_like(errors), label='Mean', color='r')\n",
    "ax.set_xlabel('The number of features')\n",
    "ax.set_xscale('log')\n",
    "_ = ax.legend(loc='upper left')"
   ]
  },
  {
   "cell_type": "markdown",
   "metadata": {},
   "source": [
    "As we expected, neural network had poor performances in the lower dimensional input. Neural network did not work well until input dimension reaches around 1000. It is, however, interesting that the neural network with input selected by feature importance has improved their performance rapidly compared to the neural network with input selected at random. This imply the possibility that feature importance of random forests improve other algorithms: especially algorithms working well with small dimensional input. "
   ]
  },
  {
   "cell_type": "markdown",
   "metadata": {},
   "source": [
    "### Linear Regression"
   ]
  },
  {
   "cell_type": "markdown",
   "metadata": {},
   "source": [
    "Linear regression is one of the models that performs well with small number of features. If the input dimension goes up, the model becomes unstable and more likely ends up overfitting. Let's see the effectiveness of feature of importance for linear regression."
   ]
  },
  {
   "cell_type": "code",
   "execution_count": 196,
   "metadata": {
    "collapsed": true
   },
   "outputs": [],
   "source": [
    "def predictor_linear(X_train, X_test, y_train, n_estimators=10):\n",
    "    \"\"\"Return prediciton of vanilla linear regressor\"\"\"\n",
    "    regr = LinearRegression()\n",
    "    regr.fit(X_train, y_train)\n",
    "    return regr.predict(X_test)"
   ]
  },
  {
   "cell_type": "code",
   "execution_count": 197,
   "metadata": {
    "collapsed": false
   },
   "outputs": [
    {
     "name": "stderr",
     "output_type": "stream",
     "text": [
      "10it [00:00, 1504.20it/s]\n",
      "10it [00:00, 1796.35it/s]\n",
      "10it [00:00, 1632.66it/s]\n",
      "10it [00:00, 1234.85it/s]\n",
      "10it [00:00, 522.63it/s]\n",
      "10it [00:00, 138.47it/s]\n",
      "10it [00:00, 70.36it/s]\n",
      "10it [00:00, 31.46it/s]\n",
      "10it [00:00, 12.03it/s]\n",
      "10it [00:02,  3.40it/s]\n",
      "10it [00:15,  1.49s/it]\n"
     ]
    }
   ],
   "source": [
    "errors_linear = []\n",
    "for i in logspace:\n",
    "    errors_linear.append(\n",
    "        evaluate_completion(complete_data[0], complete_data[1][:, index[:i]], predictor_linear))"
   ]
  },
  {
   "cell_type": "code",
   "execution_count": 198,
   "metadata": {
    "collapsed": false
   },
   "outputs": [
    {
     "name": "stderr",
     "output_type": "stream",
     "text": [
      "10it [00:00, 2104.83it/s]\n",
      "10it [00:00, 1858.44it/s]\n",
      "10it [00:00, 1723.85it/s]\n",
      "10it [00:00, 1235.65it/s]\n",
      "10it [00:00, 276.63it/s]\n",
      "10it [00:00, 193.49it/s]\n",
      "10it [00:00, 69.66it/s]\n",
      "10it [00:00, 35.34it/s]\n",
      "10it [00:00, 13.04it/s]\n",
      "10it [00:04,  2.52it/s]\n",
      "10it [00:15,  1.47s/it]\n"
     ]
    }
   ],
   "source": [
    "errors_linear_shuffle = []\n",
    "for i in logspace:\n",
    "    errors_linear_shuffle.append(\n",
    "        evaluate_completion(complete_data[0], complete_data[1][:, shuffle_index[:i]], predictor_linear))"
   ]
  },
  {
   "cell_type": "code",
   "execution_count": 200,
   "metadata": {
    "collapsed": false
   },
   "outputs": [
    {
     "data": {
      "image/png": "[encoded data removed]",
      "text/plain": [
       "<matplotlib.figure.Figure at 0x7f3821b44490>"
      ]
     },
     "metadata": {},
     "output_type": "display_data"
    }
   ],
   "source": [
    "fig, ax = plt.subplots()\n",
    "\n",
    "ax.set_ylabel('Error')\n",
    "ax.set_title('Error of Linear Regression over Different Size Features')\n",
    "\n",
    "ax.plot(logspace, errors_linear, label='linear', color='b')\n",
    "ax.plot(logspace, errors_linear_shuffle, label='linear_shuffled', color='g')\n",
    "ax.plot(logspace, mean_error * np.ones_like(errors), label='Mean', color='r')\n",
    "ax.set_xlabel('The number of features')\n",
    "ax.set_xscale('log')\n",
    "_ = ax.legend(loc='upper left')"
   ]
  },
  {
   "cell_type": "markdown",
   "metadata": {},
   "source": [
    "The importance of feature seems to work on linear regression, too. The performance attains the peak around 20 dimensional feature input."
   ]
  },
  {
   "cell_type": "markdown",
   "metadata": {},
   "source": [
    "### ARD"
   ]
  },
  {
   "cell_type": "markdown",
   "metadata": {},
   "source": [
    "Next, we consider the feature selection with ARD. We use independent model for each continous atttributes."
   ]
  },
  {
   "cell_type": "code",
   "execution_count": 185,
   "metadata": {
    "collapsed": true
   },
   "outputs": [],
   "source": [
    "def get_ARD(X_train, y_train):\n",
    "    ards = []\n",
    "    for i in xrange(3):\n",
    "        regr = ARDRegression()\n",
    "        regr.fit(X_train, y_train[:, i])\n",
    "        ards.append(regr)\n",
    "    return ards"
   ]
  },
  {
   "cell_type": "code",
   "execution_count": 186,
   "metadata": {
    "collapsed": true
   },
   "outputs": [],
   "source": [
    "def predictor_ARD(X_train, X_test, y_train):\n",
    "    predictions = []\n",
    "    for i in xrange(3):\n",
    "        regr = ARDRegression()\n",
    "        regr.fit(X_train, y_train[:, i])\n",
    "        predictions.append(regr.predict(X_test))\n",
    "    return np.array(predictions).T"
   ]
  },
  {
   "cell_type": "code",
   "execution_count": 188,
   "metadata": {
    "collapsed": false
   },
   "outputs": [
    {
     "name": "stdout",
     "output_type": "stream",
     "text": [
      "CPU times: user 2h 30min 42s, sys: 1h 49min 21s, total: 4h 20min 4s\n",
      "Wall time: 33min 27s\n"
     ]
    }
   ],
   "source": [
    "%%time\n",
    "ards = get_ARD(complete_data[1], complete_data[0])"
   ]
  },
  {
   "cell_type": "markdown",
   "metadata": {},
   "source": [
    "The following figures show the weight coefficients, which correspond to how much corresponding features contribute to the prediction."
   ]
  },
  {
   "cell_type": "code",
   "execution_count": 204,
   "metadata": {
    "collapsed": false
   },
   "outputs": [
    {
     "data": {
      "text/plain": [
       "[<matplotlib.lines.Line2D at 0x7f38213bc6d0>]"
      ]
     },
     "execution_count": 204,
     "metadata": {},
     "output_type": "execute_result"
    },
    {
     "data": {
      "image/png": "[encoded data removed]",
      "text/plain": [
       "<matplotlib.figure.Figure at 0x7f3821b44a50>"
      ]
     },
     "metadata": {},
     "output_type": "display_data"
    }
   ],
   "source": [
    "plt.plot(ards[0].coef_)"
   ]
  },
  {
   "cell_type": "code",
   "execution_count": 205,
   "metadata": {
    "collapsed": false
   },
   "outputs": [
    {
     "data": {
      "text/plain": [
       "[<matplotlib.lines.Line2D at 0x7f38282b8250>]"
      ]
     },
     "execution_count": 205,
     "metadata": {},
     "output_type": "execute_result"
    },
    {
     "data": {
      "image/png": "[encoded data removed]",
      "text/plain": [
       "<matplotlib.figure.Figure at 0x7f3829182a10>"
      ]
     },
     "metadata": {},
     "output_type": "display_data"
    }
   ],
   "source": [
    "plt.plot(ards[1].coef_)"
   ]
  },
  {
   "cell_type": "code",
   "execution_count": 206,
   "metadata": {
    "collapsed": false
   },
   "outputs": [
    {
     "data": {
      "text/plain": [
       "[<matplotlib.lines.Line2D at 0x7f3826ed16d0>]"
      ]
     },
     "execution_count": 206,
     "metadata": {},
     "output_type": "execute_result"
    },
    {
     "data": {
      "image/png": "[encoded data removed]",
      "text/plain": [
       "<matplotlib.figure.Figure at 0x7f3820c5a1d0>"
      ]
     },
     "metadata": {},
     "output_type": "display_data"
    }
   ],
   "source": [
    "plt.plot(ards[2].coef_)"
   ]
  },
  {
   "cell_type": "markdown",
   "metadata": {},
   "source": [
    "Next, we consider compare features selection of ARD to the feature of importance of random forests. In ARD, the bigger absolute values are regards as the more important features. Hence, we order feature index according to the absolute value of weights and see if this order is simlar to the importance of features. "
   ]
  },
  {
   "cell_type": "code",
   "execution_count": 208,
   "metadata": {
    "collapsed": true
   },
   "outputs": [],
   "source": [
    "indices = []\n",
    "\n",
    "for i in xrange(3):\n",
    "    indices.append(np.argsort(np.abs(ards[i].coef_))[::-1])"
   ]
  },
  {
   "cell_type": "code",
   "execution_count": 226,
   "metadata": {
    "collapsed": false
   },
   "outputs": [
    {
     "data": {
      "image/png": "[encoded data removed]",
      "text/plain": [
       "<matplotlib.figure.Figure at 0x7f38215cd190>"
      ]
     },
     "metadata": {},
     "output_type": "display_data"
    }
   ],
   "source": [
    "_ = plt.bar(np.arange(len(indices[0])), forest.feature_importances_[indices[0]])"
   ]
  },
  {
   "cell_type": "code",
   "execution_count": 227,
   "metadata": {
    "collapsed": false
   },
   "outputs": [
    {
     "data": {
      "image/png": "[encoded data removed]",
      "text/plain": [
       "<matplotlib.figure.Figure at 0x7f379ecadc10>"
      ]
     },
     "metadata": {},
     "output_type": "display_data"
    }
   ],
   "source": [
    "_ = plt.bar(np.arange(len(indices[1])), forest.feature_importances_[indices[1]])"
   ]
  },
  {
   "cell_type": "code",
   "execution_count": 228,
   "metadata": {
    "collapsed": false
   },
   "outputs": [
    {
     "data": {
      "image/png": "[encoded data removed]",
      "text/plain": [
       "<matplotlib.figure.Figure at 0x7f381dad8790>"
      ]
     },
     "metadata": {},
     "output_type": "display_data"
    }
   ],
   "source": [
    "_ = plt.bar(np.arange(len(indices[2])), forest.feature_importances_[indices[2]])"
   ]
  },
  {
   "cell_type": "markdown",
   "metadata": {},
   "source": [
    "Features with high importace of features seems to not necessary comes to the first. Thus, feature selection by ARD is different from that by random forests. Let's see the performance."
   ]
  },
  {
   "cell_type": "code",
   "execution_count": null,
   "metadata": {
    "collapsed": false
   },
   "outputs": [
    {
     "name": "stderr",
     "output_type": "stream",
     "text": [
      "\r",
      "0it [00:00, ?it/s]"
     ]
    }
   ],
   "source": [
    "%%time\n",
    "\n",
    "error_ARD = evaluate_completion(complete_data[0], complete_data[1], predictor_ARD)\n",
    "print(error_ARD)"
   ]
  },
  {
   "cell_type": "markdown",
   "metadata": {
    "collapsed": false
   },
   "source": [
    "Now, we work on completion. First, we consider the completion of binary attributes. Binary attirbutes are sparse. Hence complewith with mean value is good enough"
   ]
  },
  {
   "cell_type": "markdown",
   "metadata": {},
   "source": [
    "### Compare the performances"
   ]
  },
  {
   "cell_type": "code",
   "execution_count": 236,
   "metadata": {
    "collapsed": false
   },
   "outputs": [
    {
     "data": {
      "image/png": "[encoded data removed]",
      "text/plain": [
       "<matplotlib.figure.Figure at 0x7f37f92500d0>"
      ]
     },
     "metadata": {},
     "output_type": "display_data"
    }
   ],
   "source": [
    "fig, ax = plt.subplots()\n",
    "\n",
    "ax.set_ylabel('Error')\n",
    "ax.set_title('Errors over Different Size Features')\n",
    "\n",
    "ax.plot(logspace, mean_error * np.ones_like(errors), label='Mean', color='r')\n",
    "ax.plot(logspace, errors, label='RFR', color='b')\n",
    "ax.plot(logspace, errors_NN, label='NN', color='g')\n",
    "ax.plot(logspace, errors_linear, label='linear', color='k')\n",
    "# ax.plot(logspace, error_ARD * np.ones_like(errors), label='ARD')\n",
    "\n",
    "ax.set_xlabel('The number of features')\n",
    "ax.set_xscale('log')\n",
    "_ = ax.legend(loc='upper left')"
   ]
  },
  {
   "cell_type": "code",
   "execution_count": 239,
   "metadata": {
    "collapsed": false
   },
   "outputs": [
    {
     "data": {
      "text/plain": [
       "1000"
      ]
     },
     "execution_count": 239,
     "metadata": {},
     "output_type": "execute_result"
    }
   ],
   "source": [
    "logspace[np.argmin(errors)]"
   ]
  },
  {
   "cell_type": "markdown",
   "metadata": {},
   "source": [
    "Thus, taking 1000 input features from the largest importace of features with random forests leads to the best completion. We use this to fill unkonwn three dimensional continuous variables. "
   ]
  },
  {
   "cell_type": "code",
   "execution_count": 242,
   "metadata": {
    "collapsed": false
   },
   "outputs": [
    {
     "data": {
      "text/plain": [
       "(3279, 3)"
      ]
     },
     "execution_count": 242,
     "metadata": {},
     "output_type": "execute_result"
    }
   ],
   "source": [
    "data[0].shape"
   ]
  },
  {
   "cell_type": "code",
   "execution_count": 244,
   "metadata": {
    "collapsed": false
   },
   "outputs": [
    {
     "data": {
      "text/plain": [
       "array([1240,  348, 1332, ...,  176,  767, 1554])"
      ]
     },
     "execution_count": 244,
     "metadata": {},
     "output_type": "execute_result"
    }
   ],
   "source": [
    "index"
   ]
  },
  {
   "cell_type": "markdown",
   "metadata": {},
   "source": [
    "There are  only 16 instances with missing values in binary attributes and most of available binary values are zero.  We guess that these attributes do not change drastically and inaccuracies of these values do not make a significant effect on the prediction quality. Therefore, filled missing binary attributes with mean values might be enough. "
   ]
  },
  {
   "cell_type": "code",
   "execution_count": 338,
   "metadata": {
    "collapsed": true
   },
   "outputs": [],
   "source": [
    "def completion(cont_data, binary_data, index):\n",
    "    train_input = []\n",
    "    train_target = []\n",
    "    test_input = []\n",
    "    count = 0\n",
    "    imp = Imputer(missing_values=np.nan, strategy='mean')\n",
    "    binary_data = imp.fit_transform(binary_data)\n",
    "    for cont, bi in zip(cont_data, binary_data):\n",
    "        if True in np.isnan(cont):\n",
    "            test_input.append(bi)\n",
    "        else:\n",
    "            train_input.append(bi)\n",
    "            train_target.append(cont)\n",
    "    train_input = np.array(train_input)\n",
    "    train_target = np.array(train_target)\n",
    "    test_input = np.array(test_input)\n",
    "    forest = RandomForestRegressor(n_estimators = 100) \n",
    "    forest.fit(train_input[:, index], train_target)\n",
    "    prediction = forest.predict(test_input[:, index])\n",
    "    cont_data = np.concatenate((train_target, prediction), axis=0)\n",
    "    binary_data = np.concatenate((train_input, test_input), axis=0)\n",
    "    return cont_data, binary_data"
   ]
  },
  {
   "cell_type": "code",
   "execution_count": 339,
   "metadata": {
    "collapsed": false
   },
   "outputs": [
    {
     "data": {
      "text/plain": [
       "array([1240,  348, 1332, ...,  113,  112,  350])"
      ]
     },
     "execution_count": 339,
     "metadata": {},
     "output_type": "execute_result"
    }
   ],
   "source": [
    "index"
   ]
  },
  {
   "cell_type": "code",
   "execution_count": 340,
   "metadata": {
    "collapsed": false
   },
   "outputs": [
    {
     "name": "stdout",
     "output_type": "stream",
     "text": [
      "CPU times: user 11.8 s, sys: 16 ms, total: 11.8 s\n",
      "Wall time: 11.7 s\n"
     ]
    }
   ],
   "source": [
    "%%time \n",
    "# use top 1000 importance of features \n",
    "filled_cont, filled_binary = completion(data[0], data[1], index[:1000])"
   ]
  },
  {
   "cell_type": "markdown",
   "metadata": {},
   "source": [
    "## 2.2. Prediction"
   ]
  },
  {
   "cell_type": "markdown",
   "metadata": {},
   "source": [
    "In the same way as completion, input feature dimension is large compared to the training set size. Therefore, we consider reducing dimension with importance of feature with random forests. We use the data completed in the previous section."
   ]
  },
  {
   "cell_type": "code",
   "execution_count": 342,
   "metadata": {
    "collapsed": false
   },
   "outputs": [],
   "source": [
    "X = np.concatenate((filled_cont, filled_binary), axis=1)"
   ]
  },
  {
   "cell_type": "code",
   "execution_count": 372,
   "metadata": {
    "collapsed": false
   },
   "outputs": [
    {
     "name": "stdout",
     "output_type": "stream",
     "text": [
      "CPU times: user 30.2 s, sys: 80 ms, total: 30.2 s\n",
      "Wall time: 30 s\n"
     ]
    }
   ],
   "source": [
    "%%time\n",
    "\n",
    "forest = RandomForestClassifier(n_estimators=1000)\n",
    "forest.fit(X, data[2])"
   ]
  },
  {
   "cell_type": "code",
   "execution_count": 373,
   "metadata": {
    "collapsed": false
   },
   "outputs": [
    {
     "data": {
      "image/png": "[encoded data removed]",
      "text/plain": [
       "<matplotlib.figure.Figure at 0x7f379d494250>"
      ]
     },
     "metadata": {},
     "output_type": "display_data"
    }
   ],
   "source": [
    "# get idnex of features in descending order of the importance\n",
    "new_index = np.argsort(forest.feature_importances_)[::-1]\n",
    "n_data = len(forest.feature_importances_)\n",
    "_ = plt.bar(np.arange(n_data), forest.feature_importances_[new_index])"
   ]
  },
  {
   "cell_type": "code",
   "execution_count": 374,
   "metadata": {
    "collapsed": false
   },
   "outputs": [
    {
     "data": {
      "image/png": "[encoded data removed]",
      "text/plain": [
       "<matplotlib.figure.Figure at 0x7f3827cc3a90>"
      ]
     },
     "metadata": {},
     "output_type": "display_data"
    }
   ],
   "source": [
    "_ = plt.bar(np.arange(10), forest.feature_importances_[new_index[:10]])"
   ]
  },
  {
   "cell_type": "code",
   "execution_count": 346,
   "metadata": {
    "collapsed": false
   },
   "outputs": [
    {
     "name": "stdout",
     "output_type": "stream",
     "text": [
      "[   2    1    0 ..., 1411  963  569]\n"
     ]
    }
   ],
   "source": [
    "print(new_index)"
   ]
  },
  {
   "cell_type": "markdown",
   "metadata": {},
   "source": [
    "It seems that three continuous variables are significant at the prediction stage."
   ]
  },
  {
   "cell_type": "markdown",
   "metadata": {},
   "source": [
    "In the same way as the previous section, we compare the features selected based on importance of feature with randomly selected features."
   ]
  },
  {
   "cell_type": "code",
   "execution_count": 365,
   "metadata": {
    "collapsed": false
   },
   "outputs": [
    {
     "name": "stdout",
     "output_type": "stream",
     "text": [
      "index oredered by feature importance:\n",
      "[   2    1    0 ..., 1411  963  569]\n",
      "index permuated at random:\n",
      "[1273 1293  904 ..., 1549 1249 1043]\n"
     ]
    }
   ],
   "source": [
    "shuffle_index = new_index.copy()\n",
    "np.random.shuffle(shuffle_index)\n",
    "print('index oredered by feature importance:')\n",
    "print(new_index)\n",
    "print('index permuated at random:')\n",
    "print(shuffle_index)"
   ]
  },
  {
   "cell_type": "code",
   "execution_count": 366,
   "metadata": {
    "collapsed": false
   },
   "outputs": [
    {
     "data": {
      "text/plain": [
       "[1, 2, 4, 10, 21, 46, 100, 215, 464, 1000, 1558]"
      ]
     },
     "execution_count": 366,
     "metadata": {},
     "output_type": "execute_result"
    }
   ],
   "source": [
    "# the number of features to check the performance\n",
    "new_logspace = np.logspace(0, int(np.log10(len(new_index))), 10)\n",
    "new_logspace = [int(x) for x in new_logspace]\n",
    "new_logspace.append(len(new_index))\n",
    "new_logspace"
   ]
  },
  {
   "cell_type": "markdown",
   "metadata": {},
   "source": [
    "We evaluate the algorithms with accuracy rather than error."
   ]
  },
  {
   "cell_type": "code",
   "execution_count": 367,
   "metadata": {
    "collapsed": true
   },
   "outputs": [],
   "source": [
    "def compute_accuracy(y, prediction):\n",
    "    error = 0.5 * np.abs(prediction - y)\n",
    "    return 1 - np.mean(error)\n",
    "\n",
    "def evaluate_predictor(inputs, labels, predictor, *args):\n",
    "    kf = KFold(n_splits=10)\n",
    "    accuracies = []\n",
    "    for idx, (train, test) in enumerate(tqdm(kf.split(inputs))):\n",
    "        X_train, X_test = inputs[train], inputs[test]\n",
    "        y_train, y_test = labels[train], labels[test]\n",
    "        Y = np.concatenate((np.nan * y_test, y_train))\n",
    "        prediction = predictor(*((X_train, X_test, y_train) + args))\n",
    "        accuracy = compute_accuracy(y_test, prediction)\n",
    "        accuracies.append(accuracy)\n",
    "    return np.mean(accuracies)"
   ]
  },
  {
   "cell_type": "markdown",
   "metadata": {},
   "source": [
    "### Random Forests"
   ]
  },
  {
   "cell_type": "code",
   "execution_count": 463,
   "metadata": {
    "collapsed": true
   },
   "outputs": [],
   "source": [
    "def predictor_RFC(X_train, X_test, y_train, n_estimators=100, criterion='gini'):\n",
    "    \"\"\"Return prediciton of random forests regressor\"\"\"\n",
    "    forest = RandomForestClassifier(n_estimators=n_estimators, criterion=criterion)\n",
    "    forest.fit(X_train, y_train)\n",
    "    return forest.predict(X_test)"
   ]
  },
  {
   "cell_type": "code",
   "execution_count": 385,
   "metadata": {
    "collapsed": false
   },
   "outputs": [
    {
     "name": "stderr",
     "output_type": "stream",
     "text": [
      "10it [00:03,  2.65it/s]\n",
      "10it [00:03,  2.72it/s]\n",
      "10it [00:04,  2.44it/s]\n",
      "10it [00:03,  2.62it/s]\n",
      "10it [00:03,  2.62it/s]\n",
      "10it [00:04,  2.35it/s]\n",
      "10it [00:05,  1.88it/s]\n",
      "10it [00:06,  1.46it/s]\n",
      "10it [00:10,  1.02s/it]\n",
      "10it [00:16,  1.69s/it]\n",
      "10it [00:27,  2.75s/it]"
     ]
    },
    {
     "name": "stdout",
     "output_type": "stream",
     "text": [
      "CPU times: user 1min 30s, sys: 240 ms, total: 1min 31s\n",
      "Wall time: 1min 30s\n"
     ]
    },
    {
     "name": "stderr",
     "output_type": "stream",
     "text": [
      "\n"
     ]
    }
   ],
   "source": [
    "%%time\n",
    "\n",
    "accuracies_RF = []\n",
    "for i in new_logspace:\n",
    "    accuracies_RF.append(evaluate_predictor(X[:, new_index[:i]], data[2], predictor_RFC, 100))"
   ]
  },
  {
   "cell_type": "code",
   "execution_count": 382,
   "metadata": {
    "collapsed": false
   },
   "outputs": [
    {
     "name": "stderr",
     "output_type": "stream",
     "text": [
      "10it [00:02,  4.11it/s]\n",
      "10it [00:02,  4.27it/s]\n",
      "10it [00:02,  4.23it/s]\n",
      "10it [00:02,  4.00it/s]\n",
      "10it [00:02,  3.66it/s]\n",
      "10it [00:03,  2.88it/s]\n",
      "10it [00:05,  1.97it/s]\n",
      "10it [00:07,  1.26it/s]\n",
      "10it [00:11,  1.17s/it]\n",
      "10it [00:17,  1.72s/it]\n",
      "10it [00:27,  2.70s/it]"
     ]
    },
    {
     "name": "stdout",
     "output_type": "stream",
     "text": [
      "CPU times: user 1min 25s, sys: 244 ms, total: 1min 25s\n",
      "Wall time: 1min 24s\n"
     ]
    },
    {
     "name": "stderr",
     "output_type": "stream",
     "text": [
      "\n"
     ]
    }
   ],
   "source": [
    "%%time\n",
    "\n",
    "shuffle_accuracies_RF = []\n",
    "for i in new_logspace:\n",
    "    shuffle_accuracies_RF.append(evaluate_predictor(X[:, shuffle_index[:i]], data[2], predictor_RFC, 100))"
   ]
  },
  {
   "cell_type": "code",
   "execution_count": 386,
   "metadata": {
    "collapsed": false
   },
   "outputs": [
    {
     "data": {
      "image/png": "[encoded data removed]",
      "text/plain": [
       "<matplotlib.figure.Figure at 0x7f38293aebd0>"
      ]
     },
     "metadata": {},
     "output_type": "display_data"
    }
   ],
   "source": [
    "fig, ax = plt.subplots()\n",
    "\n",
    "ax.set_ylabel('Accuracy')\n",
    "ax.set_title('Accuracy of Random Forests over Different Size Features')\n",
    "\n",
    "ax.plot(new_logspace, accuracies_RF, label='RF', color='b')\n",
    "ax.plot(new_logspace, shuffle_accuracies_RF, label='RF_shuffled', color='g')\n",
    "ax.set_xlabel('The number of features')\n",
    "ax.set_xscale('log')\n",
    "_ = ax.legend(loc='upper right')"
   ]
  },
  {
   "cell_type": "markdown",
   "metadata": {},
   "source": [
    "Oops!! What is going on!? Using features selected by importance of feature has worse performance."
   ]
  },
  {
   "cell_type": "code",
   "execution_count": 414,
   "metadata": {
    "collapsed": false
   },
   "outputs": [
    {
     "data": {
      "text/plain": [
       "0.13998170173833485"
      ]
     },
     "execution_count": 414,
     "metadata": {},
     "output_type": "execute_result"
    }
   ],
   "source": [
    "np.mean(data[2])"
   ]
  },
  {
   "cell_type": "markdown",
   "metadata": {},
   "source": [
    "I see. The class distribution is skewed and positive instances occupy only about 14% of entire data. Consider the case where there are 99% negative and 1% positive instances. Even the predictor always return negative achieve 99% accuracy. On the other hand, a predictor that predict classify negative instances with 98% accuracy and positive instances with 99% accuracy achieve 98.01% accuracy as a whole. Does that mean the former predict is better than the latter one? Not necessary!. Sometimes, detecting the class occupying small portion of data is more important; e.g., cancer diagnosis. \n",
    "\n",
    "We consider different measures. Let’s consider True Positive Rate(TPR). TPR is the measure as to ratio of positive examples succeeded to detect:\n",
    "$$ TPR = \\frac{TP}{TP + FN},$$\n",
    "where TP is True Positive and FN is False Positive."
   ]
  },
  {
   "cell_type": "code",
   "execution_count": 422,
   "metadata": {
    "collapsed": true
   },
   "outputs": [],
   "source": [
    "def positive_func(x):\n",
    "    return 0.5 * (x + np.abs(x))"
   ]
  },
  {
   "cell_type": "code",
   "execution_count": 529,
   "metadata": {
    "collapsed": true
   },
   "outputs": [],
   "source": [
    "def compute_TPR(y, prediction):\n",
    "    n_pos = np.sum(y)\n",
    "    TPR = (n_pos - np.sum(positive_func(y - prediction))) / n_pos\n",
    "    return TPR\n",
    "\n",
    "\n",
    "def evaluate_predictor(inputs, labels, metrics, predictor, *args):\n",
    "    kf = KFold(n_splits=10)\n",
    "    accuracies = []\n",
    "    for idx, (train, test) in enumerate(tqdm(kf.split(inputs))):\n",
    "        X_train, X_test = inputs[train], inputs[test]\n",
    "        y_train, y_test = labels[train], labels[test]\n",
    "        Y = np.concatenate((np.nan * y_test, y_train))\n",
    "        prediction = predictor(*((X_train, X_test, y_train) + args))\n",
    "        accuracy = metrics(y_test, prediction)\n",
    "        accuracies.append(accuracy)\n",
    "    return np.mean(accuracies)"
   ]
  },
  {
   "cell_type": "code",
   "execution_count": 473,
   "metadata": {
    "collapsed": false
   },
   "outputs": [
    {
     "name": "stderr",
     "output_type": "stream",
     "text": [
      "10it [00:03,  2.63it/s]\n",
      "10it [00:03,  2.64it/s]\n",
      "10it [00:04,  2.41it/s]\n",
      "10it [00:03,  2.59it/s]\n",
      "10it [00:03,  2.55it/s]\n",
      "10it [00:04,  2.34it/s]\n",
      "10it [00:05,  1.89it/s]\n",
      "10it [00:06,  1.47it/s]\n",
      "10it [00:10,  1.02s/it]\n",
      "10it [00:17,  1.72s/it]\n",
      "10it [00:27,  2.74s/it]"
     ]
    },
    {
     "name": "stdout",
     "output_type": "stream",
     "text": [
      "CPU times: user 1min 31s, sys: 36 ms, total: 1min 31s\n",
      "Wall time: 1min 30s\n"
     ]
    },
    {
     "name": "stderr",
     "output_type": "stream",
     "text": [
      "\n"
     ]
    }
   ],
   "source": [
    "%%time\n",
    "\n",
    "accuracies_RF = []\n",
    "for i in new_logspace:\n",
    "    accuracies_RF.append(evaluate_predictor(X[:, new_index[:i]], data[2], compute_TPR, predictor_RFC, 100))"
   ]
  },
  {
   "cell_type": "code",
   "execution_count": 474,
   "metadata": {
    "collapsed": false
   },
   "outputs": [
    {
     "name": "stderr",
     "output_type": "stream",
     "text": [
      "10it [00:02,  4.26it/s]\n",
      "10it [00:02,  4.27it/s]\n",
      "10it [00:02,  4.22it/s]\n",
      "10it [00:02,  4.04it/s]\n",
      "10it [00:02,  3.65it/s]\n",
      "10it [00:03,  2.86it/s]\n",
      "10it [00:05,  1.95it/s]\n",
      "10it [00:08,  1.25it/s]\n",
      "10it [00:11,  1.19s/it]\n",
      "10it [00:17,  1.74s/it]\n",
      "10it [00:27,  2.73s/it]"
     ]
    },
    {
     "name": "stdout",
     "output_type": "stream",
     "text": [
      "CPU times: user 1min 26s, sys: 72 ms, total: 1min 26s\n",
      "Wall time: 1min 25s\n"
     ]
    },
    {
     "name": "stderr",
     "output_type": "stream",
     "text": [
      "\n"
     ]
    }
   ],
   "source": [
    "%%time\n",
    "\n",
    "shuffle_accuracies_RF = []\n",
    "for i in new_logspace:\n",
    "    shuffle_accuracies_RF.append(evaluate_predictor(X[:, shuffle_index[:i]], data[2], compute_TPR, predictor_RFC, 100))"
   ]
  },
  {
   "cell_type": "code",
   "execution_count": 475,
   "metadata": {
    "collapsed": false
   },
   "outputs": [
    {
     "data": {
      "image/png": "[encoded data removed]",
      "text/plain": [
       "<matplotlib.figure.Figure at 0x7f379f135850>"
      ]
     },
     "metadata": {},
     "output_type": "display_data"
    }
   ],
   "source": [
    "fig, ax = plt.subplots()\n",
    "\n",
    "ax.set_ylabel('TPR')\n",
    "ax.set_title('TPR of Random Forests over Different Size Features')\n",
    "\n",
    "ax.plot(new_logspace, accuracies_RF, label='RF', color='b')\n",
    "ax.plot(new_logspace, shuffle_accuracies_RF, label='RF_shuffled', color='g')\n",
    "ax.set_xlabel('The number of features')\n",
    "ax.set_xscale('log')\n",
    "_ = ax.legend(loc='upper right')"
   ]
  },
  {
   "cell_type": "markdown",
   "metadata": {},
   "source": [
    "Random frests with randomly chosen features fails in picking up positive example while RF with selected features detect some.\n",
    "\n",
    "When working on binary classification task, we usually first have real value output from the predictor and classify data going over certain threshold value into  positive. Mostly, the output is restricted to $[0, 1]$ and threshold is set as 0.5. This setting may work when class is equivalently distributed; i.e., positive 50% and negative 50%. Skewed class distribution, however, cause too little detecting either of them.  This comes from the learning architecture. In most cases, we use non skewed cost function like binary cross entropy in the learning stage. To avoid this, we have to set threshold as a hyper parameter. There is a measure related to this topic called receiver operating characteristic(ROC). Taking TPR and FPR as y-axis and axis respectively, this measure visualize the performance of  a predictor with plot along with various threshold values. This plot is called ROC Curve. The area under this curve in the graph is often used as a measure of the performance of a predictor, which is called the area under an ROC Curve (AUC). We use AUC to evaluate the performance."
   ]
  },
  {
   "cell_type": "code",
   "execution_count": 487,
   "metadata": {
    "collapsed": true
   },
   "outputs": [],
   "source": [
    "from sklearn.metrics import roc_auc_score\n",
    "\n",
    "def predictor_RFC_score(X_train, X_test, y_train, n_estimators=100, criterion='gini'):\n",
    "    \"\"\"Return prediciton of random forests regressor\"\"\"\n",
    "    forest = RandomForestClassifier(n_estimators=n_estimators, criterion=criterion)\n",
    "    forest.fit(X_train, y_train)\n",
    "    return forest.predict_proba(X_test)[:, 1]\n",
    "\n",
    "def compute_auc_score(y, prediction, ratio):\n",
    "    return roc_auc_score(y, prediction)"
   ]
  },
  {
   "cell_type": "code",
   "execution_count": 494,
   "metadata": {
    "collapsed": false
   },
   "outputs": [
    {
     "name": "stderr",
     "output_type": "stream",
     "text": [
      "10it [00:04,  2.37it/s]\n",
      "10it [00:03,  2.65it/s]\n",
      "10it [00:04,  2.42it/s]\n",
      "10it [00:03,  2.61it/s]\n",
      "10it [00:03,  2.59it/s]\n",
      "10it [00:04,  2.35it/s]\n",
      "10it [00:05,  1.90it/s]\n",
      "10it [00:06,  1.46it/s]\n",
      "10it [00:10,  1.02s/it]\n",
      "10it [00:17,  1.72s/it]\n",
      "10it [00:27,  2.72s/it]"
     ]
    },
    {
     "name": "stdout",
     "output_type": "stream",
     "text": [
      "CPU times: user 1min 31s, sys: 80 ms, total: 1min 31s\n",
      "Wall time: 1min 31s\n"
     ]
    },
    {
     "name": "stderr",
     "output_type": "stream",
     "text": [
      "\n"
     ]
    }
   ],
   "source": [
    "%%time\n",
    "\n",
    "accuracies_RF = []\n",
    "for i in new_logspace:\n",
    "    accuracies_RF.append(evaluate_predictor(X[:, new_index[:i]], data[2], compute_auc_score, predictor_RFC_score, 100))"
   ]
  },
  {
   "cell_type": "code",
   "execution_count": 495,
   "metadata": {
    "collapsed": false
   },
   "outputs": [
    {
     "name": "stderr",
     "output_type": "stream",
     "text": [
      "10it [00:02,  4.29it/s]\n",
      "10it [00:02,  4.00it/s]\n",
      "10it [00:02,  4.22it/s]\n",
      "10it [00:02,  4.03it/s]\n",
      "10it [00:02,  3.63it/s]\n",
      "10it [00:03,  2.81it/s]\n",
      "10it [00:05,  1.91it/s]\n",
      "10it [00:08,  1.22it/s]\n",
      "10it [00:12,  1.25s/it]\n",
      "10it [00:18,  1.76s/it]\n",
      "10it [00:28,  2.99s/it]"
     ]
    },
    {
     "name": "stdout",
     "output_type": "stream",
     "text": [
      "CPU times: user 1min 28s, sys: 44 ms, total: 1min 28s\n",
      "Wall time: 1min 28s\n"
     ]
    },
    {
     "name": "stderr",
     "output_type": "stream",
     "text": [
      "\n"
     ]
    }
   ],
   "source": [
    "%%time\n",
    "\n",
    "shuffle_accuracies_RF = []\n",
    "for i in new_logspace:\n",
    "    shuffle_accuracies_RF.append(\n",
    "        evaluate_predictor(X[:, shuffle_index[:i]], data[2], compute_auc_score, predictor_RFC_score, 100))"
   ]
  },
  {
   "cell_type": "code",
   "execution_count": 532,
   "metadata": {
    "collapsed": false
   },
   "outputs": [
    {
     "data": {
      "image/png": "[encoded data removed]",
      "text/plain": [
       "<matplotlib.figure.Figure at 0x7f382435dcd0>"
      ]
     },
     "metadata": {},
     "output_type": "display_data"
    }
   ],
   "source": [
    "fig, ax = plt.subplots()\n",
    "\n",
    "ax.set_ylabel('AUC')\n",
    "ax.set_title('AUC of Random Forests over Different Size Features')\n",
    "\n",
    "ax.plot(new_logspace, accuracies_RF, label='RF', color='b')\n",
    "ax.plot(new_logspace, shuffle_accuracies_RF, label='RF_shuffled', color='g')\n",
    "ax.set_xlabel('The number of features')\n",
    "ax.set_xscale('log')\n",
    "_ = ax.legend(loc='upper right')"
   ]
  },
  {
   "cell_type": "markdown",
   "metadata": {},
   "source": [
    "AUC score reach the maximum around 100 seelcted features. "
   ]
  },
  {
   "cell_type": "markdown",
   "metadata": {},
   "source": [
    "In the AUC, TPR and FPR are used as measures of the performance. Since $TNR = 1 - FPR$, we can use TPR and TNR as measures. Then, we use \n",
    "$$\\sqrt{TPR \\times TNR}.$$"
   ]
  },
  {
   "cell_type": "code",
   "execution_count": 517,
   "metadata": {
    "collapsed": true
   },
   "outputs": [],
   "source": [
    "from sklearn.metrics import roc_auc_score\n",
    "from sklearn.preprocessing import LabelBinarizer\n",
    "\n",
    "def predictor_RFC_threshold(X_train, X_test, y_train, threshold=0.5, n_estimators=100, criterion='gini'):\n",
    "    \"\"\"Return prediciton of random forests regressor\"\"\"\n",
    "    forest = RandomForestClassifier(n_estimators=n_estimators, criterion=criterion)\n",
    "    forest.fit(X_train, y_train)\n",
    "    score = forest.predict_proba(X_test)[:, 1]\n",
    "    lb = LabelBinarizer()\n",
    "    return lb.fit_transform(score >= threshold)[:, 0]\n",
    "    \n",
    "\n",
    "def compute_geo_metrics(y, prediction, ratio):\n",
    "    n_pos = np.sum(y)\n",
    "    n_neg = len(y) - n_pos\n",
    "    TPR = (n_pos - np.sum(positive_func(y - prediction))) / n_pos\n",
    "    TNR = (n_neg - np.sum(positive_func(prediction - y))) / n_neg\n",
    "    return np.mean(np.sqrt(TPR * TNR))"
   ]
  },
  {
   "cell_type": "code",
   "execution_count": 528,
   "metadata": {
    "collapsed": false
   },
   "outputs": [
    {
     "name": "stderr",
     "output_type": "stream",
     "text": [
      "10it [00:05,  1.83it/s]\n",
      "10it [00:05,  1.87it/s]\n",
      "10it [00:05,  1.84it/s]\n",
      "10it [00:05,  1.88it/s]\n",
      "10it [00:05,  1.87it/s]\n",
      "10it [00:05,  1.86it/s]\n",
      "10it [00:05,  1.86it/s]\n",
      "10it [00:05,  1.78it/s]\n",
      "10it [00:05,  1.73it/s]\n",
      "10it [00:05,  1.74it/s]\n",
      "10it [00:05,  1.77it/s]\n",
      "10it [00:05,  1.77it/s]\n",
      "10it [00:05,  1.84it/s]\n",
      "10it [00:05,  1.86it/s]\n",
      "10it [00:05,  1.87it/s]\n",
      "10it [00:05,  1.86it/s]\n",
      "10it [00:05,  1.86it/s]\n",
      "10it [00:05,  1.80it/s]\n",
      "10it [00:05,  1.86it/s]\n",
      "10it [00:05,  1.87it/s]\n",
      "10it [00:05,  1.89it/s]\n",
      "10it [00:05,  1.88it/s]\n",
      "10it [00:05,  1.85it/s]\n",
      "10it [00:05,  1.86it/s]\n",
      "10it [00:05,  1.87it/s]\n",
      "10it [00:05,  1.84it/s]\n",
      "10it [00:05,  1.86it/s]\n",
      "10it [00:05,  1.86it/s]\n",
      "10it [00:05,  1.87it/s]\n",
      "10it [00:05,  1.85it/s]\n",
      "10it [00:05,  1.84it/s]\n",
      "10it [00:05,  1.86it/s]\n",
      "10it [00:05,  1.87it/s]\n",
      "10it [00:05,  1.83it/s]\n",
      "10it [00:05,  1.87it/s]\n",
      "10it [00:05,  1.84it/s]\n",
      "10it [00:05,  1.87it/s]\n",
      "10it [00:05,  1.85it/s]\n",
      "10it [00:05,  1.85it/s]\n",
      "10it [00:05,  1.89it/s]\n",
      "10it [00:05,  1.86it/s]\n",
      "10it [00:05,  1.86it/s]\n",
      "10it [00:05,  1.86it/s]\n",
      "10it [00:05,  1.84it/s]\n",
      "10it [00:05,  1.82it/s]\n",
      "10it [00:05,  1.87it/s]\n",
      "10it [00:05,  1.86it/s]\n",
      "10it [00:05,  1.87it/s]\n",
      "10it [00:05,  1.89it/s]\n",
      "10it [00:05,  1.89it/s]\n",
      "10it [00:05,  1.89it/s]\n",
      "10it [00:05,  1.86it/s]\n",
      "10it [00:05,  1.87it/s]\n",
      "10it [00:05,  1.85it/s]\n",
      "10it [00:05,  1.86it/s]\n",
      "10it [00:05,  1.84it/s]\n",
      "10it [00:05,  1.87it/s]\n",
      "10it [00:05,  1.91it/s]\n",
      "10it [00:05,  1.88it/s]\n",
      "10it [00:05,  1.87it/s]\n",
      "10it [00:05,  1.84it/s]\n",
      "10it [00:05,  1.87it/s]\n",
      "10it [00:05,  1.87it/s]\n",
      "10it [00:05,  1.90it/s]\n",
      "10it [00:05,  1.83it/s]\n",
      "10it [00:05,  1.91it/s]\n",
      "10it [00:05,  1.88it/s]\n",
      "10it [00:05,  1.89it/s]\n",
      "10it [00:05,  1.88it/s]\n",
      "10it [00:05,  1.89it/s]\n",
      "10it [00:05,  1.87it/s]\n",
      "10it [00:05,  1.89it/s]\n",
      "10it [00:05,  1.88it/s]\n",
      "10it [00:05,  1.66it/s]\n",
      "10it [00:05,  1.76it/s]\n",
      "10it [00:05,  1.88it/s]\n",
      "10it [00:05,  1.85it/s]\n",
      "10it [00:05,  1.89it/s]\n",
      "10it [00:05,  1.90it/s]\n",
      "10it [00:05,  1.90it/s]\n",
      "10it [00:05,  1.91it/s]\n",
      "10it [00:05,  1.89it/s]\n",
      "10it [00:05,  1.91it/s]\n",
      "10it [00:05,  1.92it/s]\n",
      "10it [00:05,  1.86it/s]\n",
      "10it [00:05,  1.88it/s]\n",
      "10it [00:05,  1.89it/s]\n",
      "10it [00:05,  1.88it/s]\n",
      "10it [00:05,  1.86it/s]\n",
      "10it [00:05,  1.89it/s]\n",
      "10it [00:05,  1.86it/s]\n",
      "10it [00:05,  1.83it/s]\n",
      "10it [00:05,  1.86it/s]\n",
      "10it [00:05,  1.86it/s]\n",
      "10it [00:05,  1.88it/s]\n",
      "10it [00:05,  1.89it/s]\n",
      "10it [00:05,  1.87it/s]\n",
      "10it [00:05,  1.87it/s]\n",
      "10it [00:05,  1.89it/s]\n",
      "10it [00:05,  1.88it/s]"
     ]
    },
    {
     "name": "stdout",
     "output_type": "stream",
     "text": [
      "CPU times: user 9min, sys: 252 ms, total: 9min 1s\n",
      "Wall time: 8min 56s\n"
     ]
    },
    {
     "name": "stderr",
     "output_type": "stream",
     "text": [
      "\n"
     ]
    }
   ],
   "source": [
    "%%time\n",
    "thresholds = np.linspace(0, 1, 100)\n",
    "\n",
    "accuracies_geo = []\n",
    "for th in thresholds:\n",
    "    accuracy = evaluate_predictor(X[:, new_index[:100]], data[2], \n",
    "                              compute_geo_metrics, predictor_RFC_threshold, th, 100)\n",
    "    accuracies_geo.append(accuracy)"
   ]
  },
  {
   "cell_type": "code",
   "execution_count": 533,
   "metadata": {
    "collapsed": false
   },
   "outputs": [
    {
     "data": {
      "image/png": "[encoded data removed]",
      "text/plain": [
       "<matplotlib.figure.Figure at 0x7f379d528dd0>"
      ]
     },
     "metadata": {},
     "output_type": "display_data"
    }
   ],
   "source": [
    "fig, ax = plt.subplots()\n",
    "\n",
    "ax.set_ylabel('TPR_TNR')\n",
    "ax.set_title('TPR_TNR measure of Random Forests over Different Size Features')\n",
    "\n",
    "ax.plot(thresholds, accuracies_geo, label='RF', color='b')\n",
    "ax.set_xlabel('The number of features')\n",
    "ax.set_xscale('log')\n",
    "_ = ax.legend(loc='upper right')"
   ]
  },
  {
   "cell_type": "code",
   "execution_count": 534,
   "metadata": {
    "collapsed": false
   },
   "outputs": [
    {
     "data": {
      "text/plain": [
       "0.10101010101010102"
      ]
     },
     "execution_count": 534,
     "metadata": {},
     "output_type": "execute_result"
    }
   ],
   "source": [
    "thresholds[np.argmax(accuracies_geo)]"
   ]
  },
  {
   "cell_type": "markdown",
   "metadata": {},
   "source": [
    "We use the top 100 impotrant features with threshold 0.1 for prediction."
   ]
  },
  {
   "cell_type": "markdown",
   "metadata": {},
   "source": [
    "# 3. Discussion"
   ]
  },
  {
   "cell_type": "markdown",
   "metadata": {},
   "source": [
    "First, we consider the completion of missing data. Since the input dimension is large compared to the size of training set, we consider dimension reduction with random forests. The importance of feature of random forests is one of the quantities to measure how much each component contributes to the accuracy of prediction. We have shown that selected features based on this quantity works well not only on random forests itself but also other algorithms: neural network and linear regression. After comparing completion qualities, we decided to use the most 1000 important features with random forests.\n",
    "\n",
    "At the prediction stage, we tried to work on dimension reduction in the same as completion. Features selected based on the importance of features, however, gave worse performance than the randomly selected ones. This comes from the skewed class distribution. Positive instances occupy only about 14% of entire training set. Therefore, we consider another metrics like AUC and geometric means of TPR and TNR. Finally we concluded to using the most 100 important features and threshold 0.1 for prediction."
   ]
  }
 ],
 "metadata": {
  "anaconda-cloud": {},
  "kernelspec": {
   "display_name": "Python [Root]",
   "language": "python",
   "name": "Python [Root]"
  },
  "language_info": {
   "codemirror_mode": {
    "name": "ipython",
    "version": 2
   },
   "file_extension": ".py",
   "mimetype": "text/x-python",
   "name": "python",
   "nbconvert_exporter": "python",
   "pygments_lexer": "ipython2",
   "version": "2.7.12"
  }
 },
 "nbformat": 4,
 "nbformat_minor": 1
}
