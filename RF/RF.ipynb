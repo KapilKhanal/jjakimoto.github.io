{
 "cells": [
  {
   "cell_type": "markdown",
   "metadata": {},
   "source": [
    "# Feature Selection and Random Forests."
   ]
  },
  {
   "cell_type": "markdown",
   "metadata": {},
   "source": [
    "In prediction tasks, given data does not necessary consist of only important information. The data may contain irrelevant features, which impairs the performance of a predictor due to overfitting. This situation is the case for medical data. While we have thousands of features, only a few hundreds samples are available. In this case, we have to extract only effective features and get rid of unnecessary ones. In this article, we work on [“Dorothea Data Set” from UCL Machine Learning Repository](https://archive.ics.uci.edu/ml/datasets/Dorothea). This is data for binary classification with 10000 features. Reducing feature dimension is the key to have better predictor."
   ]
  },
  {
   "cell_type": "markdown",
   "metadata": {},
   "source": [
    "# 1. Background"
   ]
  },
  {
   "cell_type": "markdown",
   "metadata": {},
   "source": [
    "Random forests has been introduced by Breiman in [the paper](https://www.stat.berkeley.edu/~breiman/randomforest2001.pdf) in 2001. He proposed collecting many classification and regression trees(CART) and used them to establish better predictors. The key concept of random forests is bagging introduced by Breiman in [the paper](rhttp://statistics.berkeley.edu/sites/default/files/tech-reports/421.pdf) in 1994. The name comes from the combination of acronym of two words: bootstrap and aggregating. Bagging has been succeeded to improve unstable predictors like neural network and CART. By applying bagging to CART, we obtain the better accuracy tree, random forests. As one of the useful byproducts, we can use random forests to measure importance of each input feature.  We explain these concepts in the following order: bootstrap, bagging, and random forests."
   ]
  },
  {
   "cell_type": "markdown",
   "metadata": {},
   "source": [
    "## 1.1. Bootstrap"
   ]
  },
  {
   "cell_type": "markdown",
   "metadata": {},
   "source": [
    "Bootstrap is a general methodology to measure the accuracy of estimations based on resampling, which has been introduced by Efron and Tibshirani in [the paper](https://projecteuclid.org/download/pdf_1/euclid.ss/1177013815). Since the variance of an estimation is frequently used to measure the accuracy of estimation, bootstrap is practically used to guess the variance of the estimation. Especially, bootstrap gives us a computational approach to analytically intractable cases.  \n",
    "\n",
    "Let's say we have $n$ samples from distribution $F$ and estimate its mean with the unbiased estimator,\n",
    "$$ \\bar{x} = \\sum_{i=1}^n x_i / n.$$\n",
    "Let us denote by $\\mu_2 (F) = E_F X^2 - (E_F X)^2$  the variance of distribution $F$. We analytically calculate the standard deviation $\\sigma(F; N, \\bar{x})$ as\n",
    "$$\\sigma (F) = [\\mu_2 (F) / n]^{1/2},$$\n",
    "where $\\sigma(F) \\equiv \\sigma(F; n, \\bar{x})$. Since $\\mu_2 (F) $ is unknown function, we use unbiased estimator  $\\bar{\\mu}_2 = \\sum_{i=1}^n (x_i - \\bar{x})^2 / (n - 1)$ instead; i.e., we have\n",
    "$$\\bar{\\sigma} = [\\bar{\\mu}_2 / n]^{1/2}.$$\n",
    "\n",
    "There is another way. Let $\\hat{F}$ be the empirical distribution; i.e., $\\hat{F}$ assigns the probability mass $1/n$ to each data point $x_i$. Then, we obtain\n",
    "$$\\bar{\\sigma} \\equiv \\sigma(\\hat{F}) = [\\mu_2(\\hat{F}) / n]^{1/2},$$\n",
    "where $\\mu_2(\\hat{F}) = \\sum_{i=1}^n (x_i - \\bar{x})^2 / n$. This approach is more flexible. In the above mean estimation example, we have to know the analytical expression of unbiased estimation of the variance, which is not often the case for more complex estimations. \n",
    "\n",
    "To apply the second method to even more complex cases, we introduce the new sampling concept called bootstrap sampling. Let us assume that we estimate $\\theta$, which corresponds to $E_F X$ in the previous example. To formalize into the second method, we need to calculate\n",
    "$$E_{\\hat{F}} (\\hat{{\\theta}}(\\bf{x}) - E_{\\hat{F}} \\hat{{\\theta}}(\\bf{x}))^2,$$\n",
    "where $\\hat{F}$ is the empirical distribution of n data points $\\bf{x} = (x_1, x_2, \\dots, x_n)$. Since computing all of the case $\\hat{{\\theta}}(\\bf{x})$ is too expensive, we resort to Monte Carlo method; i.e., we take sample mean with B sets of data $\\{\\bf{x}^b\\}_{b=1}^B = \\{x_1^b, x_2^b, \\dots, x_n^b\\}_{b=1}^B$ sampled from empirical distribution $\\hat{F}$. Note that all of sets must have exactly n data because the expression of estimation depends on n. This sampling method is called bootstrap sampling. Taking sample mean instead of expectation leads to\n",
    "$$\\theta^*(\\cdot) = \\frac{\\sum_{b=1}^B \\hat{\\theta }(b)}{B}$$\n",
    "$$\\sigma_B = \\left(\\frac{\\sum_{b=1}^B (\\hat{\\theta}(b) - \\theta^*(\\cdot) }{B - 1}\\right)^{1/2}.$$\n",
    "$\\sigma_B$ can be used to measure the accuracy of the estimation.\n",
    "\n",
    "For more precise discussion over the accuracy of this method itself, you can check [the original paper](https://projecteuclid.org/download/pdf_1/euclid.ss/1177013815)."
   ]
  },
  {
   "cell_type": "markdown",
   "metadata": {},
   "source": [
    "## 1.2. Bagging"
   ]
  },
  {
   "cell_type": "markdown",
   "metadata": {},
   "source": [
    "Bagging has been introduced by Breiman in [the paper](rhttp://statistics.berkeley.edu/sites/default/files/tech-reports/421.pdf). He used bootstrap sampling to improve the accuracy of unstable predictors. The concept is quite simple. Consider a predictor trained by training set $\\mathcal{L}$. For each input $x$, prediction can be expressed as $\\varphi(x, \\mathcal{L})$. For regression case, we can define the aggregated predictor as \n",
    "$$\\varphi_A(x) = E_{\\mathcal{L}} \\varphi(x, \\mathcal{L}).$$\n",
    "\n",
    "For the classification case, the class voted by the most predictors would be the prediction value. That is, each $\\varphi(x, \\mathcal{L})$ has C dimensional output $\\varphi(x, \\mathcal{L}) = (\\varphi^1(x, \\mathcal{L}), \\varphi^2(x, \\mathcal{L}), \\dots, \\varphi^C(x, \\mathcal{L}))$ and each component corresponds to each class confidence. Then, the aggregated predictor is defined as \n",
    "$$\\varphi_A(x) = \\underset{1 \\leq c \\leq C}{max} E_{\\mathcal{L}} \\varphi^c(x, \\mathcal{L}).$$\n",
    "\n",
    "This aggregation procedure especially increase the accuracy of unstable predictors. Consider the regression case. We have the generalized prediction error in $\\varphi (x, \\mathcal{L})$ and $\\varphi_A(x)$:\n",
    "$$e = E_{\\mathcal{L}} E_{y, x} (y - \\varphi(x, \\mathcal{L}))^2,$$\n",
    "$$e_A = E_{y, x} (y - \\varphi_A(x))^2.$$\n",
    "Then, we obtain\n",
    "$$e = E_{\\mathcal{L}} E_{y, x} y^2 - 2 E_{y, x}y \\varphi_A(x) +  E_{\\mathcal{L}} E_{y, x} \\varphi(x, \\mathcal{L})^2\\\\\n",
    "\\geq E_{y, x} (y - \\varphi_A(x))^2\\\\\n",
    "= e_A,$$\n",
    "where we use Jensen inequality, $E_{\\mathcal{L}}\\varphi(x, \\mathcal{L})^2 \\geq (E_{\\mathcal{L}}\\varphi(x, \\mathcal{L}))^2$. Hence, aggregated predictor has better performance if and only if $E_{\\mathcal{L}}\\varphi(x, \\mathcal{L})^2$ is strictly greater than $(E_{\\mathcal{L}}\\varphi(x, \\mathcal{L}))^2$, which implies that unstable predictors — large variance predictors — will be improved by the aggregation. \n",
    "\n",
    "In the practical situation, the calculation of $E_{\\mathcal{L}} \\varphi(x, \\mathcal{L})$ is often intractable. Then, we often use \n",
    "$$\\varphi_B(x) = \\hat{E}_{\\mathcal{L}} \\varphi(x, \\mathcal{L}),$$\n",
    "where $\\hat{E}(\\cdot)$ is empirical expectation calculated through bootstrap sampling. Bootstrap sampling gives us some numerical errors between $\\varphi_B(x)$ and $\\varphi_A(x)$. Therefore, there is cross-over point between instability and stability at which $\\varphi_B(x)$ stop improving and does worse. Indeed, there is the example that stability predictor does worse through bagging in [the paper](rhttp://statistics.berkeley.edu/sites/default/files/tech-reports/421.pdf).\n",
    "\n",
    "In classification, a predictor predicts a class label $c \\in \\{1, 2, \\dots, C\\}$. The probability of correct classification can be calculated as \n",
    "$$r(\\mathcal{L}) = \\sum_{c} P(\\varphi(x, \\mathcal{L}) = c | y = c) P(y = c).$$\n",
    "We define $Q(c | x) \\equiv P_{\\mathcal{L}}(\\varphi(x, \\mathcal{L}) = c)$, where$P_{\\mathcal{L}}$ is probability measure of samples $\\mathcal{L}$. By taking marginalization over $P_\\mathcal{L}$, we have\n",
    "$$r = \\sum_{c}E[Q(c | x) | y=c] P(y = c)\\\\\n",
    "= \\sum_{c} \\int Q(c | x) P(y=c|x) P_x(dx).$$\n",
    "\n",
    "Since the aggregated predictor is equivalent to $\\varphi_A(x) = \\underset{c}{argmax} Q(c | x)$, we can write down the probability of correct classification of the aggregated predictor as\n",
    "$$r_A = \\sum_{c} \\int I(\\underset{j}{argmax} Q(j | x) = c) P(y=c|x) P_x(dx),$$\n",
    "where $I(\\cdot)$ is the indicator function. Consider a set $D$,\n",
    "$$D = \\{x; \\underset{c}{argmax} Q(c | x) = \\underset{c}{argmax} P(c | x) \\}.$$\n",
    "We can express $r_A$ as \n",
    "$$r_A = \\int_D \\underset{c}{max}P(y=c|x) P_x(dx) + \\sum_{c} \\int_{D^c} I(\\varphi_A(x) = c) P(y=c|x) P_x(dx).$$\n",
    "\n",
    "For each predictor, the highest attainable correct prediction is obtained when $P_x(D) = 1$; i.e., we have\n",
    "$$r^* = \\int \\underset{c}{max}P(y=c|x) P_x(dx).$$\n",
    "For $x \\in D$, $\\sum_{c} Q(c | x) P(y = c | x)$ can be less than $\\underset{c}{max}P(y=c|x)$. Thus, even if $P_x(D) \\simeq 1$, non-aggregated predictor might be far from optimal. \n",
    "\n",
    "In classification, aggregation actually improves the performance more for the better performance predictor. This can be deduced from the above expression of $r_A$. In order to have the performance close to optimal one $r^*$, we have to assign large probability mass to $D$; i.e., the predictor already have high probability of correct classification. As to the stability of the predictor, the same statement as regression holds for classification. "
   ]
  },
  {
   "cell_type": "markdown",
   "metadata": {},
   "source": [
    "## 1.3. Random Forests and Feature Importance"
   ]
  },
  {
   "cell_type": "markdown",
   "metadata": {},
   "source": [
    "Random forest has been introduced by Breiman in [the paper](https://www.stat.berkeley.edu/~breiman/randomforest2001.pdf) . As we discussed previously, bagging improves the accuracy of unstable predictors like neural network and CART. Then, He applied bagging to CART to improve the accuracy.\n",
    "\n",
    "Concept is quite simple. At every node, we just split data depending on subset of variable. Let's say we have $M$ dimensional input feature. At every node, randomly chosen subset $s$ variables  of $M$ variables are used to split data. After established some trees, we mean of outputs of trees for regression, or \n",
    "take vote as to which class will data should be classified for classification. \n",
    "\n",
    "As one of the useful byproducts of bootstrap sampling, we have unused samples called out-of-bags, which has been discussed in [the paper](https://www.stat.berkeley.edu/~breiman/OOBestimation.pdf)  by Breiman. When using bootstrap sampling, we have unsampled data for each set. This comes from the following:\n",
    "\n",
    "Let $N$ be the number of data. The probability to unsample one of the data $x_i$ is $(1 - \\frac{1}{N})^N$. By using the fact that $\\underset{n\\to \\infty}{lim}(1 + \\frac{1}{N})^{-N} = \\frac{1}{e}$, we can lead to $\\underset{N \\to \\infty}{lim}(1 - \\frac{1}{N})^N = \\frac{1}{e} \\simeq 0.3679$. Thus, for large enough data, almost 37% data will not be sampled. Using these unsampled data, we can improve accuracy of prediction for important some statistical quantities. For example, it is known that training error has downside bias. We can use out-of-bag to have more accurate estimation of generalized error without any additional data. Thus, to evaluate the performance of random forests, we need neither of test data nor additional computational time coming from cross validation. \n",
    "\n",
    "As another useful byproducts, we have feature importance. This is a quantity to measure the importance of each component of input for prediction. As we mentioned above, the performance of random forest is measured on out-of-bag. The performance should be measured by certain criteria such as Gini index, entropy, and accuracy. Then, we add noise to each variables and see how much the value of the criteria changes. We do this through the following process.\n",
    "\n",
    "Let us assume that we use $M$ dimensional input feature $\\bf{x} = (x_1, x_2, \\dots, x_M)$ and $N_T$ trees for estimation.\n",
    "\n",
    "FOR i = 1 to $N_T$\n",
    "- Generate a tree\n",
    "- Evaluate performance on out-of-bag\n",
    "\n",
    "FOR m = 1 to $M$\n",
    "\n",
    "- Collapse $x_m$ by noise \n",
    "- Evaluate and save the change of the value of the criteria\n",
    "\n",
    "END FOR\n",
    "\n",
    "END FOR\n",
    "\n",
    "- Take mean saved changes (The higher, the more important)\n",
    "\n",
    "\n",
    "Through this process, we identify which component is significant for prediction. In scikit-learn implementation, normalized criteria are used to evaluate the feature importance; they measure how much noised feature increases the value of criteria in the percentage. Gini impurity and mean squared error used as default for classification and regression respectively."
   ]
  },
  {
   "cell_type": "markdown",
   "metadata": {},
   "source": [
    "# 2. Experiments"
   ]
  },
  {
   "cell_type": "markdown",
   "metadata": {},
   "source": [
    "Let's wrok on analysis!!!! \n",
    "\n",
    "We use the following libraries."
   ]
  },
  {
   "cell_type": "code",
   "execution_count": 2,
   "metadata": {
    "collapsed": false
   },
   "outputs": [],
   "source": [
    "import numpy as np\n",
    "import re\n",
    "from sklearn.ensemble import RandomForestClassifier\n",
    "from sklearn.ensemble import RandomForestRegressor\n",
    "from sklearn.linear_model import ARDRegression, LinearRegression\n",
    "from sklearn.model_selection import KFold\n",
    "from six.moves import zip, xrange\n",
    "from sklearn.preprocessing import Imputer\n",
    "from tqdm import tqdm\n",
    "import matplotlib.pyplot as plt\n",
    "\n",
    "# keras (tensorflow backend)\n",
    "from keras.layers import Flatten, Lambda\n",
    "from keras.models import Sequential\n",
    "from keras.layers import BatchNormalization\n",
    "from keras.layers import Activation\n",
    "from keras.layers import Dense\n",
    "from keras.layers.advanced_activations import PReLU\n",
    "from keras.layers import Dropout\n",
    "from keras.optimizers import Adam\n",
    "from keras import backend as K\n",
    "\n",
    "%matplotlib inline"
   ]
  },
  {
   "cell_type": "markdown",
   "metadata": {},
   "source": [
    "We fetch data from the local machine."
   ]
  },
  {
   "cell_type": "code",
   "execution_count": 20,
   "metadata": {
    "collapsed": false
   },
   "outputs": [],
   "source": [
    "f = open(\"dorothea_train.data\")"
   ]
  },
  {
   "cell_type": "code",
   "execution_count": 85,
   "metadata": {
    "collapsed": false
   },
   "outputs": [],
   "source": [
    "from sklearn.feature_extraction.text import CountVectorizer\n",
    "\n",
    "def get_feature(filename, num_feature=100000):\n",
    "    f = open(filename) \n",
    "    data = f.read()\n",
    "    data = data.splitlines()\n",
    "    features = np.zeros((len(data), num_feature))\n",
    "    for i, x in enumerate(data):\n",
    "        index = np.array(x.split(), dtype=int) - 1\n",
    "        features[i][index] = 1\n",
    "    return features"
   ]
  },
  {
   "cell_type": "code",
   "execution_count": 91,
   "metadata": {
    "collapsed": false
   },
   "outputs": [],
   "source": [
    "train_input, test_input = get_feature(\"dorothea_train.data\"), get_feature(\"dorothea_valid.data\")"
   ]
  },
  {
   "cell_type": "code",
   "execution_count": 92,
   "metadata": {
    "collapsed": false
   },
   "outputs": [],
   "source": [
    "f = open(\"dorothea_train.labels\")\n",
    "train_target = np.array(f.read().split(), dtype=int)"
   ]
  },
  {
   "cell_type": "code",
   "execution_count": 112,
   "metadata": {
    "collapsed": false
   },
   "outputs": [],
   "source": [
    "def get_label(filename):\n",
    "    f = open(filename)\n",
    "    labels = np.array(f.read().split(), dtype=int)\n",
    "    return (labels + 1.) * 0.5"
   ]
  },
  {
   "cell_type": "code",
   "execution_count": 113,
   "metadata": {
    "collapsed": false
   },
   "outputs": [],
   "source": [
    "train_target, test_target = get_label(\"dorothea_train.labels\"), get_label(\"dorothea_valid.labels\")"
   ]
  },
  {
   "cell_type": "code",
   "execution_count": 114,
   "metadata": {
    "collapsed": false
   },
   "outputs": [
    {
     "data": {
      "text/plain": [
       "array([ 0.,  0.,  0.,  0.,  0.,  0.,  0.,  0.,  0.,  0.,  0.,  0.,  0.,\n",
       "        0.,  0.,  0.,  0.,  0.,  1.,  0.,  0.,  0.,  0.,  0.,  0.,  0.,\n",
       "        0.,  1.,  0.,  0.,  0.,  1.,  0.,  1.,  0.,  0.,  0.,  0.,  0.,\n",
       "        0.,  0.,  0.,  0.,  0.,  0.,  0.,  0.,  0.,  0.,  0.,  0.,  0.,\n",
       "        0.,  0.,  0.,  0.,  0.,  0.,  0.,  1.,  0.,  1.,  0.,  0.,  0.,\n",
       "        0.,  0.,  0.,  0.,  0.,  0.,  1.,  0.,  0.,  0.,  0.,  0.,  1.,\n",
       "        0.,  0.,  0.,  0.,  0.,  0.,  0.,  0.,  0.,  0.,  0.,  0.,  0.,\n",
       "        0.,  0.,  0.,  0.,  0.,  0.,  0.,  0.,  0.,  1.,  0.,  0.,  0.,\n",
       "        0.,  0.,  0.,  1.,  0.,  0.,  0.,  0.,  0.,  0.,  0.,  0.,  0.,\n",
       "        0.,  0.,  0.,  0.,  0.,  0.,  0.,  0.,  0.,  0.,  0.,  0.,  0.,\n",
       "        0.,  0.,  0.,  1.,  0.,  0.,  0.,  0.,  0.,  0.,  0.,  0.,  0.,\n",
       "        0.,  0.,  0.,  0.,  0.,  0.,  0.,  0.,  0.,  0.,  0.,  0.,  0.,\n",
       "        0.,  0.,  0.,  0.,  0.,  0.,  0.,  1.,  0.,  1.,  0.,  0.,  0.,\n",
       "        0.,  0.,  0.,  0.,  0.,  0.,  0.,  0.,  0.,  1.,  0.,  0.,  0.,\n",
       "        0.,  0.,  0.,  0.,  0.,  0.,  0.,  0.,  0.,  0.,  0.,  0.,  0.,\n",
       "        0.,  0.,  0.,  0.,  0.,  0.,  0.,  0.,  1.,  0.,  0.,  0.,  0.,\n",
       "        0.,  0.,  0.,  1.,  0.,  0.,  0.,  0.,  0.,  0.,  0.,  0.,  0.,\n",
       "        0.,  0.,  0.,  0.,  0.,  0.,  0.,  0.,  0.,  1.,  0.,  0.,  1.,\n",
       "        0.,  0.,  0.,  0.,  0.,  1.,  0.,  1.,  0.,  0.,  0.,  0.,  0.,\n",
       "        0.,  0.,  0.,  0.,  0.,  0.,  1.,  0.,  0.,  0.,  0.,  0.,  0.,\n",
       "        0.,  0.,  0.,  1.,  0.,  0.,  1.,  0.,  0.,  1.,  0.,  1.,  0.,\n",
       "        0.,  0.,  0.,  0.,  0.,  0.,  0.,  0.,  1.,  0.,  0.,  1.,  1.,\n",
       "        0.,  0.,  0.,  0.,  0.,  0.,  0.,  1.,  0.,  0.,  1.,  1.,  0.,\n",
       "        1.,  0.,  0.,  0.,  0.,  0.,  0.,  0.,  0.,  0.,  0.,  0.,  0.,\n",
       "        0.,  0.,  1.,  0.,  0.,  0.,  0.,  0.,  0.,  0.,  0.,  0.,  0.,\n",
       "        0.,  0.,  0.,  0.,  1.,  0.,  1.,  0.,  0.,  0.,  0.,  1.,  0.,\n",
       "        1.,  0.,  0.,  0.,  0.,  0.,  0.,  0.,  0.,  0.,  0.,  1.,  0.,\n",
       "        0.,  0.,  0.,  0.,  0.,  0.,  0.,  0.,  0.,  0.,  1.,  0.,  0.,\n",
       "        0.,  0.,  0.,  0.,  0.,  0.,  0.,  0.,  0.,  0.,  1.,  0.,  0.,\n",
       "        0.,  1.,  1.,  1.,  0.,  0.,  0.,  0.,  0.,  0.,  0.,  0.,  0.,\n",
       "        0.,  0.,  0.,  0.,  0.,  0.,  0.,  0.,  0.,  0.,  0.,  0.,  0.,\n",
       "        0.,  1.,  0.,  0.,  0.,  0.,  0.,  0.,  0.,  0.,  0.,  0.,  0.,\n",
       "        0.,  0.,  0.,  0.,  0.,  0.,  0.,  0.,  1.,  0.,  0.,  0.,  0.,\n",
       "        0.,  1.,  0.,  0.,  0.,  1.,  0.,  0.,  0.,  0.,  0.,  0.,  0.,\n",
       "        0.,  1.,  0.,  0.,  0.,  0.,  0.,  0.,  0.,  0.,  1.,  0.,  0.,\n",
       "        0.,  0.,  0.,  1.,  0.,  0.,  0.,  0.,  1.,  0.,  0.,  0.,  0.,\n",
       "        0.,  0.,  0.,  1.,  0.,  0.,  0.,  0.,  0.,  0.,  0.,  0.,  0.,\n",
       "        0.,  0.,  1.,  0.,  0.,  0.,  0.,  0.,  0.,  0.,  0.,  0.,  0.,\n",
       "        0.,  0.,  0.,  0.,  0.,  0.,  0.,  0.,  0.,  0.,  0.,  1.,  0.,\n",
       "        0.,  0.,  0.,  0.,  0.,  0.,  0.,  0.,  0.,  0.,  0.,  0.,  0.,\n",
       "        0.,  0.,  0.,  0.,  0.,  0.,  0.,  0.,  0.,  0.,  0.,  0.,  0.,\n",
       "        0.,  0.,  0.,  0.,  0.,  0.,  1.,  0.,  0.,  1.,  0.,  0.,  0.,\n",
       "        0.,  0.,  1.,  0.,  0.,  0.,  0.,  0.,  0.,  0.,  0.,  0.,  0.,\n",
       "        1.,  0.,  0.,  0.,  0.,  0.,  1.,  0.,  0.,  0.,  0.,  0.,  0.,\n",
       "        1.,  0.,  0.,  0.,  0.,  0.,  0.,  0.,  0.,  0.,  0.,  0.,  0.,\n",
       "        0.,  0.,  0.,  0.,  0.,  1.,  0.,  0.,  0.,  0.,  0.,  0.,  0.,\n",
       "        0.,  0.,  0.,  0.,  0.,  0.,  0.,  0.,  0.,  0.,  0.,  0.,  1.,\n",
       "        0.,  0.,  0.,  0.,  0.,  0.,  0.,  0.,  1.,  0.,  0.,  0.,  0.,\n",
       "        0.,  0.,  0.,  0.,  0.,  0.,  0.,  0.,  0.,  0.,  0.,  0.,  0.,\n",
       "        0.,  0.,  0.,  0.,  0.,  0.,  0.,  0.,  0.,  0.,  0.,  0.,  0.,\n",
       "        0.,  0.,  0.,  0.,  0.,  0.,  0.,  0.,  0.,  0.,  0.,  0.,  0.,\n",
       "        0.,  0.,  0.,  0.,  0.,  0.,  0.,  0.,  1.,  0.,  1.,  0.,  1.,\n",
       "        0.,  0.,  0.,  0.,  0.,  0.,  0.,  0.,  0.,  0.,  0.,  0.,  0.,\n",
       "        0.,  0.,  0.,  0.,  0.,  0.,  0.,  0.,  0.,  0.,  0.,  0.,  0.,\n",
       "        0.,  0.,  0.,  0.,  0.,  0.,  0.,  0.,  0.,  0.,  0.,  0.,  1.,\n",
       "        1.,  0.,  0.,  0.,  0.,  0.,  0.,  0.,  1.,  0.,  1.,  0.,  1.,\n",
       "        0.,  0.,  0.,  0.,  0.,  0.,  0.,  0.,  0.,  0.,  1.,  0.,  0.,\n",
       "        0.,  0.,  0.,  1.,  0.,  0.,  0.,  0.,  0.,  0.,  0.,  0.,  0.,\n",
       "        0.,  0.,  0.,  0.,  0.,  0.,  0.,  0.,  0.,  0.,  0.,  0.,  0.,\n",
       "        0.,  0.,  0.,  0.,  1.,  0.,  0.,  1.,  0.,  0.,  0.,  0.,  0.,\n",
       "        0.,  0.,  0.,  0.,  1.,  0.,  0.,  0.,  0.,  0.,  0.,  1.,  0.,\n",
       "        0.,  0.,  0.,  0.,  0.,  0.,  1.])"
      ]
     },
     "execution_count": 114,
     "metadata": {},
     "output_type": "execute_result"
    }
   ],
   "source": [
    "train_target"
   ]
  },
  {
   "cell_type": "code",
   "execution_count": 116,
   "metadata": {
    "collapsed": false
   },
   "outputs": [
    {
     "name": "stdout",
     "output_type": "stream",
     "text": [
      "CPU times: user 38.6 s, sys: 0 ns, total: 38.6 s\n",
      "Wall time: 38.6 s\n"
     ]
    }
   ],
   "source": [
    "%%time\n",
    "\n",
    "forest = RandomForestClassifier(n_estimators=1000)\n",
    "forest.fit(train_input, train_target)"
   ]
  },
  {
   "cell_type": "code",
   "execution_count": 167,
   "metadata": {
    "collapsed": false
   },
   "outputs": [
    {
     "name": "stdout",
     "output_type": "stream",
     "text": [
      "[46602 63818 24173 ...,  8908 64487 55755]\n"
     ]
    }
   ],
   "source": [
    "print(shuffle_index)"
   ]
  },
  {
   "cell_type": "code",
   "execution_count": 165,
   "metadata": {
    "collapsed": false
   },
   "outputs": [],
   "source": [
    "# get idnex of features in descending order of the importance\n",
    "index = np.argsort(forest.feature_importances_)[::-1]\n",
    "shuffle_index = index.copy()\n",
    "np.random.shuffle(shuffle_index)"
   ]
  },
  {
   "cell_type": "code",
   "execution_count": 131,
   "metadata": {
    "collapsed": false
   },
   "outputs": [
    {
     "data": {
      "image/png": "[encoded data removed]",
      "text/plain": [
       "<matplotlib.figure.Figure at 0x7f1c7ea44b10>"
      ]
     },
     "metadata": {},
     "output_type": "display_data"
    }
   ],
   "source": [
    "fig, ax = plt.subplots()\n",
    "ax.set_ylabel('Importance')\n",
    "ax.set_title('The 100 Largest Importance Features')\n",
    "\n",
    "num_index = 100\n",
    "_ = ax.bar(np.arange(num_index), forest.feature_importances_[index[:num_index]])\n",
    "\n",
    "plt.savefig(\"100_importance.png\")"
   ]
  },
  {
   "cell_type": "code",
   "execution_count": 136,
   "metadata": {
    "collapsed": false
   },
   "outputs": [
    {
     "data": {
      "image/png": "[encoded data removed]",
      "text/plain": [
       "<matplotlib.figure.Figure at 0x7f1b5b2ab290>"
      ]
     },
     "metadata": {},
     "output_type": "display_data"
    }
   ],
   "source": [
    "fig, ax = plt.subplots()\n",
    "ax.set_ylabel('Importance')\n",
    "ax.set_title('The 1000 Largest Importance Features')\n",
    "\n",
    "num_index = 1000\n",
    "_ = ax.bar(np.arange(num_index), forest.feature_importances_[index[:num_index]])\n",
    "plt.savefig(\"1000_importance.png\")"
   ]
  },
  {
   "cell_type": "code",
   "execution_count": 137,
   "metadata": {
    "collapsed": false
   },
   "outputs": [
    {
     "data": {
      "image/png": "[encoded data removed]",
      "text/plain": [
       "<matplotlib.figure.Figure at 0x7f1b73e77d50>"
      ]
     },
     "metadata": {},
     "output_type": "display_data"
    }
   ],
   "source": [
    "fig, ax = plt.subplots()\n",
    "ax.set_ylabel('Importance')\n",
    "ax.set_title('The 10000 Largest Importance Features')\n",
    "\n",
    "num_index = 10000\n",
    "_ = ax.bar(np.arange(num_index), forest.feature_importances_[index[:num_index]])\n",
    "plt.savefig(\"10000_importance.png\")"
   ]
  },
  {
   "cell_type": "code",
   "execution_count": 223,
   "metadata": {
    "collapsed": false
   },
   "outputs": [],
   "source": [
    "# the number of features to check the performance\n",
    "logspace = np.logspace(0, int(np.log10(len(index))), 100)\n",
    "logspace = [int(x) for x in logspace]"
   ]
  },
  {
   "cell_type": "code",
   "execution_count": 224,
   "metadata": {
    "collapsed": false
   },
   "outputs": [
    {
     "name": "stdout",
     "output_type": "stream",
     "text": [
      "[1, 1, 1, 1, 1, 1, 2, 2, 2, 2, 3, 3, 4, 4, 5, 5, 6, 7, 8, 9, 10, 11, 12, 14, 16, 18, 20, 23, 25, 29, 32, 36, 41, 46, 52, 58, 65, 73, 83, 93, 104, 117, 132, 148, 166, 187, 210, 236, 265, 298, 335, 376, 422, 475, 533, 599, 673, 756, 849, 954, 1072, 1204, 1353, 1519, 1707, 1917, 2154, 2420, 2718, 3053, 3430, 3853, 4328, 4862, 5462, 6135, 6892, 7742, 8697, 9770, 10974, 12328, 13848, 15556, 17475, 19630, 22051, 24770, 27825, 31257, 35111, 39442, 44306, 49770, 55908, 62802, 70548, 79248, 89021, 100000]\n"
     ]
    }
   ],
   "source": [
    "print(logspace)"
   ]
  },
  {
   "cell_type": "code",
   "execution_count": 154,
   "metadata": {
    "collapsed": true
   },
   "outputs": [],
   "source": [
    "def compute_accuracy(y, prediction):\n",
    "    error = np.abs(prediction - y)\n",
    "    return 1 - np.mean(error)\n"
   ]
  },
  {
   "cell_type": "code",
   "execution_count": 180,
   "metadata": {
    "collapsed": true
   },
   "outputs": [],
   "source": [
    "from sklearn.metrics import roc_auc_score\n",
    "\n",
    "def predictor_RFC_score(X_train, X_test, y_train, n_estimators=100, criterion='gini'):\n",
    "    \"\"\"Return prediciton of random forests regressor\"\"\"\n",
    "    forest = RandomForestClassifier(n_estimators=n_estimators, criterion=criterion)\n",
    "    forest.fit(X_train, y_train)\n",
    "    return forest.predict_proba(X_test)[:, 1]\n",
    "\n",
    "def compute_auc_score(y, prediction):\n",
    "    return roc_auc_score(y, prediction)"
   ]
  },
  {
   "cell_type": "code",
   "execution_count": 187,
   "metadata": {
    "collapsed": true
   },
   "outputs": [],
   "source": [
    "from sklearn.linear_model import LogisticRegression\n",
    "\n",
    "def predictor_linear_score(X_train, X_test, y_train):\n",
    "    \"\"\"Return prediciton of random forests regressor\"\"\"\n",
    "    regr = LogisticRegression()\n",
    "    regr.fit(X_train, y_train)\n",
    "    return regr.predict_proba(X_test)[:, 1]"
   ]
  },
  {
   "cell_type": "code",
   "execution_count": 189,
   "metadata": {
    "collapsed": false
   },
   "outputs": [
    {
     "data": {
      "text/plain": [
       "array([  1.61328939e-03,   3.76179325e-03,   3.55369804e-02,\n",
       "         2.78761647e-03,   1.48074433e-03,   3.20301585e-03,\n",
       "         3.39544511e-03,   6.20405628e-02,   2.53914560e-03,\n",
       "         6.39833175e-03,   1.22659669e-02,   4.27198712e-01,\n",
       "         4.40001137e-04,   2.63738443e-02,   2.30469669e-03,\n",
       "         2.94281379e-03,   3.93140952e-03,   2.10778330e-03,\n",
       "         5.53323694e-03,   9.99726113e-03,   1.35395154e-03,\n",
       "         2.48097462e-03,   2.85024107e-03,   7.02718226e-03,\n",
       "         3.07532436e-01,   4.95710480e-03,   3.74468313e-03,\n",
       "         2.00436399e-03,   6.13062697e-03,   2.74916470e-04,\n",
       "         7.31270434e-03,   6.00468934e-03,   4.68607961e-03,\n",
       "         8.59231935e-04,   3.46457657e-03,   9.16577379e-03,\n",
       "         4.89017434e-04,   2.60785547e-05,   7.43368665e-03,\n",
       "         2.46335288e-03,   3.12635800e-03,   9.55907619e-03,\n",
       "         3.65565960e-03,   1.62161947e-03,   2.78261896e-03,\n",
       "         5.16911819e-03,   1.52518993e-03,   3.10282510e-01,\n",
       "         9.35684413e-03,   1.52462075e-03,   7.75024786e-01,\n",
       "         4.72480812e-01,   6.64566653e-03,   1.60830137e-04,\n",
       "         6.20362053e-03,   5.63501647e-03,   4.92786871e-03,\n",
       "         6.01134992e-03,   1.56285728e-03,   1.82647572e-02,\n",
       "         2.33897869e-03,   8.52207909e-03,   7.50480282e-01,\n",
       "         4.83532283e-03,   1.37711874e-03,   1.34704241e-03,\n",
       "         8.11616812e-04,   5.52836918e-03,   5.02017692e-03,\n",
       "         9.46195608e-04,   4.68240143e-03,   1.92947381e-03,\n",
       "         7.01649216e-03,   1.92708186e-01,   1.78558130e-01,\n",
       "         5.27553511e-03,   3.74195320e-03,   3.51398963e-03,\n",
       "         1.05155709e-03,   5.01895241e-03,   1.90555888e-03,\n",
       "         1.21168314e-03,   1.81860421e-03,   3.81371876e-03,\n",
       "         9.56142498e-01,   2.67049878e-03,   5.50882792e-04,\n",
       "         3.41243618e-03,   3.72756322e-03,   4.02748449e-03,\n",
       "         5.46416350e-03,   8.96353564e-04,   9.39377127e-04,\n",
       "         5.80129133e-03,   3.37379743e-03,   1.10759842e-03,\n",
       "         3.31294416e-05,   4.57298017e-03,   9.15521648e-01,\n",
       "         3.03789205e-03,   3.32325794e-03,   2.92560323e-03,\n",
       "         2.70403155e-03,   3.51148576e-03,   9.98890643e-04,\n",
       "         1.15385608e-02,   4.09761978e-03,   9.24331670e-04,\n",
       "         5.46970902e-04,   5.23942650e-03,   9.39456591e-03,\n",
       "         3.60545011e-03,   3.49553445e-03,   4.11726733e-03,\n",
       "         2.68281844e-03,   2.66280042e-04,   9.41256193e-01,\n",
       "         1.61741185e-04,   5.85717071e-04,   1.91039179e-03,\n",
       "         3.24352155e-03,   1.35919360e-03,   1.65187292e-04,\n",
       "         3.55493662e-03,   3.78609859e-03,   6.21111995e-03,\n",
       "         3.31524521e-03,   3.21807123e-03,   2.52989336e-03,\n",
       "         3.83361243e-03,   4.83757662e-03,   4.44341270e-03,\n",
       "         4.55575863e-03,   2.79677451e-03,   6.69228601e-03,\n",
       "         3.36846773e-02,   7.06793063e-03,   3.07151903e-03,\n",
       "         5.70139836e-03,   3.27928547e-03,   3.40332596e-03,\n",
       "         1.60589529e-03,   3.19561506e-03,   1.75395875e-03,\n",
       "         2.17651821e-03,   2.04094280e-03,   5.11807946e-03,\n",
       "         9.81034150e-03,   3.20162425e-04,   4.47704562e-03,\n",
       "         3.80484973e-04,   5.28282817e-03,   3.37800243e-03,\n",
       "         9.76841421e-03,   3.04116238e-03,   3.39600423e-04,\n",
       "         8.75077996e-03,   1.30274306e-03,   4.85105649e-04,\n",
       "         7.79165633e-04,   7.01779326e-02,   5.55762129e-03,\n",
       "         1.51195417e-03,   1.46699768e-01,   7.87515541e-03,\n",
       "         9.39513800e-05,   8.32999113e-02,   3.27834335e-05,\n",
       "         1.78703389e-03,   2.15464309e-03,   5.94836448e-03,\n",
       "         1.88264793e-02,   4.13661427e-03,   7.18874669e-03,\n",
       "         3.51470653e-03,   3.24838008e-03,   3.55474155e-03,\n",
       "         4.72909051e-03,   4.67949028e-03,   5.35482809e-01,\n",
       "         1.21686169e-03,   4.30683039e-03,   2.98740798e-03,\n",
       "         2.23764767e-03,   3.25531983e-03,   4.83484661e-03,\n",
       "         2.61164879e-04,   4.24979438e-04,   2.15195952e-04,\n",
       "         8.29176674e-03,   6.91371629e-02,   2.61279627e-03,\n",
       "         1.79488815e-03,   9.27896740e-03,   3.46256580e-03,\n",
       "         1.67459530e-03,   1.81408970e-02,   1.88390097e-03,\n",
       "         3.44324462e-03,   8.53193329e-04,   1.58533553e-03,\n",
       "         8.53010645e-03,   2.51802335e-03,   9.61360168e-03,\n",
       "         2.85582656e-03,   6.73177465e-04,   2.53522866e-01,\n",
       "         4.91793541e-03,   2.05777603e-03,   4.36677685e-04,\n",
       "         2.86520998e-03,   3.68229432e-04,   6.25555954e-03,\n",
       "         2.01488812e-03,   4.48038931e-01,   2.14460454e-02,\n",
       "         3.97117285e-03,   2.30685945e-03,   5.31564750e-04,\n",
       "         2.79514507e-03,   5.00303480e-04,   4.70147097e-05,\n",
       "         3.68406365e-03,   9.71698983e-04,   4.57096824e-03,\n",
       "         3.27980030e-03,   6.21854260e-03,   2.36357193e-03,\n",
       "         2.93471348e-03,   7.36697174e-04,   1.48973898e-03,\n",
       "         5.81836445e-04,   1.71794953e-03,   8.37167827e-03,\n",
       "         8.24264669e-04,   1.55540758e-03,   8.71026979e-04,\n",
       "         3.70820781e-03,   8.63353449e-04,   5.67414238e-03,\n",
       "         2.06229256e-03,   6.97357407e-03,   2.88855593e-03,\n",
       "         7.05964688e-03,   5.87707500e-03,   3.02468905e-03,\n",
       "         2.83518569e-03,   2.70274152e-03,   3.95157875e-04,\n",
       "         9.31777512e-04,   9.09948632e-04,   1.88739093e-03,\n",
       "         1.58193929e-03,   3.01271615e-04,   7.29749478e-01,\n",
       "         4.73901753e-03,   3.64358522e-03,   2.09504649e-03,\n",
       "         2.74405032e-03,   3.81182079e-03,   6.77759750e-03,\n",
       "         1.99901177e-03,   5.86008813e-03,   4.87779582e-03,\n",
       "         4.36380922e-03,   1.00233509e-02,   4.78465525e-03,\n",
       "         3.93040635e-03,   9.03539882e-03,   3.37353451e-03,\n",
       "         5.20509575e-02,   4.78311012e-03,   3.18863044e-03,\n",
       "         6.38854459e-04,   2.66700194e-03,   4.52077810e-03,\n",
       "         3.61494143e-03,   2.30250751e-03,   8.34785340e-03,\n",
       "         1.38621611e-04,   2.41887393e-03,   2.90408924e-03,\n",
       "         6.40567218e-03,   2.05518011e-03,   2.45044327e-03,\n",
       "         2.64367050e-04,   3.72219909e-03,   1.84674577e-03,\n",
       "         5.47554317e-03,   1.65798432e-03,   1.29351631e-03,\n",
       "         2.65888679e-03,   4.56620639e-03,   4.23042633e-03,\n",
       "         1.97656723e-03,   3.80661765e-03,   2.82940473e-02,\n",
       "         5.00835111e-03,   1.70329184e-03,   6.10978968e-03,\n",
       "         2.60674215e-03,   1.48906874e-03,   3.14403073e-03,\n",
       "         4.82147553e-03,   6.13010297e-03,   4.18108173e-03,\n",
       "         2.62035036e-03,   3.41751404e-03,   2.38812203e-02,\n",
       "         4.36547174e-04,   3.94945283e-03,   6.17264871e-04,\n",
       "         9.73338572e-03,   2.35018887e-01,   8.14499277e-01,\n",
       "         7.46619549e-02,   3.79116278e-01,   3.24098254e-03,\n",
       "         3.64721222e-03,   5.29664838e-03,   1.03403381e-02,\n",
       "         3.11949429e-03,   4.55641427e-03,   1.48858155e-04,\n",
       "         9.50305321e-04,   1.11587137e-02,   2.78909883e-03,\n",
       "         6.10992300e-03,   3.33952214e-03,   3.17466189e-03,\n",
       "         3.01937370e-03,   2.45619839e-03,   7.71339132e-04,\n",
       "         3.69653420e-03,   7.59567749e-03,   1.65834914e-02,\n",
       "         2.69527035e-01,   5.88451357e-03,   2.46835600e-03,\n",
       "         9.68859726e-04,   2.96415639e-03,   8.79962172e-03,\n",
       "         5.88890527e-02,   3.87917831e-03,   2.63283114e-03,\n",
       "         5.16676036e-03,   3.09181737e-03,   4.45674601e-03,\n",
       "         1.29793262e-02,   3.56876231e-03])"
      ]
     },
     "execution_count": 189,
     "metadata": {},
     "output_type": "execute_result"
    }
   ],
   "source": [
    "predictor_linear_score(train_input, test_input, train_target)"
   ]
  },
  {
   "cell_type": "code",
   "execution_count": null,
   "metadata": {
    "collapsed": false
   },
   "outputs": [],
   "source": [
    "%%time\n",
    "scores = []\n",
    "for i in logspace:\n",
    "    prediction = predictor_RFC_score(train_input[:, index[:i]], test_input[:, index[:i]], train_target)\n",
    "    scores.append(compute_auc_score(test_target, prediction))"
   ]
  },
  {
   "cell_type": "code",
   "execution_count": null,
   "metadata": {
    "collapsed": false
   },
   "outputs": [],
   "source": [
    "%%time\n",
    "shuffle_scores = []\n",
    "for i in logspace:\n",
    "    prediction = predictor_RFC_score(train_input[:, shuffle_index[:i]], test_input[:, shuffle_index[:i]], train_target)\n",
    "    shuffle_scores.append(compute_auc_score(test_target, prediction))"
   ]
  },
  {
   "cell_type": "code",
   "execution_count": null,
   "metadata": {
    "collapsed": false
   },
   "outputs": [],
   "source": [
    "fig, ax = plt.subplots()\n",
    "ax.set_ylabel('score')\n",
    "ax.set_title('AUC')\n",
    "ax.set_xscale('log')\n",
    "\n",
    "ax.plot(logspace, scores, label='importance')\n",
    "ax.plot(logspace, shuffle_scores, label='shuffle')\n",
    "ax.legend(loc='lower right')"
   ]
  },
  {
   "cell_type": "code",
   "execution_count": null,
   "metadata": {
    "collapsed": false
   },
   "outputs": [],
   "source": [
    "%%time\n",
    "\n",
    "linear_scores = []\n",
    "for i in logspace:\n",
    "    prediction = predictor_linear_score(train_input[:, index[:i]], test_input[:, index[:i]], train_target)\n",
    "    linear_scores.append(compute_auc_score(test_target, prediction))"
   ]
  },
  {
   "cell_type": "code",
   "execution_count": null,
   "metadata": {
    "collapsed": false
   },
   "outputs": [],
   "source": [
    "%%time\n",
    "\n",
    "shuffle_linear_scores = []\n",
    "for i in logspace:\n",
    "    prediction = predictor_linear_score(train_input[:, shuffle_index[:i]], test_input[:, shuffle_index[:i]], train_target)\n",
    "    shuffle_linear_scores.append(compute_auc_score(test_target, prediction))"
   ]
  },
  {
   "cell_type": "code",
   "execution_count": null,
   "metadata": {
    "collapsed": false
   },
   "outputs": [],
   "source": [
    "fig, ax = plt.subplots()\n",
    "ax.set_ylabel('score')\n",
    "ax.set_title('AUC')\n",
    "ax.set_xscale('log')\n",
    "\n",
    "ax.plot(logspace, linear_scores, label='importance')\n",
    "ax.plot(logspace, shuffle_linear_scores, label='shuffle')\n",
    "ax.legend(loc='lower right')"
   ]
  },
  {
   "cell_type": "code",
   "execution_count": null,
   "metadata": {
    "collapsed": false
   },
   "outputs": [],
   "source": [
    "plt.plot(scores, label='RF')\n",
    "plt.plot(shuffle_scores, label='RF_shuffle')\n",
    "plt.plot(linear_scores, label='linear')\n",
    "plt.plot(shuffle_linear_scores, label='linear_shuffle')\n",
    "plt.legend(loc='lower right')"
   ]
  },
  {
   "cell_type": "code",
   "execution_count": null,
   "metadata": {
    "collapsed": true
   },
   "outputs": [],
   "source": []
  },
  {
   "cell_type": "code",
   "execution_count": null,
   "metadata": {
    "collapsed": true
   },
   "outputs": [],
   "source": []
  },
  {
   "cell_type": "code",
   "execution_count": null,
   "metadata": {
    "collapsed": true
   },
   "outputs": [],
   "source": []
  },
  {
   "cell_type": "markdown",
   "metadata": {},
   "source": [
    "## 2.2. Prediction"
   ]
  },
  {
   "cell_type": "markdown",
   "metadata": {},
   "source": [
    "In the same way as completion, input feature dimension is large compared to the training set size. Therefore, we consider reducing dimension with importance of feature with random forests. We use the data completed in the previous section."
   ]
  },
  {
   "cell_type": "code",
   "execution_count": 342,
   "metadata": {
    "collapsed": false
   },
   "outputs": [],
   "source": [
    "X = np.concatenate((filled_cont, filled_binary), axis=1)"
   ]
  },
  {
   "cell_type": "code",
   "execution_count": 372,
   "metadata": {
    "collapsed": false
   },
   "outputs": [
    {
     "name": "stdout",
     "output_type": "stream",
     "text": [
      "CPU times: user 30.2 s, sys: 80 ms, total: 30.2 s\n",
      "Wall time: 30 s\n"
     ]
    }
   ],
   "source": [
    "%%time\n",
    "\n",
    "forest = RandomForestClassifier(n_estimators=1000)\n",
    "forest.fit(X, data[2])"
   ]
  },
  {
   "cell_type": "code",
   "execution_count": 373,
   "metadata": {
    "collapsed": false
   },
   "outputs": [
    {
     "data": {
      "image/png": "[encoded data removed]",
      "text/plain": [
       "<matplotlib.figure.Figure at 0x7f379d494250>"
      ]
     },
     "metadata": {},
     "output_type": "display_data"
    }
   ],
   "source": [
    "# get idnex of features in descending order of the importance\n",
    "new_index = np.argsort(forest.feature_importances_)[::-1]\n",
    "n_data = len(forest.feature_importances_)\n",
    "_ = plt.bar(np.arange(n_data), forest.feature_importances_[new_index])"
   ]
  },
  {
   "cell_type": "code",
   "execution_count": 374,
   "metadata": {
    "collapsed": false
   },
   "outputs": [
    {
     "data": {
      "image/png": "[encoded data removed]",
      "text/plain": [
       "<matplotlib.figure.Figure at 0x7f3827cc3a90>"
      ]
     },
     "metadata": {},
     "output_type": "display_data"
    }
   ],
   "source": [
    "_ = plt.bar(np.arange(10), forest.feature_importances_[new_index[:10]])"
   ]
  },
  {
   "cell_type": "code",
   "execution_count": 346,
   "metadata": {
    "collapsed": false
   },
   "outputs": [
    {
     "name": "stdout",
     "output_type": "stream",
     "text": [
      "[   2    1    0 ..., 1411  963  569]\n"
     ]
    }
   ],
   "source": [
    "print(new_index)"
   ]
  },
  {
   "cell_type": "markdown",
   "metadata": {},
   "source": [
    "It seems that three continuous variables are significant at the prediction stage."
   ]
  },
  {
   "cell_type": "markdown",
   "metadata": {},
   "source": [
    "In the same way as the previous section, we compare the features selected based on importance of feature with randomly selected features."
   ]
  },
  {
   "cell_type": "code",
   "execution_count": 365,
   "metadata": {
    "collapsed": false
   },
   "outputs": [
    {
     "name": "stdout",
     "output_type": "stream",
     "text": [
      "index oredered by feature importance:\n",
      "[   2    1    0 ..., 1411  963  569]\n",
      "index permuated at random:\n",
      "[1273 1293  904 ..., 1549 1249 1043]\n"
     ]
    }
   ],
   "source": [
    "shuffle_index = new_index.copy()\n",
    "np.random.shuffle(shuffle_index)\n",
    "print('index oredered by feature importance:')\n",
    "print(new_index)\n",
    "print('index permuated at random:')\n",
    "print(shuffle_index)"
   ]
  },
  {
   "cell_type": "code",
   "execution_count": 366,
   "metadata": {
    "collapsed": false
   },
   "outputs": [
    {
     "data": {
      "text/plain": [
       "[1, 2, 4, 10, 21, 46, 100, 215, 464, 1000, 1558]"
      ]
     },
     "execution_count": 366,
     "metadata": {},
     "output_type": "execute_result"
    }
   ],
   "source": [
    "# the number of features to check the performance\n",
    "new_logspace = np.logspace(0, int(np.log10(len(new_index))), 10)\n",
    "new_logspace = [int(x) for x in new_logspace]\n",
    "new_logspace.append(len(new_index))\n",
    "new_logspace"
   ]
  },
  {
   "cell_type": "markdown",
   "metadata": {},
   "source": [
    "We evaluate the algorithms with accuracy rather than error."
   ]
  },
  {
   "cell_type": "code",
   "execution_count": 367,
   "metadata": {
    "collapsed": true
   },
   "outputs": [],
   "source": [
    "def compute_accuracy(y, prediction):\n",
    "    error = 0.5 * np.abs(prediction - y)\n",
    "    return 1 - np.mean(error)\n",
    "\n",
    "def evaluate_predictor(inputs, labels, predictor, *args):\n",
    "    kf = KFold(n_splits=10)\n",
    "    accuracies = []\n",
    "    for idx, (train, test) in enumerate(tqdm(kf.split(inputs))):\n",
    "        X_train, X_test = inputs[train], inputs[test]\n",
    "        y_train, y_test = labels[train], labels[test]\n",
    "        Y = np.concatenate((np.nan * y_test, y_train))\n",
    "        prediction = predictor(*((X_train, X_test, y_train) + args))\n",
    "        accuracy = compute_accuracy(y_test, prediction)\n",
    "        accuracies.append(accuracy)\n",
    "    return np.mean(accuracies)"
   ]
  },
  {
   "cell_type": "markdown",
   "metadata": {},
   "source": [
    "### Random Forests"
   ]
  },
  {
   "cell_type": "code",
   "execution_count": 463,
   "metadata": {
    "collapsed": true
   },
   "outputs": [],
   "source": [
    "def predictor_RFC(X_train, X_test, y_train, n_estimators=100, criterion='gini'):\n",
    "    \"\"\"Return prediciton of random forests regressor\"\"\"\n",
    "    forest = RandomForestClassifier(n_estimators=n_estimators, criterion=criterion)\n",
    "    forest.fit(X_train, y_train)\n",
    "    return forest.predict(X_test)"
   ]
  },
  {
   "cell_type": "code",
   "execution_count": 385,
   "metadata": {
    "collapsed": false
   },
   "outputs": [
    {
     "name": "stderr",
     "output_type": "stream",
     "text": [
      "10it [00:03,  2.65it/s]\n",
      "10it [00:03,  2.72it/s]\n",
      "10it [00:04,  2.44it/s]\n",
      "10it [00:03,  2.62it/s]\n",
      "10it [00:03,  2.62it/s]\n",
      "10it [00:04,  2.35it/s]\n",
      "10it [00:05,  1.88it/s]\n",
      "10it [00:06,  1.46it/s]\n",
      "10it [00:10,  1.02s/it]\n",
      "10it [00:16,  1.69s/it]\n",
      "10it [00:27,  2.75s/it]"
     ]
    },
    {
     "name": "stdout",
     "output_type": "stream",
     "text": [
      "CPU times: user 1min 30s, sys: 240 ms, total: 1min 31s\n",
      "Wall time: 1min 30s\n"
     ]
    },
    {
     "name": "stderr",
     "output_type": "stream",
     "text": [
      "\n"
     ]
    }
   ],
   "source": [
    "%%time\n",
    "\n",
    "accuracies_RF = []\n",
    "for i in new_logspace:\n",
    "    accuracies_RF.append(evaluate_predictor(X[:, new_index[:i]], data[2], predictor_RFC, 100))"
   ]
  },
  {
   "cell_type": "code",
   "execution_count": 382,
   "metadata": {
    "collapsed": false
   },
   "outputs": [
    {
     "name": "stderr",
     "output_type": "stream",
     "text": [
      "10it [00:02,  4.11it/s]\n",
      "10it [00:02,  4.27it/s]\n",
      "10it [00:02,  4.23it/s]\n",
      "10it [00:02,  4.00it/s]\n",
      "10it [00:02,  3.66it/s]\n",
      "10it [00:03,  2.88it/s]\n",
      "10it [00:05,  1.97it/s]\n",
      "10it [00:07,  1.26it/s]\n",
      "10it [00:11,  1.17s/it]\n",
      "10it [00:17,  1.72s/it]\n",
      "10it [00:27,  2.70s/it]"
     ]
    },
    {
     "name": "stdout",
     "output_type": "stream",
     "text": [
      "CPU times: user 1min 25s, sys: 244 ms, total: 1min 25s\n",
      "Wall time: 1min 24s\n"
     ]
    },
    {
     "name": "stderr",
     "output_type": "stream",
     "text": [
      "\n"
     ]
    }
   ],
   "source": [
    "%%time\n",
    "\n",
    "shuffle_accuracies_RF = []\n",
    "for i in new_logspace:\n",
    "    shuffle_accuracies_RF.append(evaluate_predictor(X[:, shuffle_index[:i]], data[2], predictor_RFC, 100))"
   ]
  },
  {
   "cell_type": "code",
   "execution_count": 386,
   "metadata": {
    "collapsed": false
   },
   "outputs": [
    {
     "data": {
      "image/png": "[encoded data removed]",
      "text/plain": [
       "<matplotlib.figure.Figure at 0x7f38293aebd0>"
      ]
     },
     "metadata": {},
     "output_type": "display_data"
    }
   ],
   "source": [
    "fig, ax = plt.subplots()\n",
    "\n",
    "ax.set_ylabel('Accuracy')\n",
    "ax.set_title('Accuracy of Random Forests over Different Size Features')\n",
    "\n",
    "ax.plot(new_logspace, accuracies_RF, label='RF', color='b')\n",
    "ax.plot(new_logspace, shuffle_accuracies_RF, label='RF_shuffled', color='g')\n",
    "ax.set_xlabel('The number of features')\n",
    "ax.set_xscale('log')\n",
    "_ = ax.legend(loc='upper right')"
   ]
  },
  {
   "cell_type": "markdown",
   "metadata": {},
   "source": [
    "Oops!! What is going on!? Using features selected by importance of feature has worse performance."
   ]
  },
  {
   "cell_type": "code",
   "execution_count": 414,
   "metadata": {
    "collapsed": false
   },
   "outputs": [
    {
     "data": {
      "text/plain": [
       "0.13998170173833485"
      ]
     },
     "execution_count": 414,
     "metadata": {},
     "output_type": "execute_result"
    }
   ],
   "source": [
    "np.mean(data[2])"
   ]
  },
  {
   "cell_type": "markdown",
   "metadata": {},
   "source": [
    "I see. The class distribution is skewed and positive instances occupy only about 14% of entire data. Consider the case where there are 99% negative and 1% positive instances. Even the predictor always return negative achieve 99% accuracy. On the other hand, a predictor that predict classify negative instances with 98% accuracy and positive instances with 99% accuracy achieve 98.01% accuracy as a whole. Does that mean the former predict is better than the latter one? Not necessary!. Sometimes, detecting the class occupying small portion of data is more important; e.g., cancer diagnosis. \n",
    "\n",
    "We consider different measures. Let’s consider True Positive Rate(TPR). TPR is the measure as to ratio of positive examples succeeded to detect:\n",
    "$$ TPR = \\frac{TP}{TP + FN},$$\n",
    "where TP is True Positive and FN is False Positive."
   ]
  },
  {
   "cell_type": "code",
   "execution_count": 422,
   "metadata": {
    "collapsed": true
   },
   "outputs": [],
   "source": [
    "def positive_func(x):\n",
    "    return 0.5 * (x + np.abs(x))"
   ]
  },
  {
   "cell_type": "code",
   "execution_count": 529,
   "metadata": {
    "collapsed": true
   },
   "outputs": [],
   "source": [
    "def compute_TPR(y, prediction):\n",
    "    n_pos = np.sum(y)\n",
    "    TPR = (n_pos - np.sum(positive_func(y - prediction))) / n_pos\n",
    "    return TPR\n",
    "\n",
    "\n",
    "def evaluate_predictor(inputs, labels, metrics, predictor, *args):\n",
    "    kf = KFold(n_splits=10)\n",
    "    accuracies = []\n",
    "    for idx, (train, test) in enumerate(tqdm(kf.split(inputs))):\n",
    "        X_train, X_test = inputs[train], inputs[test]\n",
    "        y_train, y_test = labels[train], labels[test]\n",
    "        Y = np.concatenate((np.nan * y_test, y_train))\n",
    "        prediction = predictor(*((X_train, X_test, y_train) + args))\n",
    "        accuracy = metrics(y_test, prediction)\n",
    "        accuracies.append(accuracy)\n",
    "    return np.mean(accuracies)"
   ]
  },
  {
   "cell_type": "code",
   "execution_count": 473,
   "metadata": {
    "collapsed": false
   },
   "outputs": [
    {
     "name": "stderr",
     "output_type": "stream",
     "text": [
      "10it [00:03,  2.63it/s]\n",
      "10it [00:03,  2.64it/s]\n",
      "10it [00:04,  2.41it/s]\n",
      "10it [00:03,  2.59it/s]\n",
      "10it [00:03,  2.55it/s]\n",
      "10it [00:04,  2.34it/s]\n",
      "10it [00:05,  1.89it/s]\n",
      "10it [00:06,  1.47it/s]\n",
      "10it [00:10,  1.02s/it]\n",
      "10it [00:17,  1.72s/it]\n",
      "10it [00:27,  2.74s/it]"
     ]
    },
    {
     "name": "stdout",
     "output_type": "stream",
     "text": [
      "CPU times: user 1min 31s, sys: 36 ms, total: 1min 31s\n",
      "Wall time: 1min 30s\n"
     ]
    },
    {
     "name": "stderr",
     "output_type": "stream",
     "text": [
      "\n"
     ]
    }
   ],
   "source": [
    "%%time\n",
    "\n",
    "accuracies_RF = []\n",
    "for i in new_logspace:\n",
    "    accuracies_RF.append(evaluate_predictor(X[:, new_index[:i]], data[2], compute_TPR, predictor_RFC, 100))"
   ]
  },
  {
   "cell_type": "code",
   "execution_count": 474,
   "metadata": {
    "collapsed": false
   },
   "outputs": [
    {
     "name": "stderr",
     "output_type": "stream",
     "text": [
      "10it [00:02,  4.26it/s]\n",
      "10it [00:02,  4.27it/s]\n",
      "10it [00:02,  4.22it/s]\n",
      "10it [00:02,  4.04it/s]\n",
      "10it [00:02,  3.65it/s]\n",
      "10it [00:03,  2.86it/s]\n",
      "10it [00:05,  1.95it/s]\n",
      "10it [00:08,  1.25it/s]\n",
      "10it [00:11,  1.19s/it]\n",
      "10it [00:17,  1.74s/it]\n",
      "10it [00:27,  2.73s/it]"
     ]
    },
    {
     "name": "stdout",
     "output_type": "stream",
     "text": [
      "CPU times: user 1min 26s, sys: 72 ms, total: 1min 26s\n",
      "Wall time: 1min 25s\n"
     ]
    },
    {
     "name": "stderr",
     "output_type": "stream",
     "text": [
      "\n"
     ]
    }
   ],
   "source": [
    "%%time\n",
    "\n",
    "shuffle_accuracies_RF = []\n",
    "for i in new_logspace:\n",
    "    shuffle_accuracies_RF.append(evaluate_predictor(X[:, shuffle_index[:i]], data[2], compute_TPR, predictor_RFC, 100))"
   ]
  },
  {
   "cell_type": "code",
   "execution_count": 475,
   "metadata": {
    "collapsed": false
   },
   "outputs": [
    {
     "data": {
      "image/png": "[encoded data removed]",
      "text/plain": [
       "<matplotlib.figure.Figure at 0x7f379f135850>"
      ]
     },
     "metadata": {},
     "output_type": "display_data"
    }
   ],
   "source": [
    "fig, ax = plt.subplots()\n",
    "\n",
    "ax.set_ylabel('TPR')\n",
    "ax.set_title('TPR of Random Forests over Different Size Features')\n",
    "\n",
    "ax.plot(new_logspace, accuracies_RF, label='RF', color='b')\n",
    "ax.plot(new_logspace, shuffle_accuracies_RF, label='RF_shuffled', color='g')\n",
    "ax.set_xlabel('The number of features')\n",
    "ax.set_xscale('log')\n",
    "_ = ax.legend(loc='upper right')"
   ]
  },
  {
   "cell_type": "markdown",
   "metadata": {},
   "source": [
    "Random frests with randomly chosen features fails in picking up positive example while RF with selected features detect some.\n",
    "\n",
    "When working on binary classification task, we usually first have real value output from the predictor and classify data going over certain threshold value into  positive. Mostly, the output is restricted to $[0, 1]$ and threshold is set as 0.5. This setting may work when class is equivalently distributed; i.e., positive 50% and negative 50%. Skewed class distribution, however, cause too little detecting either of them.  This comes from the learning architecture. In most cases, we use non skewed cost function like binary cross entropy in the learning stage. To avoid this, we have to set threshold as a hyper parameter. There is a measure related to this topic called receiver operating characteristic(ROC). Taking TPR and FPR as y-axis and axis respectively, this measure visualize the performance of  a predictor with plot along with various threshold values. This plot is called ROC Curve. The area under this curve in the graph is often used as a measure of the performance of a predictor, which is called the area under an ROC Curve (AUC). We use AUC to evaluate the performance."
   ]
  },
  {
   "cell_type": "code",
   "execution_count": 487,
   "metadata": {
    "collapsed": true
   },
   "outputs": [],
   "source": [
    "from sklearn.metrics import roc_auc_score\n",
    "\n",
    "def predictor_RFC_score(X_train, X_test, y_train, n_estimators=100, criterion='gini'):\n",
    "    \"\"\"Return prediciton of random forests regressor\"\"\"\n",
    "    forest = RandomForestClassifier(n_estimators=n_estimators, criterion=criterion)\n",
    "    forest.fit(X_train, y_train)\n",
    "    return forest.predict_proba(X_test)[:, 1]\n",
    "\n",
    "def compute_auc_score(y, prediction, ratio):\n",
    "    return roc_auc_score(y, prediction)"
   ]
  },
  {
   "cell_type": "code",
   "execution_count": 494,
   "metadata": {
    "collapsed": false
   },
   "outputs": [
    {
     "name": "stderr",
     "output_type": "stream",
     "text": [
      "10it [00:04,  2.37it/s]\n",
      "10it [00:03,  2.65it/s]\n",
      "10it [00:04,  2.42it/s]\n",
      "10it [00:03,  2.61it/s]\n",
      "10it [00:03,  2.59it/s]\n",
      "10it [00:04,  2.35it/s]\n",
      "10it [00:05,  1.90it/s]\n",
      "10it [00:06,  1.46it/s]\n",
      "10it [00:10,  1.02s/it]\n",
      "10it [00:17,  1.72s/it]\n",
      "10it [00:27,  2.72s/it]"
     ]
    },
    {
     "name": "stdout",
     "output_type": "stream",
     "text": [
      "CPU times: user 1min 31s, sys: 80 ms, total: 1min 31s\n",
      "Wall time: 1min 31s\n"
     ]
    },
    {
     "name": "stderr",
     "output_type": "stream",
     "text": [
      "\n"
     ]
    }
   ],
   "source": [
    "%%time\n",
    "\n",
    "accuracies_RF = []\n",
    "for i in new_logspace:\n",
    "    accuracies_RF.append(evaluate_predictor(X[:, new_index[:i]], data[2], compute_auc_score, predictor_RFC_score, 100))"
   ]
  },
  {
   "cell_type": "code",
   "execution_count": 495,
   "metadata": {
    "collapsed": false
   },
   "outputs": [
    {
     "name": "stderr",
     "output_type": "stream",
     "text": [
      "10it [00:02,  4.29it/s]\n",
      "10it [00:02,  4.00it/s]\n",
      "10it [00:02,  4.22it/s]\n",
      "10it [00:02,  4.03it/s]\n",
      "10it [00:02,  3.63it/s]\n",
      "10it [00:03,  2.81it/s]\n",
      "10it [00:05,  1.91it/s]\n",
      "10it [00:08,  1.22it/s]\n",
      "10it [00:12,  1.25s/it]\n",
      "10it [00:18,  1.76s/it]\n",
      "10it [00:28,  2.99s/it]"
     ]
    },
    {
     "name": "stdout",
     "output_type": "stream",
     "text": [
      "CPU times: user 1min 28s, sys: 44 ms, total: 1min 28s\n",
      "Wall time: 1min 28s\n"
     ]
    },
    {
     "name": "stderr",
     "output_type": "stream",
     "text": [
      "\n"
     ]
    }
   ],
   "source": [
    "%%time\n",
    "\n",
    "shuffle_accuracies_RF = []\n",
    "for i in new_logspace:\n",
    "    shuffle_accuracies_RF.append(\n",
    "        evaluate_predictor(X[:, shuffle_index[:i]], data[2], compute_auc_score, predictor_RFC_score, 100))"
   ]
  },
  {
   "cell_type": "code",
   "execution_count": 532,
   "metadata": {
    "collapsed": false
   },
   "outputs": [
    {
     "data": {
      "image/png": "[encoded data removed]",
      "text/plain": [
       "<matplotlib.figure.Figure at 0x7f382435dcd0>"
      ]
     },
     "metadata": {},
     "output_type": "display_data"
    }
   ],
   "source": [
    "fig, ax = plt.subplots()\n",
    "\n",
    "ax.set_ylabel('AUC')\n",
    "ax.set_title('AUC of Random Forests over Different Size Features')\n",
    "\n",
    "ax.plot(new_logspace, accuracies_RF, label='RF', color='b')\n",
    "ax.plot(new_logspace, shuffle_accuracies_RF, label='RF_shuffled', color='g')\n",
    "ax.set_xlabel('The number of features')\n",
    "ax.set_xscale('log')\n",
    "_ = ax.legend(loc='upper right')"
   ]
  },
  {
   "cell_type": "markdown",
   "metadata": {},
   "source": [
    "AUC score reach the maximum around 100 seelcted features. "
   ]
  },
  {
   "cell_type": "markdown",
   "metadata": {},
   "source": [
    "In the AUC, TPR and FPR are used as measures of the performance. Since $TNR = 1 - FPR$, we can use TPR and TNR as measures. Then, we use \n",
    "$$\\sqrt{TPR \\times TNR}.$$"
   ]
  },
  {
   "cell_type": "code",
   "execution_count": 517,
   "metadata": {
    "collapsed": true
   },
   "outputs": [],
   "source": [
    "from sklearn.metrics import roc_auc_score\n",
    "from sklearn.preprocessing import LabelBinarizer\n",
    "\n",
    "def predictor_RFC_threshold(X_train, X_test, y_train, threshold=0.5, n_estimators=100, criterion='gini'):\n",
    "    \"\"\"Return prediciton of random forests regressor\"\"\"\n",
    "    forest = RandomForestClassifier(n_estimators=n_estimators, criterion=criterion)\n",
    "    forest.fit(X_train, y_train)\n",
    "    score = forest.predict_proba(X_test)[:, 1]\n",
    "    lb = LabelBinarizer()\n",
    "    return lb.fit_transform(score >= threshold)[:, 0]\n",
    "    \n",
    "\n",
    "def compute_geo_metrics(y, prediction, ratio):\n",
    "    n_pos = np.sum(y)\n",
    "    n_neg = len(y) - n_pos\n",
    "    TPR = (n_pos - np.sum(positive_func(y - prediction))) / n_pos\n",
    "    TNR = (n_neg - np.sum(positive_func(prediction - y))) / n_neg\n",
    "    return np.mean(np.sqrt(TPR * TNR))"
   ]
  },
  {
   "cell_type": "code",
   "execution_count": 528,
   "metadata": {
    "collapsed": false
   },
   "outputs": [
    {
     "name": "stderr",
     "output_type": "stream",
     "text": [
      "10it [00:05,  1.83it/s]\n",
      "10it [00:05,  1.87it/s]\n",
      "10it [00:05,  1.84it/s]\n",
      "10it [00:05,  1.88it/s]\n",
      "10it [00:05,  1.87it/s]\n",
      "10it [00:05,  1.86it/s]\n",
      "10it [00:05,  1.86it/s]\n",
      "10it [00:05,  1.78it/s]\n",
      "10it [00:05,  1.73it/s]\n",
      "10it [00:05,  1.74it/s]\n",
      "10it [00:05,  1.77it/s]\n",
      "10it [00:05,  1.77it/s]\n",
      "10it [00:05,  1.84it/s]\n",
      "10it [00:05,  1.86it/s]\n",
      "10it [00:05,  1.87it/s]\n",
      "10it [00:05,  1.86it/s]\n",
      "10it [00:05,  1.86it/s]\n",
      "10it [00:05,  1.80it/s]\n",
      "10it [00:05,  1.86it/s]\n",
      "10it [00:05,  1.87it/s]\n",
      "10it [00:05,  1.89it/s]\n",
      "10it [00:05,  1.88it/s]\n",
      "10it [00:05,  1.85it/s]\n",
      "10it [00:05,  1.86it/s]\n",
      "10it [00:05,  1.87it/s]\n",
      "10it [00:05,  1.84it/s]\n",
      "10it [00:05,  1.86it/s]\n",
      "10it [00:05,  1.86it/s]\n",
      "10it [00:05,  1.87it/s]\n",
      "10it [00:05,  1.85it/s]\n",
      "10it [00:05,  1.84it/s]\n",
      "10it [00:05,  1.86it/s]\n",
      "10it [00:05,  1.87it/s]\n",
      "10it [00:05,  1.83it/s]\n",
      "10it [00:05,  1.87it/s]\n",
      "10it [00:05,  1.84it/s]\n",
      "10it [00:05,  1.87it/s]\n",
      "10it [00:05,  1.85it/s]\n",
      "10it [00:05,  1.85it/s]\n",
      "10it [00:05,  1.89it/s]\n",
      "10it [00:05,  1.86it/s]\n",
      "10it [00:05,  1.86it/s]\n",
      "10it [00:05,  1.86it/s]\n",
      "10it [00:05,  1.84it/s]\n",
      "10it [00:05,  1.82it/s]\n",
      "10it [00:05,  1.87it/s]\n",
      "10it [00:05,  1.86it/s]\n",
      "10it [00:05,  1.87it/s]\n",
      "10it [00:05,  1.89it/s]\n",
      "10it [00:05,  1.89it/s]\n",
      "10it [00:05,  1.89it/s]\n",
      "10it [00:05,  1.86it/s]\n",
      "10it [00:05,  1.87it/s]\n",
      "10it [00:05,  1.85it/s]\n",
      "10it [00:05,  1.86it/s]\n",
      "10it [00:05,  1.84it/s]\n",
      "10it [00:05,  1.87it/s]\n",
      "10it [00:05,  1.91it/s]\n",
      "10it [00:05,  1.88it/s]\n",
      "10it [00:05,  1.87it/s]\n",
      "10it [00:05,  1.84it/s]\n",
      "10it [00:05,  1.87it/s]\n",
      "10it [00:05,  1.87it/s]\n",
      "10it [00:05,  1.90it/s]\n",
      "10it [00:05,  1.83it/s]\n",
      "10it [00:05,  1.91it/s]\n",
      "10it [00:05,  1.88it/s]\n",
      "10it [00:05,  1.89it/s]\n",
      "10it [00:05,  1.88it/s]\n",
      "10it [00:05,  1.89it/s]\n",
      "10it [00:05,  1.87it/s]\n",
      "10it [00:05,  1.89it/s]\n",
      "10it [00:05,  1.88it/s]\n",
      "10it [00:05,  1.66it/s]\n",
      "10it [00:05,  1.76it/s]\n",
      "10it [00:05,  1.88it/s]\n",
      "10it [00:05,  1.85it/s]\n",
      "10it [00:05,  1.89it/s]\n",
      "10it [00:05,  1.90it/s]\n",
      "10it [00:05,  1.90it/s]\n",
      "10it [00:05,  1.91it/s]\n",
      "10it [00:05,  1.89it/s]\n",
      "10it [00:05,  1.91it/s]\n",
      "10it [00:05,  1.92it/s]\n",
      "10it [00:05,  1.86it/s]\n",
      "10it [00:05,  1.88it/s]\n",
      "10it [00:05,  1.89it/s]\n",
      "10it [00:05,  1.88it/s]\n",
      "10it [00:05,  1.86it/s]\n",
      "10it [00:05,  1.89it/s]\n",
      "10it [00:05,  1.86it/s]\n",
      "10it [00:05,  1.83it/s]\n",
      "10it [00:05,  1.86it/s]\n",
      "10it [00:05,  1.86it/s]\n",
      "10it [00:05,  1.88it/s]\n",
      "10it [00:05,  1.89it/s]\n",
      "10it [00:05,  1.87it/s]\n",
      "10it [00:05,  1.87it/s]\n",
      "10it [00:05,  1.89it/s]\n",
      "10it [00:05,  1.88it/s]"
     ]
    },
    {
     "name": "stdout",
     "output_type": "stream",
     "text": [
      "CPU times: user 9min, sys: 252 ms, total: 9min 1s\n",
      "Wall time: 8min 56s\n"
     ]
    },
    {
     "name": "stderr",
     "output_type": "stream",
     "text": [
      "\n"
     ]
    }
   ],
   "source": [
    "%%time\n",
    "thresholds = np.linspace(0, 1, 100)\n",
    "\n",
    "accuracies_geo = []\n",
    "for th in thresholds:\n",
    "    accuracy = evaluate_predictor(X[:, new_index[:100]], data[2], \n",
    "                              compute_geo_metrics, predictor_RFC_threshold, th, 100)\n",
    "    accuracies_geo.append(accuracy)"
   ]
  },
  {
   "cell_type": "code",
   "execution_count": 533,
   "metadata": {
    "collapsed": false
   },
   "outputs": [
    {
     "data": {
      "image/png": "[encoded data removed]",
      "text/plain": [
       "<matplotlib.figure.Figure at 0x7f379d528dd0>"
      ]
     },
     "metadata": {},
     "output_type": "display_data"
    }
   ],
   "source": [
    "fig, ax = plt.subplots()\n",
    "\n",
    "ax.set_ylabel('TPR_TNR')\n",
    "ax.set_title('TPR_TNR measure of Random Forests over Different Size Features')\n",
    "\n",
    "ax.plot(thresholds, accuracies_geo, label='RF', color='b')\n",
    "ax.set_xlabel('The number of features')\n",
    "ax.set_xscale('log')\n",
    "_ = ax.legend(loc='upper right')"
   ]
  },
  {
   "cell_type": "code",
   "execution_count": 534,
   "metadata": {
    "collapsed": false
   },
   "outputs": [
    {
     "data": {
      "text/plain": [
       "0.10101010101010102"
      ]
     },
     "execution_count": 534,
     "metadata": {},
     "output_type": "execute_result"
    }
   ],
   "source": [
    "thresholds[np.argmax(accuracies_geo)]"
   ]
  },
  {
   "cell_type": "markdown",
   "metadata": {},
   "source": [
    "We use the top 100 impotrant features with threshold 0.1 for prediction."
   ]
  },
  {
   "cell_type": "markdown",
   "metadata": {},
   "source": [
    "# 3. Discussion"
   ]
  },
  {
   "cell_type": "markdown",
   "metadata": {},
   "source": [
    "First, we consider the completion of missing data. Since the input dimension is large compared to the size of training set, we consider dimension reduction with random forests. The importance of feature of random forests is one of the quantities to measure how much each component contributes to the accuracy of prediction. We have shown that selected features based on this quantity works well not only on random forests itself but also other algorithms: neural network and linear regression. After comparing completion qualities, we decided to use the most 1000 important features with random forests.\n",
    "\n",
    "At the prediction stage, we tried to work on dimension reduction in the same as completion. Features selected based on the importance of features, however, gave worse performance than the randomly selected ones. This comes from the skewed class distribution. Positive instances occupy only about 14% of entire training set. Therefore, we consider another metrics like AUC and geometric means of TPR and TNR. Finally we concluded to using the most 100 important features and threshold 0.1 for prediction."
   ]
  }
 ],
 "metadata": {
  "anaconda-cloud": {},
  "kernelspec": {
   "display_name": "Python [Root]",
   "language": "python",
   "name": "Python [Root]"
  },
  "language_info": {
   "codemirror_mode": {
    "name": "ipython",
    "version": 2
   },
   "file_extension": ".py",
   "mimetype": "text/x-python",
   "name": "python",
   "nbconvert_exporter": "python",
   "pygments_lexer": "ipython2",
   "version": "2.7.12"
  }
 },
 "nbformat": 4,
 "nbformat_minor": 1
}
