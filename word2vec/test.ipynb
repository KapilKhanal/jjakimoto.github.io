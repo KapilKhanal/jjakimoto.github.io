{
 "cells": [
  {
   "cell_type": "markdown",
   "metadata": {},
   "source": [
    "We fetch data from http://ai.stanford.edu/~amaas/data/sentiment/."
   ]
  },
  {
   "cell_type": "code",
   "execution_count": 1,
   "metadata": {
    "collapsed": false
   },
   "outputs": [],
   "source": [
    "import matplotlib.pyplot as plt\n",
    "import pandas as pd\n",
    "import numpy as np\n",
    "from six.moves import xrange, zip, map, filter\n",
    "\n",
    "%matplotlib inline"
   ]
  },
  {
   "cell_type": "code",
   "execution_count": 2,
   "metadata": {
    "collapsed": true
   },
   "outputs": [],
   "source": [
    "import re\n",
    "from nltk.corpus import stopwords\n",
    "from bs4 import BeautifulSoup\n",
    "\n",
    "def review2wordlist(review, remove_stopwords=False):\n",
    "    review_text = BeautifulSoup(review, 'lxml').get_text()\n",
    "    review_text = re.sub(\"[^a-zA-Z]\",\" \", review_text)\n",
    "    words = review_text.lower().split()\n",
    "    if remove_stopwords:\n",
    "        stops = set(stopwords.words(\"english\"))\n",
    "        words = [w for w in words if not w in stops]\n",
    "    return words"
   ]
  },
  {
   "cell_type": "code",
   "execution_count": 3,
   "metadata": {
    "collapsed": false
   },
   "outputs": [],
   "source": [
    "import re \n",
    "from six.moves import xrange\n",
    "import os\n",
    "\n",
    "def get_data(file_dirs, remove_stopwords=False):\n",
    "    label = []\n",
    "    txt = []\n",
    "    comp_re = re.compile('(\\d+)_(\\d+).txt')\n",
    "    for file_dir in file_dirs:\n",
    "        name_list = [x for x in os.listdir(file_dir) if '.txt' in x]\n",
    "        for x in iter(name_list):\n",
    "            f = open(os.path.join(file_dir, x), 'r')\n",
    "            # word_list = review_to_wordlist(f.read(),  remove_stopwords)\n",
    "            review_text = BeautifulSoup(f.read(), 'lxml').get_text()\n",
    "            review_text = re.sub(\"[^a-zA-Z]\",\" \", review_text)\n",
    "            txt.append(review_text)\n",
    "            # txt.append(word_list)\n",
    "            f.close()\n",
    "            obj = comp_re.search(x)\n",
    "            star = float(obj.group(2))\n",
    "            if star > 5:\n",
    "                label.append(1)\n",
    "            else:\n",
    "                label.append(0)\n",
    "    return [txt, label]"
   ]
  },
  {
   "cell_type": "code",
   "execution_count": 4,
   "metadata": {
    "collapsed": false
   },
   "outputs": [
    {
     "name": "stdout",
     "output_type": "stream",
     "text": [
      "CPU times: user 16.9 s, sys: 432 ms, total: 17.4 s\n",
      "Wall time: 17.4 s\n"
     ]
    }
   ],
   "source": [
    "%%time\n",
    "train_unlabeled = get_data(['./aclImdb/train/unsup'], remove_stopwords=True)"
   ]
  },
  {
   "cell_type": "code",
   "execution_count": 5,
   "metadata": {
    "collapsed": false
   },
   "outputs": [
    {
     "name": "stdout",
     "output_type": "stream",
     "text": [
      "CPU times: user 8.71 s, sys: 244 ms, total: 8.96 s\n",
      "Wall time: 8.96 s\n"
     ]
    }
   ],
   "source": [
    "%%time\n",
    "train_labeled = get_data(['./aclImdb/train/pos', './aclImdb/train/neg'], remove_stopwords=True)"
   ]
  },
  {
   "cell_type": "code",
   "execution_count": 6,
   "metadata": {
    "collapsed": false
   },
   "outputs": [
    {
     "data": {
      "text/plain": [
       "u'Most reviews say that this is the weakest point in Hamilton s short movie career  This movie is a bit different from the rest  and considering it the best or the worst depends on what you expect from a movie  and what you expect from Hamilton Knowing Hamilton as a photographer  you can be slightly surprised  While Bilitis looks like his books in a movement with all those young girls discovering themselves and relations with each other on the edge of lesbian  with a plot connecting these scenes  Laura concentrates on few characters what enables developing relations among them  male female  artist model  but though we see beautiful photos  many of them better than his average  their number is reduced for the sake of the plot  Tendres cousines is different from both  it is only Hamilton s movie that looks more like a film than like a collection of moving photos  Because of that it can be acceptable to wider audience than Hamilton s fans  looking like an erotic comedy  but not German soft core type    Schulm dchen report  fans would be very disappointed   You won t laugh a lot  but you can smile  and that s something you don t often get from Hamilton   Unlike all other Hamilton s movies the age of female varies  Unlike other movies main character is a boy  Unlike his usual works this one isn t put out of place and out of time  We have characters that live their life  have their destiny and don t lead us only from one photo to another  from one nude girl to another Unfortunately  Hamilton  again  gets lost with a script in his hands  Girls on beaches  under shower  in low light rooms  in gardens  under tents  in front of mirrors  regardless of the amount of clothes   this is his territory  he can shoot minutes and hours  and whatever he does you ll always feel the artist s eye and hand behind it  But when he has to present us average everyday life he stops being Hamilton and becomes average director who just follows the script  Hamilton is best known for his nudes  but they are just a part of his work  And in Tendres cousines we have a reverse situation  his girls are not in the best shots  Nature  garden  house remind us on Hamilton s work  often neglected part of it   while girls  even when nude  don t have anything special in the way he presents us  Maybe Hamilton was confused having a boy in front of camera  maybe he was thinking about a line that censorship would accept  maybe he was really trying to make something new  and no one dared to tell him he shouldn t   but he neglected what he was mostly praised for '"
      ]
     },
     "execution_count": 6,
     "metadata": {},
     "output_type": "execute_result"
    }
   ],
   "source": [
    "train_labeled[0][0]"
   ]
  },
  {
   "cell_type": "markdown",
   "metadata": {},
   "source": [
    "# Bag of Words"
   ]
  },
  {
   "cell_type": "code",
   "execution_count": 15,
   "metadata": {
    "collapsed": false
   },
   "outputs": [],
   "source": [
    "from sklearn.feature_extraction.text import CountVectorizer\n",
    "\n",
    "vectorizer = CountVectorizer(analyzer = \"word\", \n",
    "                             tokenizer = None,    \n",
    "                             preprocessor = None, \n",
    "                             stop_words = None,   \n",
    "                             max_features = 5000) "
   ]
  },
  {
   "cell_type": "code",
   "execution_count": 16,
   "metadata": {
    "collapsed": true
   },
   "outputs": [],
   "source": [
    "from sklearn.preprocessing import normalize\n",
    "\n",
    "def get_bow(vectorizer, data):\n",
    "    bow = vectorizer.transform(data)\n",
    "    bow = normalize(bow, norm='l2', axis=1)\n",
    "    return bow"
   ]
  },
  {
   "cell_type": "code",
   "execution_count": 17,
   "metadata": {
    "collapsed": false
   },
   "outputs": [
    {
     "name": "stdout",
     "output_type": "stream",
     "text": [
      "CPU times: user 4.62 s, sys: 68 ms, total: 4.69 s\n",
      "Wall time: 4.56 s\n"
     ]
    },
    {
     "data": {
      "text/plain": [
       "CountVectorizer(analyzer='word', binary=False, decode_error=u'strict',\n",
       "        dtype=<type 'numpy.int64'>, encoding=u'utf-8', input=u'content',\n",
       "        lowercase=True, max_df=1.0, max_features=5000, min_df=1,\n",
       "        ngram_range=(1, 1), preprocessor=None, stop_words=None,\n",
       "        strip_accents=None, token_pattern=u'(?u)\\\\b\\\\w\\\\w+\\\\b',\n",
       "        tokenizer=None, vocabulary=None)"
      ]
     },
     "execution_count": 17,
     "metadata": {},
     "output_type": "execute_result"
    }
   ],
   "source": [
    "%%time\n",
    "\n",
    "vectorizer.fit(train_labeled[0])"
   ]
  },
  {
   "cell_type": "code",
   "execution_count": 18,
   "metadata": {
    "collapsed": false
   },
   "outputs": [
    {
     "name": "stderr",
     "output_type": "stream",
     "text": [
      "/home/tomoaki/anaconda2/lib/python2.7/site-packages/sklearn/utils/validation.py:420: DataConversionWarning: Data with input dtype int64 was converted to float64 by the normalize function.\n",
      "  warnings.warn(msg, DataConversionWarning)\n"
     ]
    }
   ],
   "source": [
    "bow = get_bow(vectorizer, train_labeled[0])"
   ]
  },
  {
   "cell_type": "code",
   "execution_count": 19,
   "metadata": {
    "collapsed": false
   },
   "outputs": [
    {
     "data": {
      "text/plain": [
       "(25000, 5000)"
      ]
     },
     "execution_count": 19,
     "metadata": {},
     "output_type": "execute_result"
    }
   ],
   "source": [
    "bow.shape"
   ]
  },
  {
   "cell_type": "code",
   "execution_count": 20,
   "metadata": {
    "collapsed": false
   },
   "outputs": [],
   "source": [
    "import tensorflow as tf\n",
    "from keras.preprocessing.sequence import pad_sequences\n",
    "from keras.layers.convolutional import Convolution2D\n",
    "from keras.layers.pooling import MaxPooling2D \n",
    "from keras.layers.core import Flatten, Lambda\n",
    "from keras.models import Sequential\n",
    "from keras.layers import BatchNormalization\n",
    "from keras.layers import Activation\n",
    "from keras.layers.core import Dense\n",
    "from keras.layers.advanced_activations import PReLU\n",
    "from keras.layers import SpatialDropout2D\n",
    "from keras.layers import Dropout, Reshape\n",
    "from keras.layers import Embedding\n",
    "from keras.optimizers import Adam\n",
    "\n",
    "model = Sequential()\n",
    "model.add(Dense(1, activation='sigmoid', name='output', input_shape=[bow.shape[1],]))\n",
    "opt = Adam(lr=1e-3)\n",
    "model.compile(loss='binary_crossentropy',\n",
    "              optimizer=opt,\n",
    "              metrics=['acc'])"
   ]
  },
  {
   "cell_type": "code",
   "execution_count": 31,
   "metadata": {
    "collapsed": false
   },
   "outputs": [
    {
     "name": "stdout",
     "output_type": "stream",
     "text": [
      "Epoch 1/1000\n",
      "0s - loss: 0.2712 - acc: 0.9057\n",
      "Epoch 2/1000\n",
      "0s - loss: 0.2704 - acc: 0.9055\n",
      "Epoch 3/1000\n",
      "0s - loss: 0.2695 - acc: 0.9058\n",
      "Epoch 4/1000\n",
      "0s - loss: 0.2687 - acc: 0.9062\n",
      "Epoch 5/1000\n",
      "0s - loss: 0.2678 - acc: 0.9064\n",
      "Epoch 6/1000\n",
      "0s - loss: 0.2670 - acc: 0.9067\n",
      "Epoch 7/1000\n",
      "0s - loss: 0.2662 - acc: 0.9066\n",
      "Epoch 8/1000\n",
      "0s - loss: 0.2654 - acc: 0.9072\n",
      "Epoch 9/1000\n",
      "0s - loss: 0.2646 - acc: 0.9075\n",
      "Epoch 10/1000\n",
      "0s - loss: 0.2638 - acc: 0.9076\n",
      "Epoch 11/1000\n",
      "0s - loss: 0.2631 - acc: 0.9080\n",
      "Epoch 12/1000\n",
      "0s - loss: 0.2623 - acc: 0.9079\n",
      "Epoch 13/1000\n",
      "0s - loss: 0.2616 - acc: 0.9082\n",
      "Epoch 14/1000\n",
      "0s - loss: 0.2608 - acc: 0.9081\n",
      "Epoch 15/1000\n",
      "0s - loss: 0.2601 - acc: 0.9084\n",
      "Epoch 16/1000\n",
      "0s - loss: 0.2594 - acc: 0.9090\n",
      "Epoch 17/1000\n",
      "0s - loss: 0.2587 - acc: 0.9088\n",
      "Epoch 18/1000\n",
      "0s - loss: 0.2580 - acc: 0.9095\n",
      "Epoch 19/1000\n",
      "0s - loss: 0.2573 - acc: 0.9099\n",
      "Epoch 20/1000\n",
      "0s - loss: 0.2566 - acc: 0.9096\n",
      "Epoch 21/1000\n",
      "0s - loss: 0.2560 - acc: 0.9102\n",
      "Epoch 22/1000\n",
      "0s - loss: 0.2553 - acc: 0.9102\n",
      "Epoch 23/1000\n",
      "0s - loss: 0.2546 - acc: 0.9107\n",
      "Epoch 24/1000\n",
      "0s - loss: 0.2540 - acc: 0.9107\n",
      "Epoch 25/1000\n",
      "0s - loss: 0.2533 - acc: 0.9111\n",
      "Epoch 26/1000\n",
      "0s - loss: 0.2527 - acc: 0.9113\n",
      "Epoch 27/1000\n",
      "0s - loss: 0.2521 - acc: 0.9114\n",
      "Epoch 28/1000\n",
      "0s - loss: 0.2515 - acc: 0.9116\n",
      "Epoch 29/1000\n",
      "0s - loss: 0.2509 - acc: 0.9116\n",
      "Epoch 30/1000\n",
      "0s - loss: 0.2503 - acc: 0.9122\n",
      "Epoch 31/1000\n",
      "0s - loss: 0.2497 - acc: 0.9121\n",
      "Epoch 32/1000\n",
      "0s - loss: 0.2491 - acc: 0.9123\n",
      "Epoch 33/1000\n",
      "0s - loss: 0.2485 - acc: 0.9128\n",
      "Epoch 34/1000\n",
      "0s - loss: 0.2479 - acc: 0.9132\n",
      "Epoch 35/1000\n",
      "0s - loss: 0.2473 - acc: 0.9130\n",
      "Epoch 36/1000\n",
      "0s - loss: 0.2468 - acc: 0.9132\n",
      "Epoch 37/1000\n",
      "0s - loss: 0.2462 - acc: 0.9138\n",
      "Epoch 38/1000\n",
      "0s - loss: 0.2457 - acc: 0.9138\n",
      "Epoch 39/1000\n",
      "0s - loss: 0.2451 - acc: 0.9140\n",
      "Epoch 40/1000\n",
      "0s - loss: 0.2446 - acc: 0.9142\n",
      "Epoch 41/1000\n",
      "0s - loss: 0.2441 - acc: 0.9143\n",
      "Epoch 42/1000\n",
      "0s - loss: 0.2435 - acc: 0.9144\n",
      "Epoch 43/1000\n",
      "0s - loss: 0.2430 - acc: 0.9148\n",
      "Epoch 44/1000\n",
      "0s - loss: 0.2425 - acc: 0.9145\n",
      "Epoch 45/1000\n",
      "0s - loss: 0.2420 - acc: 0.9150\n",
      "Epoch 46/1000\n",
      "0s - loss: 0.2415 - acc: 0.9147\n",
      "Epoch 47/1000\n",
      "0s - loss: 0.2410 - acc: 0.9148\n",
      "Epoch 48/1000\n",
      "0s - loss: 0.2405 - acc: 0.9149\n",
      "Epoch 49/1000\n",
      "0s - loss: 0.2400 - acc: 0.9152\n",
      "Epoch 50/1000\n",
      "0s - loss: 0.2395 - acc: 0.9156\n",
      "Epoch 51/1000\n",
      "0s - loss: 0.2390 - acc: 0.9153\n",
      "Epoch 52/1000\n",
      "0s - loss: 0.2385 - acc: 0.9158\n",
      "Epoch 53/1000\n",
      "0s - loss: 0.2381 - acc: 0.9156\n",
      "Epoch 54/1000\n",
      "0s - loss: 0.2376 - acc: 0.9158\n",
      "Epoch 55/1000\n",
      "0s - loss: 0.2371 - acc: 0.9160\n",
      "Epoch 56/1000\n",
      "0s - loss: 0.2367 - acc: 0.9164\n",
      "Epoch 57/1000\n",
      "0s - loss: 0.2362 - acc: 0.9164\n",
      "Epoch 58/1000\n",
      "0s - loss: 0.2358 - acc: 0.9164\n",
      "Epoch 59/1000\n",
      "0s - loss: 0.2353 - acc: 0.9169\n",
      "Epoch 60/1000\n",
      "0s - loss: 0.2349 - acc: 0.9170\n",
      "Epoch 61/1000\n",
      "0s - loss: 0.2344 - acc: 0.9168\n",
      "Epoch 62/1000\n",
      "0s - loss: 0.2340 - acc: 0.9172\n",
      "Epoch 63/1000\n",
      "0s - loss: 0.2335 - acc: 0.9172\n",
      "Epoch 64/1000\n",
      "0s - loss: 0.2331 - acc: 0.9174\n",
      "Epoch 65/1000\n",
      "0s - loss: 0.2327 - acc: 0.9173\n",
      "Epoch 66/1000\n",
      "0s - loss: 0.2323 - acc: 0.9179\n",
      "Epoch 67/1000\n",
      "0s - loss: 0.2319 - acc: 0.9176\n",
      "Epoch 68/1000\n",
      "0s - loss: 0.2315 - acc: 0.9178\n",
      "Epoch 69/1000\n",
      "0s - loss: 0.2311 - acc: 0.9179\n",
      "Epoch 70/1000\n",
      "0s - loss: 0.2306 - acc: 0.9180\n",
      "Epoch 71/1000\n",
      "0s - loss: 0.2303 - acc: 0.9186\n",
      "Epoch 72/1000\n",
      "0s - loss: 0.2299 - acc: 0.9182\n",
      "Epoch 73/1000\n",
      "0s - loss: 0.2295 - acc: 0.9182\n",
      "Epoch 74/1000\n",
      "0s - loss: 0.2291 - acc: 0.9185\n",
      "Epoch 75/1000\n",
      "0s - loss: 0.2287 - acc: 0.9186\n",
      "Epoch 76/1000\n",
      "0s - loss: 0.2283 - acc: 0.9188\n",
      "Epoch 77/1000\n",
      "0s - loss: 0.2279 - acc: 0.9186\n",
      "Epoch 78/1000\n",
      "0s - loss: 0.2275 - acc: 0.9190\n",
      "Epoch 79/1000\n",
      "0s - loss: 0.2272 - acc: 0.9190\n",
      "Epoch 80/1000\n",
      "0s - loss: 0.2268 - acc: 0.9194\n",
      "Epoch 81/1000\n",
      "0s - loss: 0.2264 - acc: 0.9193\n",
      "Epoch 82/1000\n",
      "0s - loss: 0.2261 - acc: 0.9196\n",
      "Epoch 83/1000\n",
      "0s - loss: 0.2257 - acc: 0.9193\n",
      "Epoch 84/1000\n",
      "0s - loss: 0.2254 - acc: 0.9197\n",
      "Epoch 85/1000\n",
      "0s - loss: 0.2250 - acc: 0.9198\n",
      "Epoch 86/1000\n",
      "0s - loss: 0.2246 - acc: 0.9197\n",
      "Epoch 87/1000\n",
      "0s - loss: 0.2243 - acc: 0.9201\n",
      "Epoch 88/1000\n",
      "0s - loss: 0.2239 - acc: 0.9204\n",
      "Epoch 89/1000\n",
      "0s - loss: 0.2236 - acc: 0.9202\n",
      "Epoch 90/1000\n",
      "0s - loss: 0.2232 - acc: 0.9202\n",
      "Epoch 91/1000\n",
      "0s - loss: 0.2229 - acc: 0.9204\n",
      "Epoch 92/1000\n",
      "0s - loss: 0.2225 - acc: 0.9207\n",
      "Epoch 93/1000\n",
      "0s - loss: 0.2222 - acc: 0.9209\n",
      "Epoch 94/1000\n",
      "0s - loss: 0.2219 - acc: 0.9209\n",
      "Epoch 95/1000\n",
      "0s - loss: 0.2216 - acc: 0.9210\n",
      "Epoch 96/1000\n",
      "0s - loss: 0.2212 - acc: 0.9211\n",
      "Epoch 97/1000\n",
      "0s - loss: 0.2209 - acc: 0.9209\n",
      "Epoch 98/1000\n",
      "0s - loss: 0.2206 - acc: 0.9213\n",
      "Epoch 99/1000\n",
      "0s - loss: 0.2203 - acc: 0.9213\n",
      "Epoch 100/1000\n",
      "0s - loss: 0.2200 - acc: 0.9214\n",
      "Epoch 101/1000\n",
      "0s - loss: 0.2196 - acc: 0.9219\n",
      "Epoch 102/1000\n",
      "0s - loss: 0.2193 - acc: 0.9215\n",
      "Epoch 103/1000\n",
      "0s - loss: 0.2190 - acc: 0.9219\n",
      "Epoch 104/1000\n",
      "0s - loss: 0.2187 - acc: 0.9220\n",
      "Epoch 105/1000\n",
      "0s - loss: 0.2184 - acc: 0.9217\n",
      "Epoch 106/1000\n",
      "0s - loss: 0.2181 - acc: 0.9221\n",
      "Epoch 107/1000\n",
      "0s - loss: 0.2178 - acc: 0.9224\n",
      "Epoch 108/1000\n",
      "0s - loss: 0.2175 - acc: 0.9224\n",
      "Epoch 109/1000\n",
      "0s - loss: 0.2172 - acc: 0.9225\n",
      "Epoch 110/1000\n",
      "0s - loss: 0.2169 - acc: 0.9220\n",
      "Epoch 111/1000\n",
      "0s - loss: 0.2166 - acc: 0.9224\n",
      "Epoch 112/1000\n",
      "0s - loss: 0.2163 - acc: 0.9227\n",
      "Epoch 113/1000\n",
      "0s - loss: 0.2160 - acc: 0.9227\n",
      "Epoch 114/1000\n",
      "0s - loss: 0.2157 - acc: 0.9228\n",
      "Epoch 115/1000\n",
      "0s - loss: 0.2154 - acc: 0.9226\n",
      "Epoch 116/1000\n",
      "0s - loss: 0.2151 - acc: 0.9228\n",
      "Epoch 117/1000\n",
      "0s - loss: 0.2149 - acc: 0.9232\n",
      "Epoch 118/1000\n",
      "0s - loss: 0.2146 - acc: 0.9231\n",
      "Epoch 119/1000\n",
      "0s - loss: 0.2143 - acc: 0.9231\n",
      "Epoch 120/1000\n",
      "0s - loss: 0.2140 - acc: 0.9234\n",
      "Epoch 121/1000\n",
      "0s - loss: 0.2137 - acc: 0.9236\n",
      "Epoch 122/1000\n",
      "0s - loss: 0.2135 - acc: 0.9237\n",
      "Epoch 123/1000\n",
      "0s - loss: 0.2132 - acc: 0.9236\n",
      "Epoch 124/1000\n",
      "0s - loss: 0.2129 - acc: 0.9239\n",
      "Epoch 125/1000\n",
      "0s - loss: 0.2127 - acc: 0.9240\n",
      "Epoch 126/1000\n",
      "0s - loss: 0.2124 - acc: 0.9239\n",
      "Epoch 127/1000\n",
      "0s - loss: 0.2121 - acc: 0.9239\n",
      "Epoch 128/1000\n",
      "0s - loss: 0.2119 - acc: 0.9244\n",
      "Epoch 129/1000\n",
      "0s - loss: 0.2116 - acc: 0.9240\n",
      "Epoch 130/1000\n",
      "0s - loss: 0.2114 - acc: 0.9242\n",
      "Epoch 131/1000\n",
      "0s - loss: 0.2111 - acc: 0.9245\n",
      "Epoch 132/1000\n",
      "0s - loss: 0.2108 - acc: 0.9247\n",
      "Epoch 133/1000\n",
      "0s - loss: 0.2106 - acc: 0.9248\n",
      "Epoch 134/1000\n",
      "0s - loss: 0.2103 - acc: 0.9249\n",
      "Epoch 135/1000\n",
      "0s - loss: 0.2101 - acc: 0.9249\n",
      "Epoch 136/1000\n",
      "0s - loss: 0.2098 - acc: 0.9251\n",
      "Epoch 137/1000\n",
      "0s - loss: 0.2096 - acc: 0.9253\n",
      "Epoch 138/1000\n",
      "0s - loss: 0.2093 - acc: 0.9254\n",
      "Epoch 139/1000\n",
      "0s - loss: 0.2091 - acc: 0.9254\n",
      "Epoch 140/1000\n",
      "0s - loss: 0.2088 - acc: 0.9257\n",
      "Epoch 141/1000\n",
      "0s - loss: 0.2086 - acc: 0.9257\n",
      "Epoch 142/1000\n",
      "0s - loss: 0.2083 - acc: 0.9261\n",
      "Epoch 143/1000\n",
      "0s - loss: 0.2081 - acc: 0.9259\n",
      "Epoch 144/1000\n",
      "0s - loss: 0.2079 - acc: 0.9262\n",
      "Epoch 145/1000\n",
      "0s - loss: 0.2076 - acc: 0.9263\n",
      "Epoch 146/1000\n",
      "0s - loss: 0.2074 - acc: 0.9264\n",
      "Epoch 147/1000\n",
      "0s - loss: 0.2072 - acc: 0.9264\n",
      "Epoch 148/1000\n",
      "0s - loss: 0.2069 - acc: 0.9263\n",
      "Epoch 149/1000\n",
      "0s - loss: 0.2067 - acc: 0.9262\n",
      "Epoch 150/1000\n",
      "0s - loss: 0.2065 - acc: 0.9268\n",
      "Epoch 151/1000\n",
      "0s - loss: 0.2062 - acc: 0.9268\n",
      "Epoch 152/1000\n",
      "0s - loss: 0.2060 - acc: 0.9267\n",
      "Epoch 153/1000\n",
      "0s - loss: 0.2058 - acc: 0.9270\n",
      "Epoch 154/1000\n",
      "0s - loss: 0.2056 - acc: 0.9269\n",
      "Epoch 155/1000\n",
      "0s - loss: 0.2053 - acc: 0.9273\n",
      "Epoch 156/1000\n",
      "0s - loss: 0.2051 - acc: 0.9274\n",
      "Epoch 157/1000\n",
      "0s - loss: 0.2049 - acc: 0.9276\n",
      "Epoch 158/1000\n",
      "0s - loss: 0.2047 - acc: 0.9276\n",
      "Epoch 159/1000\n",
      "0s - loss: 0.2044 - acc: 0.9274\n",
      "Epoch 160/1000\n",
      "0s - loss: 0.2043 - acc: 0.9276\n",
      "Epoch 161/1000\n",
      "0s - loss: 0.2040 - acc: 0.9277\n",
      "Epoch 162/1000\n",
      "0s - loss: 0.2038 - acc: 0.9278\n",
      "Epoch 163/1000\n",
      "0s - loss: 0.2036 - acc: 0.9278\n",
      "Epoch 164/1000\n",
      "0s - loss: 0.2034 - acc: 0.9279\n",
      "Epoch 165/1000\n",
      "0s - loss: 0.2032 - acc: 0.9280\n",
      "Epoch 166/1000\n",
      "0s - loss: 0.2030 - acc: 0.9280\n",
      "Epoch 167/1000\n",
      "0s - loss: 0.2027 - acc: 0.9280\n",
      "Epoch 168/1000\n",
      "0s - loss: 0.2025 - acc: 0.9284\n",
      "Epoch 169/1000\n",
      "0s - loss: 0.2023 - acc: 0.9287\n",
      "Epoch 170/1000\n",
      "0s - loss: 0.2021 - acc: 0.9286\n",
      "Epoch 171/1000\n",
      "0s - loss: 0.2019 - acc: 0.9288\n",
      "Epoch 172/1000\n",
      "0s - loss: 0.2017 - acc: 0.9286\n",
      "Epoch 173/1000\n",
      "0s - loss: 0.2015 - acc: 0.9290\n",
      "Epoch 174/1000\n",
      "0s - loss: 0.2013 - acc: 0.9291\n",
      "Epoch 175/1000\n",
      "0s - loss: 0.2011 - acc: 0.9290\n",
      "Epoch 176/1000\n",
      "0s - loss: 0.2009 - acc: 0.9293\n",
      "Epoch 177/1000\n",
      "0s - loss: 0.2007 - acc: 0.9291\n",
      "Epoch 178/1000\n",
      "0s - loss: 0.2005 - acc: 0.9293\n",
      "Epoch 179/1000\n",
      "0s - loss: 0.2003 - acc: 0.9291\n",
      "Epoch 180/1000\n",
      "0s - loss: 0.2001 - acc: 0.9293\n",
      "Epoch 181/1000\n",
      "0s - loss: 0.1999 - acc: 0.9296\n",
      "Epoch 182/1000\n",
      "0s - loss: 0.1997 - acc: 0.9297\n",
      "Epoch 183/1000\n",
      "0s - loss: 0.1995 - acc: 0.9300\n",
      "Epoch 184/1000\n",
      "0s - loss: 0.1993 - acc: 0.9298\n",
      "Epoch 185/1000\n",
      "0s - loss: 0.1991 - acc: 0.9300\n",
      "Epoch 186/1000\n",
      "0s - loss: 0.1989 - acc: 0.9298\n",
      "Epoch 187/1000\n",
      "0s - loss: 0.1988 - acc: 0.9300\n",
      "Epoch 188/1000\n",
      "0s - loss: 0.1986 - acc: 0.9302\n",
      "Epoch 189/1000\n",
      "0s - loss: 0.1984 - acc: 0.9300\n",
      "Epoch 190/1000\n",
      "0s - loss: 0.1982 - acc: 0.9304\n",
      "Epoch 191/1000\n",
      "0s - loss: 0.1980 - acc: 0.9302\n",
      "Epoch 192/1000\n",
      "0s - loss: 0.1978 - acc: 0.9303\n",
      "Epoch 193/1000\n",
      "0s - loss: 0.1976 - acc: 0.9308\n",
      "Epoch 194/1000\n",
      "0s - loss: 0.1974 - acc: 0.9306\n",
      "Epoch 195/1000\n",
      "0s - loss: 0.1973 - acc: 0.9308\n",
      "Epoch 196/1000\n",
      "0s - loss: 0.1971 - acc: 0.9306\n",
      "Epoch 197/1000\n",
      "0s - loss: 0.1969 - acc: 0.9309\n",
      "Epoch 198/1000\n",
      "0s - loss: 0.1967 - acc: 0.9310\n",
      "Epoch 199/1000\n",
      "0s - loss: 0.1965 - acc: 0.9312\n",
      "Epoch 200/1000\n",
      "0s - loss: 0.1964 - acc: 0.9313\n",
      "Epoch 201/1000\n",
      "0s - loss: 0.1962 - acc: 0.9310\n",
      "Epoch 202/1000\n",
      "0s - loss: 0.1960 - acc: 0.9315\n",
      "Epoch 203/1000\n",
      "0s - loss: 0.1958 - acc: 0.9315\n",
      "Epoch 204/1000\n",
      "0s - loss: 0.1957 - acc: 0.9314\n",
      "Epoch 205/1000\n",
      "0s - loss: 0.1955 - acc: 0.9318\n",
      "Epoch 206/1000\n",
      "0s - loss: 0.1953 - acc: 0.9314\n",
      "Epoch 207/1000\n",
      "0s - loss: 0.1951 - acc: 0.9317\n",
      "Epoch 208/1000\n",
      "0s - loss: 0.1950 - acc: 0.9321\n",
      "Epoch 209/1000\n",
      "0s - loss: 0.1948 - acc: 0.9319\n",
      "Epoch 210/1000\n",
      "0s - loss: 0.1946 - acc: 0.9324\n",
      "Epoch 211/1000\n",
      "0s - loss: 0.1945 - acc: 0.9318\n",
      "Epoch 212/1000\n",
      "0s - loss: 0.1943 - acc: 0.9324\n",
      "Epoch 213/1000\n",
      "0s - loss: 0.1941 - acc: 0.9320\n",
      "Epoch 214/1000\n",
      "0s - loss: 0.1940 - acc: 0.9323\n",
      "Epoch 215/1000\n",
      "0s - loss: 0.1938 - acc: 0.9323\n",
      "Epoch 216/1000\n",
      "0s - loss: 0.1936 - acc: 0.9325\n",
      "Epoch 217/1000\n",
      "0s - loss: 0.1935 - acc: 0.9325\n",
      "Epoch 218/1000\n",
      "0s - loss: 0.1933 - acc: 0.9327\n",
      "Epoch 219/1000\n",
      "0s - loss: 0.1931 - acc: 0.9327\n",
      "Epoch 220/1000\n",
      "0s - loss: 0.1930 - acc: 0.9325\n",
      "Epoch 221/1000\n",
      "0s - loss: 0.1928 - acc: 0.9326\n",
      "Epoch 222/1000\n",
      "0s - loss: 0.1926 - acc: 0.9330\n",
      "Epoch 223/1000\n",
      "0s - loss: 0.1925 - acc: 0.9329\n",
      "Epoch 224/1000\n",
      "0s - loss: 0.1923 - acc: 0.9329\n",
      "Epoch 225/1000\n",
      "0s - loss: 0.1922 - acc: 0.9330\n",
      "Epoch 226/1000\n",
      "0s - loss: 0.1920 - acc: 0.9330\n",
      "Epoch 227/1000\n",
      "0s - loss: 0.1919 - acc: 0.9332\n",
      "Epoch 228/1000\n",
      "0s - loss: 0.1917 - acc: 0.9333\n",
      "Epoch 229/1000\n",
      "0s - loss: 0.1915 - acc: 0.9332\n",
      "Epoch 230/1000\n",
      "0s - loss: 0.1914 - acc: 0.9333\n",
      "Epoch 231/1000\n",
      "0s - loss: 0.1912 - acc: 0.9334\n",
      "Epoch 232/1000\n",
      "0s - loss: 0.1911 - acc: 0.9336\n",
      "Epoch 233/1000\n",
      "0s - loss: 0.1909 - acc: 0.9334\n",
      "Epoch 234/1000\n",
      "0s - loss: 0.1908 - acc: 0.9335\n",
      "Epoch 235/1000\n",
      "0s - loss: 0.1906 - acc: 0.9338\n",
      "Epoch 236/1000\n",
      "0s - loss: 0.1905 - acc: 0.9334\n",
      "Epoch 237/1000\n",
      "0s - loss: 0.1903 - acc: 0.9334\n",
      "Epoch 238/1000\n",
      "0s - loss: 0.1901 - acc: 0.9339\n",
      "Epoch 239/1000\n",
      "0s - loss: 0.1900 - acc: 0.9342\n",
      "Epoch 240/1000\n",
      "0s - loss: 0.1898 - acc: 0.9339\n",
      "Epoch 241/1000\n",
      "0s - loss: 0.1897 - acc: 0.9340\n",
      "Epoch 242/1000\n",
      "0s - loss: 0.1896 - acc: 0.9341\n",
      "Epoch 243/1000\n",
      "0s - loss: 0.1894 - acc: 0.9344\n",
      "Epoch 244/1000\n",
      "0s - loss: 0.1893 - acc: 0.9341\n",
      "Epoch 245/1000\n",
      "0s - loss: 0.1891 - acc: 0.9345\n",
      "Epoch 246/1000\n",
      "0s - loss: 0.1890 - acc: 0.9342\n",
      "Epoch 247/1000\n",
      "0s - loss: 0.1888 - acc: 0.9342\n",
      "Epoch 248/1000\n",
      "0s - loss: 0.1887 - acc: 0.9345\n",
      "Epoch 249/1000\n",
      "0s - loss: 0.1885 - acc: 0.9344\n",
      "Epoch 250/1000\n",
      "0s - loss: 0.1884 - acc: 0.9344\n",
      "Epoch 251/1000\n",
      "0s - loss: 0.1882 - acc: 0.9344\n",
      "Epoch 252/1000\n",
      "0s - loss: 0.1881 - acc: 0.9346\n",
      "Epoch 253/1000\n",
      "0s - loss: 0.1880 - acc: 0.9348\n",
      "Epoch 254/1000\n",
      "0s - loss: 0.1878 - acc: 0.9348\n",
      "Epoch 255/1000\n",
      "0s - loss: 0.1877 - acc: 0.9348\n",
      "Epoch 256/1000\n",
      "0s - loss: 0.1875 - acc: 0.9347\n",
      "Epoch 257/1000\n",
      "0s - loss: 0.1874 - acc: 0.9346\n",
      "Epoch 258/1000\n",
      "0s - loss: 0.1873 - acc: 0.9350\n",
      "Epoch 259/1000\n",
      "0s - loss: 0.1871 - acc: 0.9351\n",
      "Epoch 260/1000\n",
      "0s - loss: 0.1870 - acc: 0.9353\n",
      "Epoch 261/1000\n",
      "0s - loss: 0.1868 - acc: 0.9349\n",
      "Epoch 262/1000\n",
      "0s - loss: 0.1867 - acc: 0.9351\n",
      "Epoch 263/1000\n",
      "0s - loss: 0.1866 - acc: 0.9354\n",
      "Epoch 264/1000\n",
      "0s - loss: 0.1864 - acc: 0.9354\n",
      "Epoch 265/1000\n",
      "0s - loss: 0.1863 - acc: 0.9352\n",
      "Epoch 266/1000\n",
      "0s - loss: 0.1861 - acc: 0.9353\n",
      "Epoch 267/1000\n",
      "0s - loss: 0.1860 - acc: 0.9355\n",
      "Epoch 268/1000\n",
      "0s - loss: 0.1859 - acc: 0.9358\n",
      "Epoch 269/1000\n",
      "0s - loss: 0.1857 - acc: 0.9354\n",
      "Epoch 270/1000\n",
      "0s - loss: 0.1856 - acc: 0.9356\n",
      "Epoch 271/1000\n",
      "0s - loss: 0.1855 - acc: 0.9354\n",
      "Epoch 272/1000\n",
      "0s - loss: 0.1853 - acc: 0.9358\n",
      "Epoch 273/1000\n",
      "0s - loss: 0.1852 - acc: 0.9356\n",
      "Epoch 274/1000\n",
      "0s - loss: 0.1851 - acc: 0.9356\n",
      "Epoch 275/1000\n",
      "0s - loss: 0.1850 - acc: 0.9358\n",
      "Epoch 276/1000\n",
      "0s - loss: 0.1848 - acc: 0.9357\n",
      "Epoch 277/1000\n",
      "0s - loss: 0.1847 - acc: 0.9361\n",
      "Epoch 278/1000\n",
      "0s - loss: 0.1846 - acc: 0.9359\n",
      "Epoch 279/1000\n",
      "0s - loss: 0.1844 - acc: 0.9358\n",
      "Epoch 280/1000\n",
      "0s - loss: 0.1843 - acc: 0.9358\n",
      "Epoch 281/1000\n",
      "0s - loss: 0.1842 - acc: 0.9361\n",
      "Epoch 282/1000\n",
      "0s - loss: 0.1840 - acc: 0.9360\n",
      "Epoch 283/1000\n",
      "0s - loss: 0.1839 - acc: 0.9362\n",
      "Epoch 284/1000\n",
      "0s - loss: 0.1838 - acc: 0.9360\n",
      "Epoch 285/1000\n",
      "0s - loss: 0.1837 - acc: 0.9360\n",
      "Epoch 286/1000\n",
      "0s - loss: 0.1835 - acc: 0.9362\n",
      "Epoch 287/1000\n",
      "0s - loss: 0.1834 - acc: 0.9362\n",
      "Epoch 288/1000\n",
      "0s - loss: 0.1833 - acc: 0.9363\n",
      "Epoch 289/1000\n",
      "0s - loss: 0.1832 - acc: 0.9364\n",
      "Epoch 290/1000\n",
      "0s - loss: 0.1830 - acc: 0.9365\n",
      "Epoch 291/1000\n",
      "0s - loss: 0.1829 - acc: 0.9364\n",
      "Epoch 292/1000\n",
      "0s - loss: 0.1828 - acc: 0.9364\n",
      "Epoch 293/1000\n",
      "0s - loss: 0.1827 - acc: 0.9364\n",
      "Epoch 294/1000\n",
      "0s - loss: 0.1826 - acc: 0.9366\n",
      "Epoch 295/1000\n",
      "0s - loss: 0.1824 - acc: 0.9366\n",
      "Epoch 296/1000\n",
      "0s - loss: 0.1823 - acc: 0.9367\n",
      "Epoch 297/1000\n",
      "0s - loss: 0.1822 - acc: 0.9367\n",
      "Epoch 298/1000\n",
      "0s - loss: 0.1821 - acc: 0.9367\n",
      "Epoch 299/1000\n",
      "0s - loss: 0.1819 - acc: 0.9367\n",
      "Epoch 300/1000\n",
      "0s - loss: 0.1818 - acc: 0.9367\n",
      "Epoch 301/1000\n",
      "0s - loss: 0.1817 - acc: 0.9369\n",
      "Epoch 302/1000\n",
      "0s - loss: 0.1816 - acc: 0.9370\n",
      "Epoch 303/1000\n",
      "0s - loss: 0.1815 - acc: 0.9369\n",
      "Epoch 304/1000\n",
      "0s - loss: 0.1813 - acc: 0.9371\n",
      "Epoch 305/1000\n",
      "0s - loss: 0.1812 - acc: 0.9370\n",
      "Epoch 306/1000\n",
      "0s - loss: 0.1811 - acc: 0.9373\n",
      "Epoch 307/1000\n",
      "0s - loss: 0.1810 - acc: 0.9372\n",
      "Epoch 308/1000\n",
      "0s - loss: 0.1809 - acc: 0.9372\n",
      "Epoch 309/1000\n",
      "0s - loss: 0.1808 - acc: 0.9373\n",
      "Epoch 310/1000\n",
      "0s - loss: 0.1806 - acc: 0.9373\n",
      "Epoch 311/1000\n",
      "0s - loss: 0.1805 - acc: 0.9374\n",
      "Epoch 312/1000\n",
      "0s - loss: 0.1804 - acc: 0.9375\n",
      "Epoch 313/1000\n",
      "0s - loss: 0.1803 - acc: 0.9376\n",
      "Epoch 314/1000\n",
      "0s - loss: 0.1802 - acc: 0.9378\n",
      "Epoch 315/1000\n",
      "0s - loss: 0.1801 - acc: 0.9378\n",
      "Epoch 316/1000\n",
      "0s - loss: 0.1799 - acc: 0.9377\n",
      "Epoch 317/1000\n",
      "0s - loss: 0.1798 - acc: 0.9377\n",
      "Epoch 318/1000\n",
      "0s - loss: 0.1797 - acc: 0.9378\n",
      "Epoch 319/1000\n",
      "0s - loss: 0.1796 - acc: 0.9378\n",
      "Epoch 320/1000\n",
      "0s - loss: 0.1795 - acc: 0.9380\n",
      "Epoch 321/1000\n",
      "0s - loss: 0.1794 - acc: 0.9379\n",
      "Epoch 322/1000\n",
      "0s - loss: 0.1793 - acc: 0.9380\n",
      "Epoch 323/1000\n",
      "0s - loss: 0.1792 - acc: 0.9376\n",
      "Epoch 324/1000\n",
      "0s - loss: 0.1791 - acc: 0.9380\n",
      "Epoch 325/1000\n",
      "0s - loss: 0.1789 - acc: 0.9378\n",
      "Epoch 326/1000\n",
      "0s - loss: 0.1788 - acc: 0.9382\n",
      "Epoch 327/1000\n",
      "0s - loss: 0.1787 - acc: 0.9381\n",
      "Epoch 328/1000\n",
      "0s - loss: 0.1786 - acc: 0.9383\n",
      "Epoch 329/1000\n",
      "0s - loss: 0.1785 - acc: 0.9383\n",
      "Epoch 330/1000\n",
      "0s - loss: 0.1784 - acc: 0.9382\n",
      "Epoch 331/1000\n",
      "0s - loss: 0.1783 - acc: 0.9382\n",
      "Epoch 332/1000\n",
      "0s - loss: 0.1782 - acc: 0.9383\n",
      "Epoch 333/1000\n",
      "0s - loss: 0.1781 - acc: 0.9383\n",
      "Epoch 334/1000\n",
      "0s - loss: 0.1780 - acc: 0.9384\n",
      "Epoch 335/1000\n",
      "0s - loss: 0.1778 - acc: 0.9383\n",
      "Epoch 336/1000\n",
      "0s - loss: 0.1778 - acc: 0.9386\n",
      "Epoch 337/1000\n",
      "0s - loss: 0.1776 - acc: 0.9386\n",
      "Epoch 338/1000\n",
      "0s - loss: 0.1775 - acc: 0.9387\n",
      "Epoch 339/1000\n",
      "0s - loss: 0.1774 - acc: 0.9390\n",
      "Epoch 340/1000\n",
      "0s - loss: 0.1773 - acc: 0.9390\n",
      "Epoch 341/1000\n",
      "0s - loss: 0.1772 - acc: 0.9386\n",
      "Epoch 342/1000\n",
      "0s - loss: 0.1771 - acc: 0.9386\n",
      "Epoch 343/1000\n",
      "0s - loss: 0.1770 - acc: 0.9386\n",
      "Epoch 344/1000\n",
      "0s - loss: 0.1769 - acc: 0.9387\n",
      "Epoch 345/1000\n",
      "0s - loss: 0.1768 - acc: 0.9388\n",
      "Epoch 346/1000\n",
      "0s - loss: 0.1767 - acc: 0.9389\n",
      "Epoch 347/1000\n",
      "0s - loss: 0.1766 - acc: 0.9389\n",
      "Epoch 348/1000\n",
      "0s - loss: 0.1765 - acc: 0.9387\n",
      "Epoch 349/1000\n",
      "0s - loss: 0.1764 - acc: 0.9390\n",
      "Epoch 350/1000\n",
      "0s - loss: 0.1763 - acc: 0.9390\n",
      "Epoch 351/1000\n",
      "0s - loss: 0.1762 - acc: 0.9390\n",
      "Epoch 352/1000\n",
      "0s - loss: 0.1761 - acc: 0.9390\n",
      "Epoch 353/1000\n",
      "0s - loss: 0.1760 - acc: 0.9388\n",
      "Epoch 354/1000\n",
      "0s - loss: 0.1759 - acc: 0.9391\n",
      "Epoch 355/1000\n",
      "0s - loss: 0.1758 - acc: 0.9388\n",
      "Epoch 356/1000\n",
      "0s - loss: 0.1757 - acc: 0.9390\n",
      "Epoch 357/1000\n",
      "0s - loss: 0.1756 - acc: 0.9392\n",
      "Epoch 358/1000\n",
      "0s - loss: 0.1755 - acc: 0.9394\n",
      "Epoch 359/1000\n",
      "0s - loss: 0.1754 - acc: 0.9394\n",
      "Epoch 360/1000\n",
      "0s - loss: 0.1753 - acc: 0.9393\n",
      "Epoch 361/1000\n",
      "0s - loss: 0.1752 - acc: 0.9394\n",
      "Epoch 362/1000\n",
      "0s - loss: 0.1751 - acc: 0.9393\n",
      "Epoch 363/1000\n",
      "0s - loss: 0.1750 - acc: 0.9391\n",
      "Epoch 364/1000\n",
      "0s - loss: 0.1749 - acc: 0.9393\n",
      "Epoch 365/1000\n",
      "0s - loss: 0.1748 - acc: 0.9393\n",
      "Epoch 366/1000\n",
      "0s - loss: 0.1747 - acc: 0.9395\n",
      "Epoch 367/1000\n",
      "0s - loss: 0.1746 - acc: 0.9395\n",
      "Epoch 368/1000\n",
      "0s - loss: 0.1745 - acc: 0.9392\n",
      "Epoch 369/1000\n",
      "0s - loss: 0.1744 - acc: 0.9397\n",
      "Epoch 370/1000\n",
      "0s - loss: 0.1743 - acc: 0.9395\n",
      "Epoch 371/1000\n",
      "0s - loss: 0.1742 - acc: 0.9398\n",
      "Epoch 372/1000\n",
      "0s - loss: 0.1741 - acc: 0.9398\n",
      "Epoch 373/1000\n",
      "0s - loss: 0.1740 - acc: 0.9398\n",
      "Epoch 374/1000\n",
      "0s - loss: 0.1739 - acc: 0.9398\n",
      "Epoch 375/1000\n",
      "0s - loss: 0.1738 - acc: 0.9397\n",
      "Epoch 376/1000\n",
      "0s - loss: 0.1737 - acc: 0.9396\n",
      "Epoch 377/1000\n",
      "0s - loss: 0.1736 - acc: 0.9401\n",
      "Epoch 378/1000\n",
      "0s - loss: 0.1735 - acc: 0.9400\n",
      "Epoch 379/1000\n",
      "0s - loss: 0.1734 - acc: 0.9400\n",
      "Epoch 380/1000\n",
      "0s - loss: 0.1733 - acc: 0.9400\n",
      "Epoch 381/1000\n",
      "0s - loss: 0.1733 - acc: 0.9398\n",
      "Epoch 382/1000\n",
      "0s - loss: 0.1731 - acc: 0.9399\n",
      "Epoch 383/1000\n",
      "0s - loss: 0.1731 - acc: 0.9402\n",
      "Epoch 384/1000\n",
      "0s - loss: 0.1730 - acc: 0.9401\n",
      "Epoch 385/1000\n",
      "0s - loss: 0.1729 - acc: 0.9401\n",
      "Epoch 386/1000\n",
      "0s - loss: 0.1728 - acc: 0.9404\n",
      "Epoch 387/1000\n",
      "0s - loss: 0.1727 - acc: 0.9402\n",
      "Epoch 388/1000\n",
      "0s - loss: 0.1726 - acc: 0.9399\n",
      "Epoch 389/1000\n",
      "0s - loss: 0.1725 - acc: 0.9402\n",
      "Epoch 390/1000\n",
      "0s - loss: 0.1724 - acc: 0.9403\n",
      "Epoch 391/1000\n",
      "0s - loss: 0.1723 - acc: 0.9403\n",
      "Epoch 392/1000\n",
      "0s - loss: 0.1722 - acc: 0.9403\n",
      "Epoch 393/1000\n",
      "0s - loss: 0.1721 - acc: 0.9402\n",
      "Epoch 394/1000\n",
      "0s - loss: 0.1720 - acc: 0.9405\n",
      "Epoch 395/1000\n",
      "0s - loss: 0.1720 - acc: 0.9405\n",
      "Epoch 396/1000\n",
      "0s - loss: 0.1719 - acc: 0.9404\n",
      "Epoch 397/1000\n",
      "0s - loss: 0.1718 - acc: 0.9406\n",
      "Epoch 398/1000\n",
      "0s - loss: 0.1717 - acc: 0.9406\n",
      "Epoch 399/1000\n",
      "0s - loss: 0.1716 - acc: 0.9404\n",
      "Epoch 400/1000\n",
      "0s - loss: 0.1715 - acc: 0.9407\n",
      "Epoch 401/1000\n",
      "0s - loss: 0.1714 - acc: 0.9406\n",
      "Epoch 402/1000\n",
      "0s - loss: 0.1713 - acc: 0.9408\n",
      "Epoch 403/1000\n",
      "0s - loss: 0.1712 - acc: 0.9406\n",
      "Epoch 404/1000\n",
      "0s - loss: 0.1712 - acc: 0.9406\n",
      "Epoch 405/1000\n",
      "0s - loss: 0.1711 - acc: 0.9409\n",
      "Epoch 406/1000\n",
      "0s - loss: 0.1710 - acc: 0.9407\n",
      "Epoch 407/1000\n",
      "0s - loss: 0.1709 - acc: 0.9407\n",
      "Epoch 408/1000\n",
      "0s - loss: 0.1708 - acc: 0.9407\n",
      "Epoch 409/1000\n",
      "0s - loss: 0.1707 - acc: 0.9408\n",
      "Epoch 410/1000\n",
      "0s - loss: 0.1706 - acc: 0.9412\n",
      "Epoch 411/1000\n",
      "0s - loss: 0.1706 - acc: 0.9409\n",
      "Epoch 412/1000\n",
      "0s - loss: 0.1705 - acc: 0.9408\n",
      "Epoch 413/1000\n",
      "0s - loss: 0.1704 - acc: 0.9410\n",
      "Epoch 414/1000\n",
      "0s - loss: 0.1703 - acc: 0.9408\n",
      "Epoch 415/1000\n",
      "0s - loss: 0.1702 - acc: 0.9410\n",
      "Epoch 416/1000\n",
      "0s - loss: 0.1701 - acc: 0.9409\n",
      "Epoch 417/1000\n",
      "0s - loss: 0.1700 - acc: 0.9412\n",
      "Epoch 418/1000\n",
      "0s - loss: 0.1699 - acc: 0.9411\n",
      "Epoch 419/1000\n",
      "0s - loss: 0.1699 - acc: 0.9413\n",
      "Epoch 420/1000\n",
      "0s - loss: 0.1698 - acc: 0.9412\n",
      "Epoch 421/1000\n",
      "0s - loss: 0.1697 - acc: 0.9411\n",
      "Epoch 422/1000\n",
      "0s - loss: 0.1696 - acc: 0.9414\n",
      "Epoch 423/1000\n",
      "0s - loss: 0.1695 - acc: 0.9414\n",
      "Epoch 424/1000\n",
      "0s - loss: 0.1694 - acc: 0.9414\n",
      "Epoch 425/1000\n",
      "0s - loss: 0.1694 - acc: 0.9415\n",
      "Epoch 426/1000\n",
      "0s - loss: 0.1693 - acc: 0.9415\n",
      "Epoch 427/1000\n",
      "0s - loss: 0.1692 - acc: 0.9415\n",
      "Epoch 428/1000\n",
      "0s - loss: 0.1691 - acc: 0.9414\n",
      "Epoch 429/1000\n",
      "0s - loss: 0.1690 - acc: 0.9414\n",
      "Epoch 430/1000\n",
      "0s - loss: 0.1689 - acc: 0.9415\n",
      "Epoch 431/1000\n",
      "0s - loss: 0.1689 - acc: 0.9418\n",
      "Epoch 432/1000\n",
      "0s - loss: 0.1688 - acc: 0.9416\n",
      "Epoch 433/1000\n",
      "0s - loss: 0.1687 - acc: 0.9418\n",
      "Epoch 434/1000\n",
      "0s - loss: 0.1686 - acc: 0.9416\n",
      "Epoch 435/1000\n",
      "0s - loss: 0.1685 - acc: 0.9416\n",
      "Epoch 436/1000\n",
      "0s - loss: 0.1685 - acc: 0.9420\n",
      "Epoch 437/1000\n",
      "0s - loss: 0.1684 - acc: 0.9416\n",
      "Epoch 438/1000\n",
      "0s - loss: 0.1683 - acc: 0.9421\n",
      "Epoch 439/1000\n",
      "0s - loss: 0.1682 - acc: 0.9417\n",
      "Epoch 440/1000\n",
      "0s - loss: 0.1681 - acc: 0.9415\n",
      "Epoch 441/1000\n",
      "0s - loss: 0.1681 - acc: 0.9423\n",
      "Epoch 442/1000\n",
      "0s - loss: 0.1680 - acc: 0.9420\n",
      "Epoch 443/1000\n",
      "0s - loss: 0.1679 - acc: 0.9419\n",
      "Epoch 444/1000\n",
      "0s - loss: 0.1678 - acc: 0.9422\n",
      "Epoch 445/1000\n",
      "0s - loss: 0.1677 - acc: 0.9423\n",
      "Epoch 446/1000\n",
      "0s - loss: 0.1677 - acc: 0.9420\n",
      "Epoch 447/1000\n",
      "0s - loss: 0.1676 - acc: 0.9422\n",
      "Epoch 448/1000\n",
      "0s - loss: 0.1675 - acc: 0.9420\n",
      "Epoch 449/1000\n",
      "0s - loss: 0.1674 - acc: 0.9424\n",
      "Epoch 450/1000\n",
      "0s - loss: 0.1673 - acc: 0.9422\n",
      "Epoch 451/1000\n",
      "0s - loss: 0.1673 - acc: 0.9423\n",
      "Epoch 452/1000\n",
      "0s - loss: 0.1672 - acc: 0.9424\n",
      "Epoch 453/1000\n",
      "0s - loss: 0.1671 - acc: 0.9424\n",
      "Epoch 454/1000\n",
      "0s - loss: 0.1670 - acc: 0.9424\n",
      "Epoch 455/1000\n",
      "0s - loss: 0.1670 - acc: 0.9426\n",
      "Epoch 456/1000\n",
      "0s - loss: 0.1669 - acc: 0.9425\n",
      "Epoch 457/1000\n",
      "0s - loss: 0.1668 - acc: 0.9424\n",
      "Epoch 458/1000\n",
      "0s - loss: 0.1667 - acc: 0.9426\n",
      "Epoch 459/1000\n",
      "0s - loss: 0.1666 - acc: 0.9428\n",
      "Epoch 460/1000\n",
      "0s - loss: 0.1666 - acc: 0.9426\n",
      "Epoch 461/1000\n",
      "0s - loss: 0.1665 - acc: 0.9428\n",
      "Epoch 462/1000\n",
      "0s - loss: 0.1664 - acc: 0.9426\n",
      "Epoch 463/1000\n",
      "0s - loss: 0.1663 - acc: 0.9428\n",
      "Epoch 464/1000\n",
      "0s - loss: 0.1663 - acc: 0.9426\n",
      "Epoch 465/1000\n",
      "0s - loss: 0.1662 - acc: 0.9427\n",
      "Epoch 466/1000\n",
      "0s - loss: 0.1661 - acc: 0.9427\n",
      "Epoch 467/1000\n",
      "0s - loss: 0.1660 - acc: 0.9426\n",
      "Epoch 468/1000\n",
      "0s - loss: 0.1660 - acc: 0.9430\n",
      "Epoch 469/1000\n",
      "0s - loss: 0.1659 - acc: 0.9427\n",
      "Epoch 470/1000\n",
      "0s - loss: 0.1658 - acc: 0.9429\n",
      "Epoch 471/1000\n",
      "0s - loss: 0.1657 - acc: 0.9431\n",
      "Epoch 472/1000\n",
      "0s - loss: 0.1656 - acc: 0.9430\n",
      "Epoch 473/1000\n",
      "0s - loss: 0.1656 - acc: 0.9431\n",
      "Epoch 474/1000\n",
      "0s - loss: 0.1655 - acc: 0.9431\n",
      "Epoch 475/1000\n",
      "0s - loss: 0.1654 - acc: 0.9428\n",
      "Epoch 476/1000\n",
      "0s - loss: 0.1654 - acc: 0.9432\n",
      "Epoch 477/1000\n",
      "0s - loss: 0.1653 - acc: 0.9431\n",
      "Epoch 478/1000\n",
      "0s - loss: 0.1652 - acc: 0.9432\n",
      "Epoch 479/1000\n",
      "0s - loss: 0.1652 - acc: 0.9431\n",
      "Epoch 480/1000\n",
      "0s - loss: 0.1651 - acc: 0.9430\n",
      "Epoch 481/1000\n",
      "0s - loss: 0.1650 - acc: 0.9432\n",
      "Epoch 482/1000\n",
      "0s - loss: 0.1649 - acc: 0.9430\n",
      "Epoch 483/1000\n",
      "0s - loss: 0.1648 - acc: 0.9433\n",
      "Epoch 484/1000\n",
      "0s - loss: 0.1648 - acc: 0.9433\n",
      "Epoch 485/1000\n",
      "0s - loss: 0.1647 - acc: 0.9432\n",
      "Epoch 486/1000\n",
      "0s - loss: 0.1646 - acc: 0.9432\n",
      "Epoch 487/1000\n",
      "0s - loss: 0.1646 - acc: 0.9435\n",
      "Epoch 488/1000\n",
      "0s - loss: 0.1645 - acc: 0.9434\n",
      "Epoch 489/1000\n",
      "0s - loss: 0.1644 - acc: 0.9433\n",
      "Epoch 490/1000\n",
      "0s - loss: 0.1643 - acc: 0.9434\n",
      "Epoch 491/1000\n",
      "0s - loss: 0.1643 - acc: 0.9434\n",
      "Epoch 492/1000\n",
      "0s - loss: 0.1642 - acc: 0.9437\n",
      "Epoch 493/1000\n",
      "0s - loss: 0.1641 - acc: 0.9435\n",
      "Epoch 494/1000\n",
      "0s - loss: 0.1641 - acc: 0.9435\n",
      "Epoch 495/1000\n",
      "0s - loss: 0.1640 - acc: 0.9433\n",
      "Epoch 496/1000\n",
      "0s - loss: 0.1639 - acc: 0.9432\n",
      "Epoch 497/1000\n",
      "0s - loss: 0.1638 - acc: 0.9436\n",
      "Epoch 498/1000\n",
      "0s - loss: 0.1638 - acc: 0.9434\n",
      "Epoch 499/1000\n",
      "0s - loss: 0.1637 - acc: 0.9436\n",
      "Epoch 500/1000\n",
      "0s - loss: 0.1636 - acc: 0.9434\n",
      "Epoch 501/1000\n",
      "0s - loss: 0.1636 - acc: 0.9437\n",
      "Epoch 502/1000\n",
      "0s - loss: 0.1635 - acc: 0.9434\n",
      "Epoch 503/1000\n",
      "0s - loss: 0.1634 - acc: 0.9434\n",
      "Epoch 504/1000\n",
      "0s - loss: 0.1634 - acc: 0.9435\n",
      "Epoch 505/1000\n",
      "0s - loss: 0.1633 - acc: 0.9436\n",
      "Epoch 506/1000\n",
      "0s - loss: 0.1632 - acc: 0.9438\n",
      "Epoch 507/1000\n",
      "0s - loss: 0.1632 - acc: 0.9437\n",
      "Epoch 508/1000\n",
      "0s - loss: 0.1631 - acc: 0.9438\n",
      "Epoch 509/1000\n",
      "0s - loss: 0.1630 - acc: 0.9438\n",
      "Epoch 510/1000\n",
      "0s - loss: 0.1629 - acc: 0.9438\n",
      "Epoch 511/1000\n",
      "0s - loss: 0.1629 - acc: 0.9440\n",
      "Epoch 512/1000\n",
      "0s - loss: 0.1628 - acc: 0.9438\n",
      "Epoch 513/1000\n",
      "0s - loss: 0.1627 - acc: 0.9439\n",
      "Epoch 514/1000\n",
      "0s - loss: 0.1627 - acc: 0.9438\n",
      "Epoch 515/1000\n",
      "0s - loss: 0.1626 - acc: 0.9440\n",
      "Epoch 516/1000\n",
      "0s - loss: 0.1625 - acc: 0.9440\n",
      "Epoch 517/1000\n",
      "0s - loss: 0.1625 - acc: 0.9440\n",
      "Epoch 518/1000\n",
      "0s - loss: 0.1624 - acc: 0.9442\n",
      "Epoch 519/1000\n",
      "0s - loss: 0.1623 - acc: 0.9442\n",
      "Epoch 520/1000\n",
      "0s - loss: 0.1623 - acc: 0.9441\n",
      "Epoch 521/1000\n",
      "0s - loss: 0.1622 - acc: 0.9443\n",
      "Epoch 522/1000\n",
      "0s - loss: 0.1621 - acc: 0.9444\n",
      "Epoch 523/1000\n",
      "0s - loss: 0.1621 - acc: 0.9442\n",
      "Epoch 524/1000\n",
      "0s - loss: 0.1620 - acc: 0.9446\n",
      "Epoch 525/1000\n",
      "0s - loss: 0.1619 - acc: 0.9444\n",
      "Epoch 526/1000\n",
      "0s - loss: 0.1619 - acc: 0.9446\n",
      "Epoch 527/1000\n",
      "0s - loss: 0.1618 - acc: 0.9445\n",
      "Epoch 528/1000\n",
      "0s - loss: 0.1617 - acc: 0.9443\n",
      "Epoch 529/1000\n",
      "0s - loss: 0.1617 - acc: 0.9444\n",
      "Epoch 530/1000\n",
      "0s - loss: 0.1616 - acc: 0.9449\n",
      "Epoch 531/1000\n",
      "0s - loss: 0.1615 - acc: 0.9446\n",
      "Epoch 532/1000\n",
      "0s - loss: 0.1615 - acc: 0.9445\n",
      "Epoch 533/1000\n",
      "0s - loss: 0.1614 - acc: 0.9446\n",
      "Epoch 534/1000\n",
      "0s - loss: 0.1613 - acc: 0.9449\n",
      "Epoch 535/1000\n",
      "0s - loss: 0.1613 - acc: 0.9446\n",
      "Epoch 536/1000\n",
      "0s - loss: 0.1612 - acc: 0.9444\n",
      "Epoch 537/1000\n",
      "0s - loss: 0.1612 - acc: 0.9448\n",
      "Epoch 538/1000\n",
      "0s - loss: 0.1611 - acc: 0.9446\n",
      "Epoch 539/1000\n",
      "0s - loss: 0.1610 - acc: 0.9448\n",
      "Epoch 540/1000\n",
      "0s - loss: 0.1610 - acc: 0.9450\n",
      "Epoch 541/1000\n",
      "0s - loss: 0.1609 - acc: 0.9448\n",
      "Epoch 542/1000\n",
      "0s - loss: 0.1608 - acc: 0.9448\n",
      "Epoch 543/1000\n",
      "0s - loss: 0.1608 - acc: 0.9448\n",
      "Epoch 544/1000\n",
      "0s - loss: 0.1607 - acc: 0.9447\n",
      "Epoch 545/1000\n",
      "0s - loss: 0.1606 - acc: 0.9450\n",
      "Epoch 546/1000\n",
      "0s - loss: 0.1606 - acc: 0.9452\n",
      "Epoch 547/1000\n",
      "0s - loss: 0.1605 - acc: 0.9450\n",
      "Epoch 548/1000\n",
      "0s - loss: 0.1605 - acc: 0.9450\n",
      "Epoch 549/1000\n",
      "0s - loss: 0.1604 - acc: 0.9452\n",
      "Epoch 550/1000\n",
      "0s - loss: 0.1603 - acc: 0.9451\n",
      "Epoch 551/1000\n",
      "0s - loss: 0.1603 - acc: 0.9450\n",
      "Epoch 552/1000\n",
      "0s - loss: 0.1602 - acc: 0.9451\n",
      "Epoch 553/1000\n",
      "0s - loss: 0.1601 - acc: 0.9457\n",
      "Epoch 554/1000\n",
      "0s - loss: 0.1601 - acc: 0.9452\n",
      "Epoch 555/1000\n",
      "0s - loss: 0.1600 - acc: 0.9453\n",
      "Epoch 556/1000\n",
      "0s - loss: 0.1600 - acc: 0.9452\n",
      "Epoch 557/1000\n",
      "0s - loss: 0.1599 - acc: 0.9451\n",
      "Epoch 558/1000\n",
      "0s - loss: 0.1599 - acc: 0.9456\n",
      "Epoch 559/1000\n",
      "0s - loss: 0.1598 - acc: 0.9456\n",
      "Epoch 560/1000\n",
      "0s - loss: 0.1597 - acc: 0.9455\n",
      "Epoch 561/1000\n",
      "0s - loss: 0.1596 - acc: 0.9452\n",
      "Epoch 562/1000\n",
      "0s - loss: 0.1596 - acc: 0.9459\n",
      "Epoch 563/1000\n",
      "0s - loss: 0.1595 - acc: 0.9455\n",
      "Epoch 564/1000\n",
      "0s - loss: 0.1595 - acc: 0.9457\n",
      "Epoch 565/1000\n",
      "0s - loss: 0.1594 - acc: 0.9457\n",
      "Epoch 566/1000\n",
      "0s - loss: 0.1594 - acc: 0.9458\n",
      "Epoch 567/1000\n",
      "0s - loss: 0.1593 - acc: 0.9456\n",
      "Epoch 568/1000\n",
      "0s - loss: 0.1593 - acc: 0.9457\n",
      "Epoch 569/1000\n",
      "0s - loss: 0.1592 - acc: 0.9456\n",
      "Epoch 570/1000\n",
      "0s - loss: 0.1591 - acc: 0.9457\n",
      "Epoch 571/1000\n",
      "0s - loss: 0.1590 - acc: 0.9458\n",
      "Epoch 572/1000\n",
      "0s - loss: 0.1590 - acc: 0.9458\n",
      "Epoch 573/1000\n",
      "0s - loss: 0.1589 - acc: 0.9456\n",
      "Epoch 574/1000\n",
      "0s - loss: 0.1588 - acc: 0.9460\n",
      "Epoch 575/1000\n",
      "0s - loss: 0.1588 - acc: 0.9460\n",
      "Epoch 576/1000\n",
      "0s - loss: 0.1587 - acc: 0.9460\n",
      "Epoch 577/1000\n",
      "0s - loss: 0.1587 - acc: 0.9462\n",
      "Epoch 578/1000\n",
      "0s - loss: 0.1586 - acc: 0.9458\n",
      "Epoch 579/1000\n",
      "0s - loss: 0.1586 - acc: 0.9459\n",
      "Epoch 580/1000\n",
      "0s - loss: 0.1585 - acc: 0.9460\n",
      "Epoch 581/1000\n",
      "0s - loss: 0.1584 - acc: 0.9459\n",
      "Epoch 582/1000\n",
      "0s - loss: 0.1584 - acc: 0.9460\n",
      "Epoch 583/1000\n",
      "0s - loss: 0.1583 - acc: 0.9459\n",
      "Epoch 584/1000\n",
      "0s - loss: 0.1583 - acc: 0.9461\n",
      "Epoch 585/1000\n",
      "0s - loss: 0.1582 - acc: 0.9462\n",
      "Epoch 586/1000\n",
      "0s - loss: 0.1582 - acc: 0.9460\n",
      "Epoch 587/1000\n",
      "0s - loss: 0.1581 - acc: 0.9461\n",
      "Epoch 588/1000\n",
      "0s - loss: 0.1580 - acc: 0.9464\n",
      "Epoch 589/1000\n",
      "0s - loss: 0.1580 - acc: 0.9463\n",
      "Epoch 590/1000\n",
      "0s - loss: 0.1579 - acc: 0.9463\n",
      "Epoch 591/1000\n",
      "0s - loss: 0.1579 - acc: 0.9462\n",
      "Epoch 592/1000\n",
      "0s - loss: 0.1578 - acc: 0.9463\n",
      "Epoch 593/1000\n",
      "0s - loss: 0.1577 - acc: 0.9465\n",
      "Epoch 594/1000\n",
      "0s - loss: 0.1577 - acc: 0.9465\n",
      "Epoch 595/1000\n",
      "0s - loss: 0.1576 - acc: 0.9464\n",
      "Epoch 596/1000\n",
      "0s - loss: 0.1576 - acc: 0.9461\n",
      "Epoch 597/1000\n",
      "0s - loss: 0.1575 - acc: 0.9464\n",
      "Epoch 598/1000\n",
      "0s - loss: 0.1574 - acc: 0.9463\n",
      "Epoch 599/1000\n",
      "0s - loss: 0.1574 - acc: 0.9465\n",
      "Epoch 600/1000\n",
      "0s - loss: 0.1573 - acc: 0.9464\n",
      "Epoch 601/1000\n",
      "0s - loss: 0.1573 - acc: 0.9467\n",
      "Epoch 602/1000\n",
      "0s - loss: 0.1572 - acc: 0.9465\n",
      "Epoch 603/1000\n",
      "0s - loss: 0.1572 - acc: 0.9466\n",
      "Epoch 604/1000\n",
      "0s - loss: 0.1571 - acc: 0.9466\n",
      "Epoch 605/1000\n",
      "0s - loss: 0.1571 - acc: 0.9465\n",
      "Epoch 606/1000\n",
      "0s - loss: 0.1570 - acc: 0.9465\n",
      "Epoch 607/1000\n",
      "0s - loss: 0.1569 - acc: 0.9468\n",
      "Epoch 608/1000\n",
      "0s - loss: 0.1569 - acc: 0.9466\n",
      "Epoch 609/1000\n",
      "0s - loss: 0.1568 - acc: 0.9468\n",
      "Epoch 610/1000\n",
      "0s - loss: 0.1568 - acc: 0.9466\n",
      "Epoch 611/1000\n",
      "0s - loss: 0.1567 - acc: 0.9469\n",
      "Epoch 612/1000\n",
      "0s - loss: 0.1567 - acc: 0.9468\n",
      "Epoch 613/1000\n",
      "0s - loss: 0.1566 - acc: 0.9469\n",
      "Epoch 614/1000\n",
      "0s - loss: 0.1566 - acc: 0.9469\n",
      "Epoch 615/1000\n",
      "0s - loss: 0.1565 - acc: 0.9467\n",
      "Epoch 616/1000\n",
      "0s - loss: 0.1564 - acc: 0.9470\n",
      "Epoch 617/1000\n",
      "0s - loss: 0.1564 - acc: 0.9470\n",
      "Epoch 618/1000\n",
      "0s - loss: 0.1563 - acc: 0.9470\n",
      "Epoch 619/1000\n",
      "0s - loss: 0.1563 - acc: 0.9468\n",
      "Epoch 620/1000\n",
      "0s - loss: 0.1562 - acc: 0.9472\n",
      "Epoch 621/1000\n",
      "0s - loss: 0.1562 - acc: 0.9471\n",
      "Epoch 622/1000\n",
      "0s - loss: 0.1561 - acc: 0.9469\n",
      "Epoch 623/1000\n",
      "0s - loss: 0.1561 - acc: 0.9471\n",
      "Epoch 624/1000\n",
      "0s - loss: 0.1560 - acc: 0.9468\n",
      "Epoch 625/1000\n",
      "0s - loss: 0.1559 - acc: 0.9469\n",
      "Epoch 626/1000\n",
      "0s - loss: 0.1559 - acc: 0.9470\n",
      "Epoch 627/1000\n",
      "0s - loss: 0.1558 - acc: 0.9472\n",
      "Epoch 628/1000\n",
      "0s - loss: 0.1558 - acc: 0.9470\n",
      "Epoch 629/1000\n",
      "0s - loss: 0.1557 - acc: 0.9472\n",
      "Epoch 630/1000\n",
      "0s - loss: 0.1557 - acc: 0.9472\n",
      "Epoch 631/1000\n",
      "0s - loss: 0.1556 - acc: 0.9471\n",
      "Epoch 632/1000\n",
      "0s - loss: 0.1556 - acc: 0.9471\n",
      "Epoch 633/1000\n",
      "0s - loss: 0.1555 - acc: 0.9471\n",
      "Epoch 634/1000\n",
      "0s - loss: 0.1555 - acc: 0.9471\n",
      "Epoch 635/1000\n",
      "0s - loss: 0.1554 - acc: 0.9474\n",
      "Epoch 636/1000\n",
      "0s - loss: 0.1554 - acc: 0.9470\n",
      "Epoch 637/1000\n",
      "0s - loss: 0.1553 - acc: 0.9473\n",
      "Epoch 638/1000\n",
      "0s - loss: 0.1553 - acc: 0.9472\n",
      "Epoch 639/1000\n",
      "0s - loss: 0.1552 - acc: 0.9472\n",
      "Epoch 640/1000\n",
      "0s - loss: 0.1552 - acc: 0.9473\n",
      "Epoch 641/1000\n",
      "0s - loss: 0.1551 - acc: 0.9473\n",
      "Epoch 642/1000\n",
      "0s - loss: 0.1550 - acc: 0.9474\n",
      "Epoch 643/1000\n",
      "0s - loss: 0.1550 - acc: 0.9475\n",
      "Epoch 644/1000\n",
      "0s - loss: 0.1549 - acc: 0.9473\n",
      "Epoch 645/1000\n",
      "0s - loss: 0.1549 - acc: 0.9474\n",
      "Epoch 646/1000\n",
      "0s - loss: 0.1548 - acc: 0.9475\n",
      "Epoch 647/1000\n",
      "0s - loss: 0.1548 - acc: 0.9474\n",
      "Epoch 648/1000\n",
      "0s - loss: 0.1547 - acc: 0.9474\n",
      "Epoch 649/1000\n",
      "0s - loss: 0.1547 - acc: 0.9472\n",
      "Epoch 650/1000\n",
      "0s - loss: 0.1546 - acc: 0.9473\n",
      "Epoch 651/1000\n",
      "0s - loss: 0.1546 - acc: 0.9475\n",
      "Epoch 652/1000\n",
      "0s - loss: 0.1545 - acc: 0.9474\n",
      "Epoch 653/1000\n",
      "0s - loss: 0.1545 - acc: 0.9476\n",
      "Epoch 654/1000\n",
      "0s - loss: 0.1544 - acc: 0.9476\n",
      "Epoch 655/1000\n",
      "0s - loss: 0.1544 - acc: 0.9474\n",
      "Epoch 656/1000\n",
      "0s - loss: 0.1543 - acc: 0.9474\n",
      "Epoch 657/1000\n",
      "0s - loss: 0.1543 - acc: 0.9478\n",
      "Epoch 658/1000\n",
      "0s - loss: 0.1542 - acc: 0.9477\n",
      "Epoch 659/1000\n",
      "0s - loss: 0.1541 - acc: 0.9474\n",
      "Epoch 660/1000\n",
      "0s - loss: 0.1541 - acc: 0.9476\n",
      "Epoch 661/1000\n",
      "0s - loss: 0.1540 - acc: 0.9476\n",
      "Epoch 662/1000\n",
      "0s - loss: 0.1540 - acc: 0.9476\n",
      "Epoch 663/1000\n",
      "0s - loss: 0.1540 - acc: 0.9476\n",
      "Epoch 664/1000\n",
      "0s - loss: 0.1539 - acc: 0.9477\n",
      "Epoch 665/1000\n",
      "0s - loss: 0.1539 - acc: 0.9478\n",
      "Epoch 666/1000\n",
      "0s - loss: 0.1538 - acc: 0.9477\n",
      "Epoch 667/1000\n",
      "0s - loss: 0.1537 - acc: 0.9477\n",
      "Epoch 668/1000\n",
      "0s - loss: 0.1537 - acc: 0.9479\n",
      "Epoch 669/1000\n",
      "0s - loss: 0.1536 - acc: 0.9476\n",
      "Epoch 670/1000\n",
      "0s - loss: 0.1536 - acc: 0.9478\n",
      "Epoch 671/1000\n",
      "0s - loss: 0.1535 - acc: 0.9477\n",
      "Epoch 672/1000\n",
      "0s - loss: 0.1535 - acc: 0.9477\n",
      "Epoch 673/1000\n",
      "0s - loss: 0.1534 - acc: 0.9479\n",
      "Epoch 674/1000\n",
      "0s - loss: 0.1534 - acc: 0.9477\n",
      "Epoch 675/1000\n",
      "0s - loss: 0.1533 - acc: 0.9478\n",
      "Epoch 676/1000\n",
      "0s - loss: 0.1533 - acc: 0.9479\n",
      "Epoch 677/1000\n",
      "0s - loss: 0.1533 - acc: 0.9479\n",
      "Epoch 678/1000\n",
      "0s - loss: 0.1532 - acc: 0.9477\n",
      "Epoch 679/1000\n",
      "0s - loss: 0.1532 - acc: 0.9480\n",
      "Epoch 680/1000\n",
      "0s - loss: 0.1531 - acc: 0.9480\n",
      "Epoch 681/1000\n",
      "0s - loss: 0.1530 - acc: 0.9478\n",
      "Epoch 682/1000\n",
      "0s - loss: 0.1530 - acc: 0.9478\n",
      "Epoch 683/1000\n",
      "0s - loss: 0.1529 - acc: 0.9479\n",
      "Epoch 684/1000\n",
      "0s - loss: 0.1529 - acc: 0.9480\n",
      "Epoch 685/1000\n",
      "0s - loss: 0.1528 - acc: 0.9479\n",
      "Epoch 686/1000\n",
      "0s - loss: 0.1528 - acc: 0.9479\n",
      "Epoch 687/1000\n",
      "0s - loss: 0.1527 - acc: 0.9480\n",
      "Epoch 688/1000\n",
      "0s - loss: 0.1527 - acc: 0.9482\n",
      "Epoch 689/1000\n",
      "0s - loss: 0.1527 - acc: 0.9480\n",
      "Epoch 690/1000\n",
      "0s - loss: 0.1526 - acc: 0.9481\n",
      "Epoch 691/1000\n",
      "0s - loss: 0.1526 - acc: 0.9480\n",
      "Epoch 692/1000\n",
      "0s - loss: 0.1525 - acc: 0.9481\n",
      "Epoch 693/1000\n",
      "0s - loss: 0.1525 - acc: 0.9481\n",
      "Epoch 694/1000\n",
      "0s - loss: 0.1524 - acc: 0.9480\n",
      "Epoch 695/1000\n",
      "0s - loss: 0.1524 - acc: 0.9481\n",
      "Epoch 696/1000\n",
      "0s - loss: 0.1523 - acc: 0.9481\n",
      "Epoch 697/1000\n",
      "0s - loss: 0.1523 - acc: 0.9482\n",
      "Epoch 698/1000\n",
      "0s - loss: 0.1522 - acc: 0.9482\n",
      "Epoch 699/1000\n",
      "0s - loss: 0.1522 - acc: 0.9480\n",
      "Epoch 700/1000\n",
      "0s - loss: 0.1521 - acc: 0.9481\n",
      "Epoch 701/1000\n",
      "0s - loss: 0.1521 - acc: 0.9482\n",
      "Epoch 702/1000\n",
      "0s - loss: 0.1520 - acc: 0.9482\n",
      "Epoch 703/1000\n",
      "0s - loss: 0.1520 - acc: 0.9482\n",
      "Epoch 704/1000\n",
      "0s - loss: 0.1519 - acc: 0.9482\n",
      "Epoch 705/1000\n",
      "0s - loss: 0.1519 - acc: 0.9482\n",
      "Epoch 706/1000\n",
      "0s - loss: 0.1518 - acc: 0.9481\n",
      "Epoch 707/1000\n",
      "0s - loss: 0.1518 - acc: 0.9481\n",
      "Epoch 708/1000\n",
      "0s - loss: 0.1517 - acc: 0.9482\n",
      "Epoch 709/1000\n",
      "0s - loss: 0.1517 - acc: 0.9482\n",
      "Epoch 710/1000\n",
      "0s - loss: 0.1517 - acc: 0.9484\n",
      "Epoch 711/1000\n",
      "0s - loss: 0.1516 - acc: 0.9482\n",
      "Epoch 712/1000\n",
      "0s - loss: 0.1516 - acc: 0.9484\n",
      "Epoch 713/1000\n",
      "0s - loss: 0.1515 - acc: 0.9485\n",
      "Epoch 714/1000\n",
      "0s - loss: 0.1515 - acc: 0.9484\n",
      "Epoch 715/1000\n",
      "0s - loss: 0.1514 - acc: 0.9484\n",
      "Epoch 716/1000\n",
      "0s - loss: 0.1514 - acc: 0.9483\n",
      "Epoch 717/1000\n",
      "0s - loss: 0.1513 - acc: 0.9484\n",
      "Epoch 718/1000\n",
      "0s - loss: 0.1513 - acc: 0.9484\n",
      "Epoch 719/1000\n",
      "0s - loss: 0.1512 - acc: 0.9483\n",
      "Epoch 720/1000\n",
      "0s - loss: 0.1512 - acc: 0.9483\n",
      "Epoch 721/1000\n",
      "0s - loss: 0.1511 - acc: 0.9484\n",
      "Epoch 722/1000\n",
      "0s - loss: 0.1511 - acc: 0.9483\n",
      "Epoch 723/1000\n",
      "0s - loss: 0.1510 - acc: 0.9484\n",
      "Epoch 724/1000\n",
      "0s - loss: 0.1510 - acc: 0.9485\n",
      "Epoch 725/1000\n",
      "0s - loss: 0.1510 - acc: 0.9485\n",
      "Epoch 726/1000\n",
      "0s - loss: 0.1509 - acc: 0.9485\n",
      "Epoch 727/1000\n",
      "0s - loss: 0.1509 - acc: 0.9484\n",
      "Epoch 728/1000\n",
      "0s - loss: 0.1508 - acc: 0.9485\n",
      "Epoch 729/1000\n",
      "0s - loss: 0.1508 - acc: 0.9485\n",
      "Epoch 730/1000\n",
      "0s - loss: 0.1507 - acc: 0.9484\n",
      "Epoch 731/1000\n",
      "0s - loss: 0.1507 - acc: 0.9486\n",
      "Epoch 732/1000\n",
      "0s - loss: 0.1506 - acc: 0.9485\n",
      "Epoch 733/1000\n",
      "0s - loss: 0.1506 - acc: 0.9485\n",
      "Epoch 734/1000\n",
      "0s - loss: 0.1505 - acc: 0.9486\n",
      "Epoch 735/1000\n",
      "0s - loss: 0.1505 - acc: 0.9485\n",
      "Epoch 736/1000\n",
      "0s - loss: 0.1505 - acc: 0.9485\n",
      "Epoch 737/1000\n",
      "0s - loss: 0.1504 - acc: 0.9486\n",
      "Epoch 738/1000\n",
      "0s - loss: 0.1504 - acc: 0.9483\n",
      "Epoch 739/1000\n",
      "0s - loss: 0.1503 - acc: 0.9485\n",
      "Epoch 740/1000\n",
      "0s - loss: 0.1503 - acc: 0.9488\n",
      "Epoch 741/1000\n",
      "0s - loss: 0.1502 - acc: 0.9486\n",
      "Epoch 742/1000\n",
      "0s - loss: 0.1502 - acc: 0.9485\n",
      "Epoch 743/1000\n",
      "0s - loss: 0.1501 - acc: 0.9485\n",
      "Epoch 744/1000\n",
      "0s - loss: 0.1501 - acc: 0.9489\n",
      "Epoch 745/1000\n",
      "0s - loss: 0.1501 - acc: 0.9488\n",
      "Epoch 746/1000\n",
      "0s - loss: 0.1500 - acc: 0.9488\n",
      "Epoch 747/1000\n",
      "0s - loss: 0.1500 - acc: 0.9488\n",
      "Epoch 748/1000\n",
      "0s - loss: 0.1499 - acc: 0.9486\n",
      "Epoch 749/1000\n",
      "0s - loss: 0.1499 - acc: 0.9490\n",
      "Epoch 750/1000\n",
      "0s - loss: 0.1498 - acc: 0.9487\n",
      "Epoch 751/1000\n",
      "0s - loss: 0.1498 - acc: 0.9490\n",
      "Epoch 752/1000\n",
      "0s - loss: 0.1497 - acc: 0.9488\n",
      "Epoch 753/1000\n",
      "0s - loss: 0.1497 - acc: 0.9488\n",
      "Epoch 754/1000\n",
      "0s - loss: 0.1497 - acc: 0.9487\n",
      "Epoch 755/1000\n",
      "0s - loss: 0.1496 - acc: 0.9488\n",
      "Epoch 756/1000\n",
      "0s - loss: 0.1496 - acc: 0.9487\n",
      "Epoch 757/1000\n",
      "0s - loss: 0.1495 - acc: 0.9490\n",
      "Epoch 758/1000\n",
      "0s - loss: 0.1495 - acc: 0.9488\n",
      "Epoch 759/1000\n",
      "0s - loss: 0.1494 - acc: 0.9488\n",
      "Epoch 760/1000\n",
      "0s - loss: 0.1494 - acc: 0.9488\n",
      "Epoch 761/1000\n",
      "0s - loss: 0.1493 - acc: 0.9489\n",
      "Epoch 762/1000\n",
      "0s - loss: 0.1493 - acc: 0.9489\n",
      "Epoch 763/1000\n",
      "0s - loss: 0.1493 - acc: 0.9488\n",
      "Epoch 764/1000\n",
      "0s - loss: 0.1492 - acc: 0.9491\n",
      "Epoch 765/1000\n",
      "0s - loss: 0.1492 - acc: 0.9490\n",
      "Epoch 766/1000\n",
      "0s - loss: 0.1491 - acc: 0.9490\n",
      "Epoch 767/1000\n",
      "0s - loss: 0.1491 - acc: 0.9491\n",
      "Epoch 768/1000\n",
      "0s - loss: 0.1491 - acc: 0.9490\n",
      "Epoch 769/1000\n",
      "0s - loss: 0.1490 - acc: 0.9491\n",
      "Epoch 770/1000\n",
      "0s - loss: 0.1490 - acc: 0.9491\n",
      "Epoch 771/1000\n",
      "0s - loss: 0.1489 - acc: 0.9491\n",
      "Epoch 772/1000\n",
      "0s - loss: 0.1489 - acc: 0.9490\n",
      "Epoch 773/1000\n",
      "0s - loss: 0.1488 - acc: 0.9490\n",
      "Epoch 774/1000\n",
      "0s - loss: 0.1488 - acc: 0.9490\n",
      "Epoch 775/1000\n",
      "0s - loss: 0.1487 - acc: 0.9490\n",
      "Epoch 776/1000\n",
      "0s - loss: 0.1487 - acc: 0.9490\n",
      "Epoch 777/1000\n",
      "0s - loss: 0.1487 - acc: 0.9491\n",
      "Epoch 778/1000\n",
      "0s - loss: 0.1486 - acc: 0.9491\n",
      "Epoch 779/1000\n",
      "0s - loss: 0.1486 - acc: 0.9491\n",
      "Epoch 780/1000\n",
      "0s - loss: 0.1486 - acc: 0.9492\n",
      "Epoch 781/1000\n",
      "0s - loss: 0.1485 - acc: 0.9492\n",
      "Epoch 782/1000\n",
      "0s - loss: 0.1484 - acc: 0.9491\n",
      "Epoch 783/1000\n",
      "0s - loss: 0.1484 - acc: 0.9493\n",
      "Epoch 784/1000\n",
      "0s - loss: 0.1484 - acc: 0.9492\n",
      "Epoch 785/1000\n",
      "0s - loss: 0.1483 - acc: 0.9494\n",
      "Epoch 786/1000\n",
      "0s - loss: 0.1483 - acc: 0.9492\n",
      "Epoch 787/1000\n",
      "0s - loss: 0.1482 - acc: 0.9493\n",
      "Epoch 788/1000\n",
      "0s - loss: 0.1482 - acc: 0.9494\n",
      "Epoch 789/1000\n",
      "0s - loss: 0.1482 - acc: 0.9494\n",
      "Epoch 790/1000\n",
      "0s - loss: 0.1481 - acc: 0.9492\n",
      "Epoch 791/1000\n",
      "0s - loss: 0.1481 - acc: 0.9493\n",
      "Epoch 792/1000\n",
      "0s - loss: 0.1480 - acc: 0.9492\n",
      "Epoch 793/1000\n",
      "0s - loss: 0.1480 - acc: 0.9496\n",
      "Epoch 794/1000\n",
      "0s - loss: 0.1479 - acc: 0.9494\n",
      "Epoch 795/1000\n",
      "0s - loss: 0.1479 - acc: 0.9496\n",
      "Epoch 796/1000\n",
      "0s - loss: 0.1479 - acc: 0.9497\n",
      "Epoch 797/1000\n",
      "0s - loss: 0.1478 - acc: 0.9492\n",
      "Epoch 798/1000\n",
      "0s - loss: 0.1478 - acc: 0.9495\n",
      "Epoch 799/1000\n",
      "0s - loss: 0.1477 - acc: 0.9496\n",
      "Epoch 800/1000\n",
      "0s - loss: 0.1477 - acc: 0.9495\n",
      "Epoch 801/1000\n",
      "0s - loss: 0.1477 - acc: 0.9494\n",
      "Epoch 802/1000\n",
      "0s - loss: 0.1476 - acc: 0.9497\n",
      "Epoch 803/1000\n",
      "0s - loss: 0.1476 - acc: 0.9493\n",
      "Epoch 804/1000\n",
      "0s - loss: 0.1475 - acc: 0.9497\n",
      "Epoch 805/1000\n",
      "0s - loss: 0.1475 - acc: 0.9498\n",
      "Epoch 806/1000\n",
      "0s - loss: 0.1475 - acc: 0.9496\n",
      "Epoch 807/1000\n",
      "0s - loss: 0.1474 - acc: 0.9498\n",
      "Epoch 808/1000\n",
      "0s - loss: 0.1474 - acc: 0.9496\n",
      "Epoch 809/1000\n",
      "0s - loss: 0.1474 - acc: 0.9496\n",
      "Epoch 810/1000\n",
      "0s - loss: 0.1473 - acc: 0.9499\n",
      "Epoch 811/1000\n",
      "0s - loss: 0.1473 - acc: 0.9498\n",
      "Epoch 812/1000\n",
      "0s - loss: 0.1472 - acc: 0.9496\n",
      "Epoch 813/1000\n",
      "0s - loss: 0.1472 - acc: 0.9498\n",
      "Epoch 814/1000\n",
      "0s - loss: 0.1471 - acc: 0.9498\n",
      "Epoch 815/1000\n",
      "0s - loss: 0.1471 - acc: 0.9496\n",
      "Epoch 816/1000\n",
      "0s - loss: 0.1471 - acc: 0.9499\n",
      "Epoch 817/1000\n",
      "0s - loss: 0.1470 - acc: 0.9500\n",
      "Epoch 818/1000\n",
      "0s - loss: 0.1470 - acc: 0.9497\n",
      "Epoch 819/1000\n",
      "0s - loss: 0.1469 - acc: 0.9498\n",
      "Epoch 820/1000\n",
      "0s - loss: 0.1469 - acc: 0.9498\n",
      "Epoch 821/1000\n",
      "0s - loss: 0.1469 - acc: 0.9499\n",
      "Epoch 822/1000\n",
      "0s - loss: 0.1468 - acc: 0.9498\n",
      "Epoch 823/1000\n",
      "0s - loss: 0.1468 - acc: 0.9500\n",
      "Epoch 824/1000\n",
      "0s - loss: 0.1467 - acc: 0.9499\n",
      "Epoch 825/1000\n",
      "0s - loss: 0.1467 - acc: 0.9497\n",
      "Epoch 826/1000\n",
      "0s - loss: 0.1467 - acc: 0.9499\n",
      "Epoch 827/1000\n",
      "0s - loss: 0.1466 - acc: 0.9500\n",
      "Epoch 828/1000\n",
      "0s - loss: 0.1466 - acc: 0.9500\n",
      "Epoch 829/1000\n",
      "0s - loss: 0.1465 - acc: 0.9501\n",
      "Epoch 830/1000\n",
      "0s - loss: 0.1465 - acc: 0.9502\n",
      "Epoch 831/1000\n",
      "0s - loss: 0.1465 - acc: 0.9500\n",
      "Epoch 832/1000\n",
      "0s - loss: 0.1464 - acc: 0.9499\n",
      "Epoch 833/1000\n",
      "0s - loss: 0.1464 - acc: 0.9500\n",
      "Epoch 834/1000\n",
      "0s - loss: 0.1464 - acc: 0.9501\n",
      "Epoch 835/1000\n",
      "0s - loss: 0.1463 - acc: 0.9501\n",
      "Epoch 836/1000\n",
      "0s - loss: 0.1463 - acc: 0.9502\n",
      "Epoch 837/1000\n",
      "0s - loss: 0.1462 - acc: 0.9502\n",
      "Epoch 838/1000\n",
      "0s - loss: 0.1462 - acc: 0.9501\n",
      "Epoch 839/1000\n",
      "0s - loss: 0.1462 - acc: 0.9502\n",
      "Epoch 840/1000\n",
      "0s - loss: 0.1461 - acc: 0.9503\n",
      "Epoch 841/1000\n",
      "0s - loss: 0.1461 - acc: 0.9501\n",
      "Epoch 842/1000\n",
      "0s - loss: 0.1460 - acc: 0.9501\n",
      "Epoch 843/1000\n",
      "0s - loss: 0.1460 - acc: 0.9503\n",
      "Epoch 844/1000\n",
      "0s - loss: 0.1460 - acc: 0.9503\n",
      "Epoch 845/1000\n",
      "0s - loss: 0.1459 - acc: 0.9501\n",
      "Epoch 846/1000\n",
      "0s - loss: 0.1459 - acc: 0.9503\n",
      "Epoch 847/1000\n",
      "0s - loss: 0.1459 - acc: 0.9504\n",
      "Epoch 848/1000\n",
      "0s - loss: 0.1458 - acc: 0.9502\n",
      "Epoch 849/1000\n",
      "0s - loss: 0.1458 - acc: 0.9503\n",
      "Epoch 850/1000\n",
      "0s - loss: 0.1457 - acc: 0.9505\n",
      "Epoch 851/1000\n",
      "0s - loss: 0.1457 - acc: 0.9502\n",
      "Epoch 852/1000\n",
      "0s - loss: 0.1457 - acc: 0.9506\n",
      "Epoch 853/1000\n",
      "0s - loss: 0.1456 - acc: 0.9502\n",
      "Epoch 854/1000\n",
      "0s - loss: 0.1456 - acc: 0.9504\n",
      "Epoch 855/1000\n",
      "0s - loss: 0.1455 - acc: 0.9502\n",
      "Epoch 856/1000\n",
      "0s - loss: 0.1455 - acc: 0.9506\n",
      "Epoch 857/1000\n",
      "0s - loss: 0.1455 - acc: 0.9506\n",
      "Epoch 858/1000\n",
      "0s - loss: 0.1454 - acc: 0.9503\n",
      "Epoch 859/1000\n",
      "0s - loss: 0.1454 - acc: 0.9506\n",
      "Epoch 860/1000\n",
      "0s - loss: 0.1454 - acc: 0.9503\n",
      "Epoch 861/1000\n",
      "0s - loss: 0.1453 - acc: 0.9506\n",
      "Epoch 862/1000\n",
      "0s - loss: 0.1453 - acc: 0.9507\n",
      "Epoch 863/1000\n",
      "0s - loss: 0.1453 - acc: 0.9504\n",
      "Epoch 864/1000\n",
      "0s - loss: 0.1452 - acc: 0.9505\n",
      "Epoch 865/1000\n",
      "0s - loss: 0.1452 - acc: 0.9507\n",
      "Epoch 866/1000\n",
      "0s - loss: 0.1451 - acc: 0.9508\n",
      "Epoch 867/1000\n",
      "0s - loss: 0.1451 - acc: 0.9508\n",
      "Epoch 868/1000\n",
      "0s - loss: 0.1451 - acc: 0.9503\n",
      "Epoch 869/1000\n",
      "0s - loss: 0.1450 - acc: 0.9507\n",
      "Epoch 870/1000\n",
      "0s - loss: 0.1450 - acc: 0.9504\n",
      "Epoch 871/1000\n",
      "0s - loss: 0.1449 - acc: 0.9509\n",
      "Epoch 872/1000\n",
      "0s - loss: 0.1449 - acc: 0.9509\n",
      "Epoch 873/1000\n",
      "0s - loss: 0.1449 - acc: 0.9510\n",
      "Epoch 874/1000\n",
      "0s - loss: 0.1448 - acc: 0.9507\n",
      "Epoch 875/1000\n",
      "0s - loss: 0.1448 - acc: 0.9508\n",
      "Epoch 876/1000\n",
      "0s - loss: 0.1448 - acc: 0.9507\n",
      "Epoch 877/1000\n",
      "0s - loss: 0.1447 - acc: 0.9511\n",
      "Epoch 878/1000\n",
      "0s - loss: 0.1447 - acc: 0.9510\n",
      "Epoch 879/1000\n",
      "0s - loss: 0.1447 - acc: 0.9510\n",
      "Epoch 880/1000\n",
      "0s - loss: 0.1446 - acc: 0.9509\n",
      "Epoch 881/1000\n",
      "0s - loss: 0.1446 - acc: 0.9510\n",
      "Epoch 882/1000\n",
      "0s - loss: 0.1445 - acc: 0.9510\n",
      "Epoch 883/1000\n",
      "0s - loss: 0.1445 - acc: 0.9510\n",
      "Epoch 884/1000\n",
      "0s - loss: 0.1445 - acc: 0.9508\n",
      "Epoch 885/1000\n",
      "0s - loss: 0.1444 - acc: 0.9511\n",
      "Epoch 886/1000\n",
      "0s - loss: 0.1444 - acc: 0.9507\n",
      "Epoch 887/1000\n",
      "0s - loss: 0.1444 - acc: 0.9511\n",
      "Epoch 888/1000\n",
      "0s - loss: 0.1443 - acc: 0.9509\n",
      "Epoch 889/1000\n",
      "0s - loss: 0.1443 - acc: 0.9510\n",
      "Epoch 890/1000\n",
      "0s - loss: 0.1443 - acc: 0.9511\n",
      "Epoch 891/1000\n",
      "0s - loss: 0.1442 - acc: 0.9512\n",
      "Epoch 892/1000\n",
      "0s - loss: 0.1442 - acc: 0.9509\n",
      "Epoch 893/1000\n",
      "0s - loss: 0.1441 - acc: 0.9513\n",
      "Epoch 894/1000\n",
      "0s - loss: 0.1441 - acc: 0.9514\n",
      "Epoch 895/1000\n",
      "0s - loss: 0.1441 - acc: 0.9513\n",
      "Epoch 896/1000\n",
      "0s - loss: 0.1440 - acc: 0.9513\n",
      "Epoch 897/1000\n",
      "0s - loss: 0.1440 - acc: 0.9514\n",
      "Epoch 898/1000\n",
      "0s - loss: 0.1440 - acc: 0.9509\n",
      "Epoch 899/1000\n",
      "0s - loss: 0.1439 - acc: 0.9513\n",
      "Epoch 900/1000\n",
      "0s - loss: 0.1439 - acc: 0.9512\n",
      "Epoch 901/1000\n",
      "0s - loss: 0.1439 - acc: 0.9510\n",
      "Epoch 902/1000\n",
      "0s - loss: 0.1438 - acc: 0.9512\n",
      "Epoch 903/1000\n",
      "0s - loss: 0.1438 - acc: 0.9512\n",
      "Epoch 904/1000\n",
      "0s - loss: 0.1437 - acc: 0.9512\n",
      "Epoch 905/1000\n",
      "0s - loss: 0.1437 - acc: 0.9514\n",
      "Epoch 906/1000\n",
      "0s - loss: 0.1437 - acc: 0.9515\n",
      "Epoch 907/1000\n",
      "0s - loss: 0.1437 - acc: 0.9515\n",
      "Epoch 908/1000\n",
      "0s - loss: 0.1436 - acc: 0.9514\n",
      "Epoch 909/1000\n",
      "0s - loss: 0.1436 - acc: 0.9514\n",
      "Epoch 910/1000\n",
      "0s - loss: 0.1435 - acc: 0.9514\n",
      "Epoch 911/1000\n",
      "0s - loss: 0.1435 - acc: 0.9514\n",
      "Epoch 912/1000\n",
      "0s - loss: 0.1435 - acc: 0.9514\n",
      "Epoch 913/1000\n",
      "0s - loss: 0.1434 - acc: 0.9514\n",
      "Epoch 914/1000\n",
      "0s - loss: 0.1434 - acc: 0.9513\n",
      "Epoch 915/1000\n",
      "0s - loss: 0.1434 - acc: 0.9514\n",
      "Epoch 916/1000\n",
      "0s - loss: 0.1433 - acc: 0.9512\n",
      "Epoch 917/1000\n",
      "0s - loss: 0.1433 - acc: 0.9516\n",
      "Epoch 918/1000\n",
      "0s - loss: 0.1433 - acc: 0.9515\n",
      "Epoch 919/1000\n",
      "0s - loss: 0.1432 - acc: 0.9515\n",
      "Epoch 920/1000\n",
      "0s - loss: 0.1432 - acc: 0.9514\n",
      "Epoch 921/1000\n",
      "0s - loss: 0.1432 - acc: 0.9513\n",
      "Epoch 922/1000\n",
      "0s - loss: 0.1431 - acc: 0.9514\n",
      "Epoch 923/1000\n",
      "0s - loss: 0.1431 - acc: 0.9515\n",
      "Epoch 924/1000\n",
      "0s - loss: 0.1431 - acc: 0.9514\n",
      "Epoch 925/1000\n",
      "0s - loss: 0.1430 - acc: 0.9515\n",
      "Epoch 926/1000\n",
      "0s - loss: 0.1430 - acc: 0.9516\n",
      "Epoch 927/1000\n",
      "0s - loss: 0.1430 - acc: 0.9516\n",
      "Epoch 928/1000\n",
      "0s - loss: 0.1429 - acc: 0.9514\n",
      "Epoch 929/1000\n",
      "0s - loss: 0.1429 - acc: 0.9515\n",
      "Epoch 930/1000\n",
      "0s - loss: 0.1428 - acc: 0.9515\n",
      "Epoch 931/1000\n",
      "0s - loss: 0.1428 - acc: 0.9514\n",
      "Epoch 932/1000\n",
      "0s - loss: 0.1428 - acc: 0.9515\n",
      "Epoch 933/1000\n",
      "0s - loss: 0.1427 - acc: 0.9515\n",
      "Epoch 934/1000\n",
      "0s - loss: 0.1427 - acc: 0.9516\n",
      "Epoch 935/1000\n",
      "0s - loss: 0.1427 - acc: 0.9514\n",
      "Epoch 936/1000\n",
      "0s - loss: 0.1426 - acc: 0.9515\n",
      "Epoch 937/1000\n",
      "0s - loss: 0.1426 - acc: 0.9514\n",
      "Epoch 938/1000\n",
      "0s - loss: 0.1426 - acc: 0.9516\n",
      "Epoch 939/1000\n",
      "0s - loss: 0.1425 - acc: 0.9515\n",
      "Epoch 940/1000\n",
      "0s - loss: 0.1425 - acc: 0.9516\n",
      "Epoch 941/1000\n",
      "0s - loss: 0.1425 - acc: 0.9515\n",
      "Epoch 942/1000\n",
      "0s - loss: 0.1424 - acc: 0.9516\n",
      "Epoch 943/1000\n",
      "0s - loss: 0.1424 - acc: 0.9514\n",
      "Epoch 944/1000\n",
      "0s - loss: 0.1424 - acc: 0.9517\n",
      "Epoch 945/1000\n",
      "0s - loss: 0.1423 - acc: 0.9517\n",
      "Epoch 946/1000\n",
      "0s - loss: 0.1423 - acc: 0.9517\n",
      "Epoch 947/1000\n",
      "0s - loss: 0.1423 - acc: 0.9517\n",
      "Epoch 948/1000\n",
      "0s - loss: 0.1422 - acc: 0.9516\n",
      "Epoch 949/1000\n",
      "0s - loss: 0.1422 - acc: 0.9518\n",
      "Epoch 950/1000\n",
      "0s - loss: 0.1422 - acc: 0.9516\n",
      "Epoch 951/1000\n",
      "0s - loss: 0.1421 - acc: 0.9516\n",
      "Epoch 952/1000\n",
      "0s - loss: 0.1421 - acc: 0.9516\n",
      "Epoch 953/1000\n",
      "0s - loss: 0.1421 - acc: 0.9521\n",
      "Epoch 954/1000\n",
      "0s - loss: 0.1420 - acc: 0.9518\n",
      "Epoch 955/1000\n",
      "0s - loss: 0.1420 - acc: 0.9517\n",
      "Epoch 956/1000\n",
      "0s - loss: 0.1420 - acc: 0.9517\n",
      "Epoch 957/1000\n",
      "0s - loss: 0.1419 - acc: 0.9517\n",
      "Epoch 958/1000\n",
      "0s - loss: 0.1419 - acc: 0.9518\n",
      "Epoch 959/1000\n",
      "0s - loss: 0.1419 - acc: 0.9518\n",
      "Epoch 960/1000\n",
      "0s - loss: 0.1419 - acc: 0.9517\n",
      "Epoch 961/1000\n",
      "0s - loss: 0.1418 - acc: 0.9517\n",
      "Epoch 962/1000\n",
      "0s - loss: 0.1418 - acc: 0.9517\n",
      "Epoch 963/1000\n",
      "0s - loss: 0.1418 - acc: 0.9518\n",
      "Epoch 964/1000\n",
      "0s - loss: 0.1417 - acc: 0.9517\n",
      "Epoch 965/1000\n",
      "0s - loss: 0.1417 - acc: 0.9520\n",
      "Epoch 966/1000\n",
      "0s - loss: 0.1416 - acc: 0.9518\n",
      "Epoch 967/1000\n",
      "0s - loss: 0.1416 - acc: 0.9521\n",
      "Epoch 968/1000\n",
      "0s - loss: 0.1416 - acc: 0.9519\n",
      "Epoch 969/1000\n",
      "0s - loss: 0.1415 - acc: 0.9518\n",
      "Epoch 970/1000\n",
      "0s - loss: 0.1415 - acc: 0.9520\n",
      "Epoch 971/1000\n",
      "0s - loss: 0.1415 - acc: 0.9519\n",
      "Epoch 972/1000\n",
      "0s - loss: 0.1414 - acc: 0.9521\n",
      "Epoch 973/1000\n",
      "0s - loss: 0.1414 - acc: 0.9520\n",
      "Epoch 974/1000\n",
      "0s - loss: 0.1414 - acc: 0.9520\n",
      "Epoch 975/1000\n",
      "0s - loss: 0.1414 - acc: 0.9521\n",
      "Epoch 976/1000\n",
      "0s - loss: 0.1413 - acc: 0.9523\n",
      "Epoch 977/1000\n",
      "0s - loss: 0.1413 - acc: 0.9520\n",
      "Epoch 978/1000\n",
      "0s - loss: 0.1412 - acc: 0.9520\n",
      "Epoch 979/1000\n",
      "0s - loss: 0.1412 - acc: 0.9522\n",
      "Epoch 980/1000\n",
      "0s - loss: 0.1412 - acc: 0.9521\n",
      "Epoch 981/1000\n",
      "0s - loss: 0.1412 - acc: 0.9520\n",
      "Epoch 982/1000\n",
      "0s - loss: 0.1411 - acc: 0.9522\n",
      "Epoch 983/1000\n",
      "0s - loss: 0.1411 - acc: 0.9521\n",
      "Epoch 984/1000\n",
      "0s - loss: 0.1411 - acc: 0.9526\n",
      "Epoch 985/1000\n",
      "0s - loss: 0.1410 - acc: 0.9521\n",
      "Epoch 986/1000\n",
      "0s - loss: 0.1410 - acc: 0.9524\n",
      "Epoch 987/1000\n",
      "0s - loss: 0.1410 - acc: 0.9524\n",
      "Epoch 988/1000\n",
      "0s - loss: 0.1409 - acc: 0.9524\n",
      "Epoch 989/1000\n",
      "0s - loss: 0.1409 - acc: 0.9522\n",
      "Epoch 990/1000\n",
      "0s - loss: 0.1409 - acc: 0.9524\n",
      "Epoch 991/1000\n",
      "0s - loss: 0.1409 - acc: 0.9524\n",
      "Epoch 992/1000\n",
      "0s - loss: 0.1408 - acc: 0.9524\n",
      "Epoch 993/1000\n",
      "0s - loss: 0.1408 - acc: 0.9525\n",
      "Epoch 994/1000\n",
      "0s - loss: 0.1407 - acc: 0.9523\n",
      "Epoch 995/1000\n",
      "0s - loss: 0.1407 - acc: 0.9524\n",
      "Epoch 996/1000\n",
      "0s - loss: 0.1407 - acc: 0.9525\n",
      "Epoch 997/1000\n",
      "0s - loss: 0.1407 - acc: 0.9523\n",
      "Epoch 998/1000\n",
      "0s - loss: 0.1406 - acc: 0.9524\n",
      "Epoch 999/1000\n",
      "0s - loss: 0.1406 - acc: 0.9522\n",
      "Epoch 1000/1000\n",
      "0s - loss: 0.1406 - acc: 0.9524\n",
      "CPU times: user 13min 40s, sys: 47 s, total: 14min 27s\n",
      "Wall time: 10min 48s\n"
     ]
    },
    {
     "data": {
      "text/plain": [
       "<keras.callbacks.History at 0x7fbafd105550>"
      ]
     },
     "execution_count": 31,
     "metadata": {},
     "output_type": "execute_result"
    }
   ],
   "source": [
    "%%time\n",
    "model.fit(bow.toarray(), train_labeled[1], nb_epoch=1000, batch_size=256, verbose=2)"
   ]
  },
  {
   "cell_type": "code",
   "execution_count": 22,
   "metadata": {
    "collapsed": false,
    "scrolled": true
   },
   "outputs": [
    {
     "name": "stdout",
     "output_type": "stream",
     "text": [
      "CPU times: user 12.7 s, sys: 200 ms, total: 12.9 s\n",
      "Wall time: 12.8 s\n"
     ]
    },
    {
     "name": "stderr",
     "output_type": "stream",
     "text": [
      "/home/tomoaki/anaconda2/lib/python2.7/site-packages/sklearn/utils/validation.py:420: DataConversionWarning: Data with input dtype int64 was converted to float64 by the normalize function.\n",
      "  warnings.warn(msg, DataConversionWarning)\n"
     ]
    }
   ],
   "source": [
    "%%time\n",
    "test_data = get_data(['./aclImdb/test/pos', './aclImdb/test/neg'], remove_stopwords=True)\n",
    "test_bow = get_bow(vectorizer, test_data[0])"
   ]
  },
  {
   "cell_type": "code",
   "execution_count": 32,
   "metadata": {
    "collapsed": false
   },
   "outputs": [
    {
     "name": "stdout",
     "output_type": "stream",
     "text": [
      "24864/25000 [============================>.] - ETA: 0s"
     ]
    }
   ],
   "source": [
    "output = model.predict_classes(test_bow.toarray())[:, 0]"
   ]
  },
  {
   "cell_type": "code",
   "execution_count": 33,
   "metadata": {
    "collapsed": false
   },
   "outputs": [],
   "source": [
    "def accuracy(prediction, target):\n",
    "    return 1 - np.mean(np.abs(prediction - target))"
   ]
  },
  {
   "cell_type": "code",
   "execution_count": 34,
   "metadata": {
    "collapsed": false
   },
   "outputs": [
    {
     "data": {
      "text/plain": [
       "0.86607999999999996"
      ]
     },
     "execution_count": 34,
     "metadata": {},
     "output_type": "execute_result"
    }
   ],
   "source": [
    "accuracy(output, test_data[1])"
   ]
  },
  {
   "cell_type": "markdown",
   "metadata": {
    "collapsed": false
   },
   "source": [
    "# Word2Vec"
   ]
  },
  {
   "cell_type": "code",
   "execution_count": 8,
   "metadata": {
    "collapsed": true
   },
   "outputs": [],
   "source": [
    "def sentences2wordlist(sentences):\n",
    "    return list(map(review2wordlist, sentences))"
   ]
  },
  {
   "cell_type": "code",
   "execution_count": 9,
   "metadata": {
    "collapsed": false
   },
   "outputs": [
    {
     "name": "stdout",
     "output_type": "stream",
     "text": [
      "CPU times: user 6.22 s, sys: 76 ms, total: 6.29 s\n",
      "Wall time: 6.32 s\n"
     ]
    }
   ],
   "source": [
    "%%time\n",
    "labeled_reviews = sentences2wordlist(train_labeled[0])"
   ]
  },
  {
   "cell_type": "code",
   "execution_count": 10,
   "metadata": {
    "collapsed": false
   },
   "outputs": [
    {
     "name": "stdout",
     "output_type": "stream",
     "text": [
      "CPU times: user 12.7 s, sys: 188 ms, total: 12.8 s\n",
      "Wall time: 12.8 s\n"
     ]
    }
   ],
   "source": [
    "%%time\n",
    "unlabeled_reviews = sentences2wordlist(train_unlabeled[0])"
   ]
  },
  {
   "cell_type": "code",
   "execution_count": 11,
   "metadata": {
    "collapsed": false
   },
   "outputs": [
    {
     "name": "stdout",
     "output_type": "stream",
     "text": [
      "CPU times: user 6.48 s, sys: 96 ms, total: 6.58 s\n",
      "Wall time: 6.58 s\n"
     ]
    }
   ],
   "source": [
    "%%time\n",
    "test_reviews = sentences2wordlist(test_data[0])"
   ]
  },
  {
   "cell_type": "code",
   "execution_count": 12,
   "metadata": {
    "collapsed": false
   },
   "outputs": [
    {
     "name": "stderr",
     "output_type": "stream",
     "text": [
      "/home/tomoaki/anaconda2/lib/python2.7/site-packages/gensim/utils.py:1015: UserWarning: Pattern library is not installed, lemmatization won't be available.\n",
      "  warnings.warn(\"Pattern library is not installed, lemmatization won't be available.\")\n"
     ]
    },
    {
     "name": "stdout",
     "output_type": "stream",
     "text": [
      "CPU times: user 3min 29s, sys: 684 ms, total: 3min 30s\n",
      "Wall time: 58.9 s\n"
     ]
    }
   ],
   "source": [
    "%%time\n",
    "\n",
    "from gensim.models.word2vec import Word2Vec\n",
    "\n",
    "model = Word2Vec(unlabeled_reviews + labeled_reviews, size=300, \n",
    "                 window=5, min_count=5, workers=4, max_vocab_size=50000)"
   ]
  },
  {
   "cell_type": "code",
   "execution_count": null,
   "metadata": {
    "collapsed": false
   },
   "outputs": [],
   "source": [
    "def get_average_vector(word2vec, wordlist):\n",
    "    wordlist = filter(lambda x: x in word2vec.vocab.keys(), wordlist)\n",
    "    vectors = np.array(list(map(lambda x: word2vec[x], wordlist)))\n",
    "    return np.mean(vectors, axis=0)\n",
    "\n",
    "def sentences2avgvec(word2vec, sentences):\n",
    "    return np.array(list(map(lambda x: get_average_vector(word2vec, x), sentences)))"
   ]
  },
  {
   "cell_type": "code",
   "execution_count": null,
   "metadata": {
    "collapsed": false
   },
   "outputs": [],
   "source": [
    "%%time\n",
    "train_average_vec = sentences2avgvec(model, labeled_reviews)"
   ]
  },
  {
   "cell_type": "code",
   "execution_count": null,
   "metadata": {
    "collapsed": false
   },
   "outputs": [],
   "source": [
    "%%time\n",
    "test_average_vec = sentences2avgvec(model, test_reviews)"
   ]
  },
  {
   "cell_type": "code",
   "execution_count": 17,
   "metadata": {
    "collapsed": false
   },
   "outputs": [
    {
     "name": "stdout",
     "output_type": "stream",
     "text": [
      "CPU times: user 32.4 s, sys: 28 ms, total: 32.4 s\n",
      "Wall time: 32.5 s\n"
     ]
    }
   ],
   "source": [
    "%%time\n",
    "\n",
    "from sklearn.ensemble import RandomForestClassifier\n",
    "\n",
    "# Initialize a Random Forest classifier with 100 trees\n",
    "forest = RandomForestClassifier(n_estimators = 100) \n",
    "forest.fit(train_average_vec, train_labeled[1])"
   ]
  },
  {
   "cell_type": "code",
   "execution_count": 20,
   "metadata": {
    "collapsed": false
   },
   "outputs": [],
   "source": [
    "output = forest.predict(test_average_vec)"
   ]
  },
  {
   "cell_type": "code",
   "execution_count": 21,
   "metadata": {
    "collapsed": false
   },
   "outputs": [],
   "source": [
    "def accuracy(prediction, target):\n",
    "    return 1 - np.mean(np.abs(prediction - target))"
   ]
  },
  {
   "cell_type": "code",
   "execution_count": 22,
   "metadata": {
    "collapsed": false
   },
   "outputs": [
    {
     "data": {
      "text/plain": [
       "0.80855999999999995"
      ]
     },
     "execution_count": 22,
     "metadata": {},
     "output_type": "execute_result"
    }
   ],
   "source": [
    "accuracy(output, test_data[1])"
   ]
  },
  {
   "cell_type": "code",
   "execution_count": 1,
   "metadata": {
    "collapsed": false
   },
   "outputs": [
    {
     "ename": "NameError",
     "evalue": "name 'train_average_vec' is not defined",
     "output_type": "error",
     "traceback": [
      "\u001b[1;31m---------------------------------------------------------------------------\u001b[0m",
      "\u001b[1;31mNameError\u001b[0m                                 Traceback (most recent call last)",
      "\u001b[1;32m<ipython-input-1-264d25753bee>\u001b[0m in \u001b[0;36m<module>\u001b[1;34m()\u001b[0m\n\u001b[0;32m      1\u001b[0m \u001b[1;32mfrom\u001b[0m \u001b[0msklearn\u001b[0m\u001b[1;33m.\u001b[0m\u001b[0mlinear_model\u001b[0m \u001b[1;32mimport\u001b[0m \u001b[0mLogisticRegression\u001b[0m\u001b[1;33m\u001b[0m\u001b[0m\n\u001b[0;32m      2\u001b[0m \u001b[0mregr\u001b[0m \u001b[1;33m=\u001b[0m \u001b[0mLogisticRegression\u001b[0m\u001b[1;33m(\u001b[0m\u001b[1;33m)\u001b[0m\u001b[1;33m\u001b[0m\u001b[0m\n\u001b[1;32m----> 3\u001b[1;33m \u001b[0mregr\u001b[0m\u001b[1;33m.\u001b[0m\u001b[0mfit\u001b[0m\u001b[1;33m(\u001b[0m\u001b[0mtrain_average_vec\u001b[0m\u001b[1;33m,\u001b[0m \u001b[0mtrain_labeled\u001b[0m\u001b[1;33m[\u001b[0m\u001b[1;36m1\u001b[0m\u001b[1;33m]\u001b[0m\u001b[1;33m)\u001b[0m\u001b[1;33m\u001b[0m\u001b[0m\n\u001b[0m",
      "\u001b[1;31mNameError\u001b[0m: name 'train_average_vec' is not defined"
     ]
    }
   ],
   "source": [
    "from sklearn.linear_model import LogisticRegression\n",
    "regr = LogisticRegression()\n",
    "regr.fit(train_average_vec, train_labeled[1])"
   ]
  },
  {
   "cell_type": "code",
   "execution_count": null,
   "metadata": {
    "collapsed": true
   },
   "outputs": [],
   "source": []
  },
  {
   "cell_type": "code",
   "execution_count": null,
   "metadata": {
    "collapsed": true
   },
   "outputs": [],
   "source": []
  },
  {
   "cell_type": "code",
   "execution_count": null,
   "metadata": {
    "collapsed": true
   },
   "outputs": [],
   "source": []
  },
  {
   "cell_type": "code",
   "execution_count": null,
   "metadata": {
    "collapsed": true
   },
   "outputs": [],
   "source": []
  },
  {
   "cell_type": "code",
   "execution_count": null,
   "metadata": {
    "collapsed": true
   },
   "outputs": [],
   "source": []
  },
  {
   "cell_type": "code",
   "execution_count": null,
   "metadata": {
    "collapsed": true
   },
   "outputs": [],
   "source": []
  },
  {
   "cell_type": "code",
   "execution_count": null,
   "metadata": {
    "collapsed": true
   },
   "outputs": [],
   "source": []
  },
  {
   "cell_type": "code",
   "execution_count": null,
   "metadata": {
    "collapsed": true
   },
   "outputs": [],
   "source": []
  },
  {
   "cell_type": "code",
   "execution_count": null,
   "metadata": {
    "collapsed": true
   },
   "outputs": [],
   "source": []
  },
  {
   "cell_type": "code",
   "execution_count": null,
   "metadata": {
    "collapsed": true
   },
   "outputs": [],
   "source": []
  },
  {
   "cell_type": "code",
   "execution_count": null,
   "metadata": {
    "collapsed": true
   },
   "outputs": [],
   "source": []
  },
  {
   "cell_type": "code",
   "execution_count": null,
   "metadata": {
    "collapsed": true
   },
   "outputs": [],
   "source": []
  },
  {
   "cell_type": "code",
   "execution_count": null,
   "metadata": {
    "collapsed": true
   },
   "outputs": [],
   "source": []
  },
  {
   "cell_type": "code",
   "execution_count": null,
   "metadata": {
    "collapsed": true
   },
   "outputs": [],
   "source": []
  },
  {
   "cell_type": "code",
   "execution_count": null,
   "metadata": {
    "collapsed": true
   },
   "outputs": [],
   "source": []
  },
  {
   "cell_type": "code",
   "execution_count": null,
   "metadata": {
    "collapsed": true
   },
   "outputs": [],
   "source": []
  },
  {
   "cell_type": "code",
   "execution_count": null,
   "metadata": {
    "collapsed": true
   },
   "outputs": [],
   "source": []
  },
  {
   "cell_type": "code",
   "execution_count": null,
   "metadata": {
    "collapsed": true
   },
   "outputs": [],
   "source": []
  },
  {
   "cell_type": "code",
   "execution_count": null,
   "metadata": {
    "collapsed": true
   },
   "outputs": [],
   "source": []
  },
  {
   "cell_type": "code",
   "execution_count": null,
   "metadata": {
    "collapsed": true
   },
   "outputs": [],
   "source": []
  },
  {
   "cell_type": "code",
   "execution_count": null,
   "metadata": {
    "collapsed": true
   },
   "outputs": [],
   "source": []
  },
  {
   "cell_type": "code",
   "execution_count": null,
   "metadata": {
    "collapsed": true
   },
   "outputs": [],
   "source": []
  },
  {
   "cell_type": "code",
   "execution_count": null,
   "metadata": {
    "collapsed": true
   },
   "outputs": [],
   "source": []
  },
  {
   "cell_type": "code",
   "execution_count": null,
   "metadata": {
    "collapsed": true
   },
   "outputs": [],
   "source": []
  },
  {
   "cell_type": "code",
   "execution_count": null,
   "metadata": {
    "collapsed": true
   },
   "outputs": [],
   "source": []
  },
  {
   "cell_type": "code",
   "execution_count": null,
   "metadata": {
    "collapsed": true
   },
   "outputs": [],
   "source": []
  },
  {
   "cell_type": "code",
   "execution_count": null,
   "metadata": {
    "collapsed": true
   },
   "outputs": [],
   "source": []
  },
  {
   "cell_type": "code",
   "execution_count": null,
   "metadata": {
    "collapsed": true
   },
   "outputs": [],
   "source": []
  },
  {
   "cell_type": "code",
   "execution_count": null,
   "metadata": {
    "collapsed": true
   },
   "outputs": [],
   "source": []
  },
  {
   "cell_type": "code",
   "execution_count": null,
   "metadata": {
    "collapsed": true
   },
   "outputs": [],
   "source": []
  },
  {
   "cell_type": "code",
   "execution_count": null,
   "metadata": {
    "collapsed": true
   },
   "outputs": [],
   "source": []
  },
  {
   "cell_type": "code",
   "execution_count": null,
   "metadata": {
    "collapsed": true
   },
   "outputs": [],
   "source": []
  },
  {
   "cell_type": "code",
   "execution_count": null,
   "metadata": {
    "collapsed": true
   },
   "outputs": [],
   "source": []
  },
  {
   "cell_type": "code",
   "execution_count": null,
   "metadata": {
    "collapsed": true
   },
   "outputs": [],
   "source": []
  },
  {
   "cell_type": "code",
   "execution_count": null,
   "metadata": {
    "collapsed": true
   },
   "outputs": [],
   "source": []
  },
  {
   "cell_type": "code",
   "execution_count": null,
   "metadata": {
    "collapsed": true
   },
   "outputs": [],
   "source": []
  },
  {
   "cell_type": "code",
   "execution_count": null,
   "metadata": {
    "collapsed": true
   },
   "outputs": [],
   "source": []
  },
  {
   "cell_type": "code",
   "execution_count": null,
   "metadata": {
    "collapsed": true
   },
   "outputs": [],
   "source": []
  },
  {
   "cell_type": "code",
   "execution_count": null,
   "metadata": {
    "collapsed": true
   },
   "outputs": [],
   "source": []
  },
  {
   "cell_type": "code",
   "execution_count": null,
   "metadata": {
    "collapsed": true
   },
   "outputs": [],
   "source": []
  },
  {
   "cell_type": "code",
   "execution_count": null,
   "metadata": {
    "collapsed": true
   },
   "outputs": [],
   "source": []
  },
  {
   "cell_type": "markdown",
   "metadata": {},
   "source": [
    "# Neural Network"
   ]
  },
  {
   "cell_type": "code",
   "execution_count": 241,
   "metadata": {
    "collapsed": true
   },
   "outputs": [],
   "source": [
    "import re \n",
    "from six.moves import xrange\n",
    "import os\n",
    "\n",
    "def get_data(file_dirs, remove_stopwords=False):\n",
    "    label = []\n",
    "    txt = []\n",
    "    comp_re = re.compile('(\\d+)_(\\d+).txt')\n",
    "    for file_dir in file_dirs:\n",
    "        name_list = [x for x in os.listdir(file_dir) if '.txt' in x]\n",
    "        for x in iter(name_list):\n",
    "            f = open(os.path.join(file_dir, x), 'r')\n",
    "            # word_list = review_to_wordlist(f.read(),  remove_stopwords)\n",
    "            # review_text = BeautifulSoup(f.read(), 'lxml').get_text()\n",
    "            # review_text = re.sub(\"[^a-zA-Z]\",\" \", review_text)\n",
    "            # txt.append(review_text)\n",
    "            # txt.append(word_list)\n",
    "            txt.append(f.read())\n",
    "            f.close()\n",
    "            obj = comp_re.search(x)\n",
    "            star = float(obj.group(2))\n",
    "            if star > 5:\n",
    "                label.append(1)\n",
    "            else:\n",
    "                label.append(0)\n",
    "    return [txt, label]"
   ]
  },
  {
   "cell_type": "code",
   "execution_count": 242,
   "metadata": {
    "collapsed": false
   },
   "outputs": [],
   "source": [
    "import re\n",
    "from nltk.corpus import stopwords\n",
    "from bs4 import BeautifulSoup\n",
    "import nltk\n",
    "\n",
    "tokenizer = nltk.data.load('tokenizers/punkt/english.pickle')\n",
    "\n",
    "def review_to_sentences(review, remove_stopwords=False):\n",
    "    review = BeautifulSoup(review, 'lxml').get_text()\n",
    "    raw_sentences = tokenizer.tokenize(review.strip())\n",
    "    sentences = []\n",
    "    for raw_sentence in raw_sentences:\n",
    "        if len(raw_sentences) == 0:\n",
    "            continue\n",
    "        sentences.append(review_to_wordlist(raw_sentence, remove_stopwords))\n",
    "    return sentences"
   ]
  },
  {
   "cell_type": "code",
   "execution_count": 243,
   "metadata": {
    "collapsed": false
   },
   "outputs": [
    {
     "name": "stdout",
     "output_type": "stream",
     "text": [
      "CPU times: user 312 ms, sys: 268 ms, total: 580 ms\n",
      "Wall time: 577 ms\n"
     ]
    }
   ],
   "source": [
    "%%time\n",
    "train_unlabeled = get_data(['./aclImdb/train/unsup'], remove_stopwords=False)\n",
    "train_labeled = get_data(['./aclImdb/train/pos', './aclImdb/train/neg'], remove_stopwords=False)"
   ]
  },
  {
   "cell_type": "code",
   "execution_count": 244,
   "metadata": {
    "collapsed": false
   },
   "outputs": [],
   "source": [
    "def get_sentnces(data):\n",
    "    sentences = []\n",
    "    labels = []\n",
    "    ids = []\n",
    "    for idx, x in enumerate(data[0]):\n",
    "        _sentences = review_to_sentences(x)\n",
    "        if len(_sentences) == 0:\n",
    "            continue\n",
    "        sentences += _sentences\n",
    "        labels += [data[1][idx]] * len(_sentences)\n",
    "        ids += [idx]*len(_sentences)\n",
    "    return sentences, labels, ids"
   ]
  },
  {
   "cell_type": "code",
   "execution_count": 245,
   "metadata": {
    "collapsed": false
   },
   "outputs": [
    {
     "name": "stdout",
     "output_type": "stream",
     "text": [
      "CPU times: user 1min 47s, sys: 888 ms, total: 1min 48s\n",
      "Wall time: 1min 47s\n"
     ]
    }
   ],
   "source": [
    "%%time\n",
    "unlabeled_sentences, _, unlabeled_ids = get_sentnces(train_unlabeled)"
   ]
  },
  {
   "cell_type": "code",
   "execution_count": 246,
   "metadata": {
    "collapsed": false
   },
   "outputs": [
    {
     "name": "stdout",
     "output_type": "stream",
     "text": [
      "(539897, 539897, 539897)\n"
     ]
    }
   ],
   "source": [
    "print(len(unlabeled_ids), len(unlabeled_sentences), len(_))"
   ]
  },
  {
   "cell_type": "code",
   "execution_count": 247,
   "metadata": {
    "collapsed": false
   },
   "outputs": [],
   "source": [
    "import warnings\n",
    "\n",
    "warnings.filterwarnings(\"ignore\")"
   ]
  },
  {
   "cell_type": "code",
   "execution_count": 248,
   "metadata": {
    "collapsed": false
   },
   "outputs": [
    {
     "name": "stdout",
     "output_type": "stream",
     "text": [
      "CPU times: user 54.2 s, sys: 616 ms, total: 54.9 s\n",
      "Wall time: 54.3 s\n"
     ]
    }
   ],
   "source": [
    "%%time\n",
    "labeled_sentences, labeled_labels, labeled_ids = get_sentnces(train_labeled)"
   ]
  },
  {
   "cell_type": "code",
   "execution_count": 249,
   "metadata": {
    "collapsed": true
   },
   "outputs": [],
   "source": [
    "length = [len(x) for x in labeled_sentences]"
   ]
  },
  {
   "cell_type": "code",
   "execution_count": 250,
   "metadata": {
    "collapsed": false
   },
   "outputs": [
    {
     "data": {
      "text/plain": [
       "21.774692175294586"
      ]
     },
     "execution_count": 250,
     "metadata": {},
     "output_type": "execute_result"
    }
   ],
   "source": [
    "np.mean(length)"
   ]
  },
  {
   "cell_type": "code",
   "execution_count": 251,
   "metadata": {
    "collapsed": false
   },
   "outputs": [
    {
     "data": {
      "text/plain": [
       "[<matplotlib.lines.Line2D at 0x7f2b0c767c90>]"
      ]
     },
     "execution_count": 251,
     "metadata": {},
     "output_type": "execute_result"
    },
    {
     "data": {
      "image/png": "[encoded data removed]",
      "text/plain": [
       "<matplotlib.figure.Figure at 0x7f2c1c2f82d0>"
      ]
     },
     "metadata": {},
     "output_type": "display_data"
    }
   ],
   "source": [
    "plt.plot(sorted(length))"
   ]
  },
  {
   "cell_type": "code",
   "execution_count": 252,
   "metadata": {
    "collapsed": false
   },
   "outputs": [
    {
     "data": {
      "text/plain": [
       "18.0"
      ]
     },
     "execution_count": 252,
     "metadata": {},
     "output_type": "execute_result"
    }
   ],
   "source": [
    "np.median(length)"
   ]
  },
  {
   "cell_type": "code",
   "execution_count": 253,
   "metadata": {
    "collapsed": false
   },
   "outputs": [
    {
     "name": "stdout",
     "output_type": "stream",
     "text": [
      "CPU times: user 2min 10s, sys: 1.66 s, total: 2min 11s\n",
      "Wall time: 44.7 s\n"
     ]
    }
   ],
   "source": [
    "%%time\n",
    "\n",
    "from gensim.models.word2vec import Word2Vec\n",
    "\n",
    "model = Word2Vec(unlabeled_sentences + labeled_sentences, size=100, \n",
    "                 window=5, min_count=5, workers=4, max_vocab_size=50000)"
   ]
  },
  {
   "cell_type": "code",
   "execution_count": 254,
   "metadata": {
    "collapsed": false
   },
   "outputs": [
    {
     "data": {
      "text/plain": [
       "[(u'girl', 0.8241639137268066),\n",
       " (u'lady', 0.7883622646331787),\n",
       " (u'man', 0.775084376335144),\n",
       " (u'prostitute', 0.7727598547935486),\n",
       " (u'widow', 0.7150318622589111),\n",
       " (u'nun', 0.7095363736152649),\n",
       " (u'lad', 0.7027652263641357),\n",
       " (u'person', 0.6869978308677673),\n",
       " (u'housewife', 0.6725583076477051),\n",
       " (u'boy', 0.6619994044303894)]"
      ]
     },
     "execution_count": 254,
     "metadata": {},
     "output_type": "execute_result"
    }
   ],
   "source": [
    "model.most_similar('woman')"
   ]
  },
  {
   "cell_type": "code",
   "execution_count": null,
   "metadata": {
    "collapsed": true
   },
   "outputs": [],
   "source": []
  },
  {
   "cell_type": "code",
   "execution_count": null,
   "metadata": {
    "collapsed": true
   },
   "outputs": [],
   "source": []
  },
  {
   "cell_type": "code",
   "execution_count": null,
   "metadata": {
    "collapsed": true
   },
   "outputs": [],
   "source": []
  },
  {
   "cell_type": "code",
   "execution_count": null,
   "metadata": {
    "collapsed": true
   },
   "outputs": [],
   "source": []
  },
  {
   "cell_type": "code",
   "execution_count": null,
   "metadata": {
    "collapsed": true
   },
   "outputs": [],
   "source": []
  },
  {
   "cell_type": "code",
   "execution_count": 20,
   "metadata": {
    "collapsed": false
   },
   "outputs": [
    {
     "data": {
      "text/plain": [
       "(29494, 100)"
      ]
     },
     "execution_count": 20,
     "metadata": {},
     "output_type": "execute_result"
    }
   ],
   "source": [
    "model.syn0.shape"
   ]
  },
  {
   "cell_type": "code",
   "execution_count": 21,
   "metadata": {
    "collapsed": true
   },
   "outputs": [],
   "source": [
    "vocab = dict([(k, v.index) for k, v in model.vocab.items()])"
   ]
  },
  {
   "cell_type": "code",
   "execution_count": 22,
   "metadata": {
    "collapsed": true
   },
   "outputs": [],
   "source": [
    "word_list = []\n",
    "for x in labeled_sentences:\n",
    "    word_list += x"
   ]
  },
  {
   "cell_type": "code",
   "execution_count": 23,
   "metadata": {
    "collapsed": false
   },
   "outputs": [
    {
     "name": "stdout",
     "output_type": "stream",
     "text": [
      "CPU times: user 9 µs, sys: 1 µs, total: 10 µs\n",
      "Wall time: 39.8 µs\n"
     ]
    }
   ],
   "source": [
    "%%time\n",
    "\n",
    "def word2index(word):\n",
    "    try:\n",
    "        return vocab[word]\n",
    "    except:\n",
    "        return None\n",
    "index = map(word2index, word_list)"
   ]
  },
  {
   "cell_type": "code",
   "execution_count": 24,
   "metadata": {
    "collapsed": false
   },
   "outputs": [
    {
     "data": {
      "text/plain": [
       "<map at 0x187fefba8>"
      ]
     },
     "execution_count": 24,
     "metadata": {},
     "output_type": "execute_result"
    }
   ],
   "source": [
    "index"
   ]
  },
  {
   "cell_type": "code",
   "execution_count": null,
   "metadata": {
    "collapsed": true
   },
   "outputs": [],
   "source": []
  },
  {
   "cell_type": "code",
   "execution_count": null,
   "metadata": {
    "collapsed": true
   },
   "outputs": [],
   "source": []
  },
  {
   "cell_type": "code",
   "execution_count": null,
   "metadata": {
    "collapsed": true
   },
   "outputs": [],
   "source": []
  },
  {
   "cell_type": "code",
   "execution_count": 147,
   "metadata": {
    "collapsed": true
   },
   "outputs": [],
   "source": [
    "weights = model.syn0\n",
    "np.save(open(\"embbeding.npy\", 'wb'), weights)"
   ]
  },
  {
   "cell_type": "code",
   "execution_count": 146,
   "metadata": {
    "collapsed": false
   },
   "outputs": [
    {
     "name": "stderr",
     "output_type": "stream",
     "text": [
      "Using TensorFlow backend.\n"
     ]
    }
   ],
   "source": [
    "from keras.layers import Embedding, Input\n",
    "\n",
    "def w2v_embedding_layer(embeddings_path):\n",
    "    weights = np.load(open(embeddings_path, 'rb'))\n",
    "    layer = Embedding(input_dim=weights.shape[0], \n",
    "                      output_dim=weights.shape[1], \n",
    "                      weights=[weights])\n",
    "    return layer"
   ]
  },
  {
   "cell_type": "code",
   "execution_count": 175,
   "metadata": {
    "collapsed": false
   },
   "outputs": [],
   "source": [
    "import tensorflow as tf\n",
    "from keras.preprocessing.sequence import pad_sequences\n",
    "from keras.layers.convolutional import Convolution2D\n",
    "from keras.layers.pooling import MaxPooling2D \n",
    "from keras.layers.core import Flatten, Lambda\n",
    "from keras.models import Sequential\n",
    "from keras.layers import BatchNormalization\n",
    "from keras.layers import Activation\n",
    "from keras.layers.core import Dense\n",
    "from keras.layers.advanced_activations import PReLU\n",
    "from keras.layers import SpatialDropout2D\n",
    "from keras.layers import Dropout, Reshape\n",
    "from keras.layers import Embedding\n",
    "from keras.optimizers import Adam\n",
    "from keras import backend as K\n",
    "import numpy as np\n",
    "import pandas as pd\n",
    "import time\n",
    "from gensim.models.word2vec import Word2Vec\n",
    "\n",
    "class CNN(object):\n",
    "    def __init__(self, conf, sentences):\n",
    "        self.model_config = conf.model_config\n",
    "        self.n_emb = conf.n_emb\n",
    "        self.min_word_count = conf.min_word_count\n",
    "        self.n_context = conf.n_context\n",
    "        self.n_workers = 4\n",
    "        self.algo = conf.algo\n",
    "        self.n_epoch = conf.n_epoch\n",
    "        self.batch_size = conf.batch_size\n",
    "        self.maxlen = conf.maxlen\n",
    "        self.learning_rate = conf.learning_rate\n",
    "        \n",
    "        print(\"build word2vec ...\")\n",
    "        self.word2vec = Word2Vec(sentences, workers=self.n_workers, \n",
    "            size=self.n_emb, min_count = self.min_word_count, \n",
    "            window = self.n_context, sg=self.algo)\n",
    "        print(\"finished!\")\n",
    "        \n",
    "        self.vocab = dict([(k, v.index) for k, v in self.word2vec.vocab.items()])\n",
    "        self.n_vocab = len(self.vocab)\n",
    "        index = self.word2indexes(sentences)\n",
    "        \n",
    "        # avoid creating _LEARNING_PHASE outside the network\n",
    "        tf.reset_default_graph()\n",
    "        K.clear_session()\n",
    "        self.sess = tf.Session()\n",
    "        print(\"buiild model ...\")\n",
    "        self.build_model()\n",
    "        print(\"finished\")\n",
    "        \n",
    "    def train(self, input_data, target_data):\n",
    "        print(\"start training\")\n",
    "        index_data = self.word2indexes(input_data)\n",
    "        self.model.fit(index_data, target_data, nb_epoch=self.n_epoch, batch_size=self.batch_size)\n",
    "        print(\"finished\")\n",
    "        \n",
    "    def predict(self, input_data):\n",
    "        index_data = self.word2index(input_data)\n",
    "        return self.model.predict(index_data)\n",
    "    \n",
    "    def word2index(self, sentence):\n",
    "        def w2i(x):\n",
    "            try:\n",
    "                return self.vocab[x]\n",
    "            except:\n",
    "                return None\n",
    "        index = map(w2i, sentence)\n",
    "        index = filter(lambda x: x is not None, index)\n",
    "        return list(index)\n",
    "    \n",
    "    def word2indexes(self, sentences):\n",
    "        index = map(self.word2index, sentences)\n",
    "        return pad_sequences(list(index), maxlen=self.maxlen)\n",
    "    \n",
    "    def build_model(self):\n",
    "        self.input = tf.placeholder(tf.int32, [None, self.maxlen], name=\"input\")\n",
    "        model = Sequential()\n",
    "        model.add(Embedding(input_dim=self.n_vocab, output_dim=self.n_emb, \n",
    "                            input_length=self.maxlen, name=\"embedding\", weights=[self.word2vec.syn0]))\n",
    "        model.add(Reshape([self.maxlen, self.n_emb, 1]))\n",
    "        self.model = self.build_network(self.model_config, model=model)\n",
    "        \n",
    "        self.output = self.model(self.input)\n",
    "        opt = Adam(lr=self.learning_rate)\n",
    "        self.model.compile(loss='binary_crossentropy',\n",
    "              optimizer=opt,\n",
    "              metrics=['acc'])\n",
    "    \n",
    "    def build_network(self, conf, model=None, input_shape=None, is_conv=True):\n",
    "        \"\"\"Build network\"\"\"\n",
    "        _model = model\n",
    "        model = Sequential()\n",
    "        if _model is None:\n",
    "            model.add(Lambda(lambda x: x,  input_shape=input_shape))\n",
    "        else:\n",
    "            model.add(_model)\n",
    "            \n",
    "        for x in conf:\n",
    "            if x['is_drop']:\n",
    "                model.add(Dropout(x['drop_rate']))\n",
    "                \n",
    "            if x['type'] is 'full':\n",
    "                if is_conv:\n",
    "                    model.add(Flatten())\n",
    "                    is_conv = False\n",
    "                model.add(Dense(x['n_feature']))\n",
    "            elif x['type'] is 'conv':\n",
    "                model.add(Convolution2D(nb_filter=x['n_feature'], \n",
    "                                        nb_row=x['kw'], \n",
    "                                        nb_col=1, \n",
    "                                        border_mode='same'))  \n",
    "                is_conv=True\n",
    "                \n",
    "            if x['is_batch']:\n",
    "                if x['type'] is 'full':\n",
    "                    model.add(BatchNormalization(mode=1, axis=-1))\n",
    "                if x['type'] is 'conv':\n",
    "                    model.add(BatchNormalization(mode=2, axis=-1))\n",
    "            \n",
    "            if x['activation'] is None:\n",
    "                pass\n",
    "            if x['activation'] is 'prelu':\n",
    "                model.add(PReLU())\n",
    "            else:\n",
    "                model.add(Activation(x['activation']))\n",
    "            \n",
    "            if type(x['n_pool']) is int:\n",
    "                model.add(MaxPooling2D(pool_size=(x['n_pool'], 1), border_mode='same'))\n",
    "        return model"
   ]
  },
  {
   "cell_type": "code",
   "execution_count": 188,
   "metadata": {
    "collapsed": false
   },
   "outputs": [],
   "source": [
    "class Config(object):\n",
    "    device = '/gpu:0'\n",
    "    save_path = '/home/tomoaki/work/github/jjakimoto.github.io/content'\n",
    "    is_load = False\n",
    "    n_batch = 32\n",
    "    n_epoch = 10\n",
    "    learning_rate = 1e-4\n",
    "    n_emb = 100\n",
    "    min_word_count = 5\n",
    "    n_context = 10\n",
    "    n_worker = 4\n",
    "    algo = 1\n",
    "    batch_size = 256\n",
    "    maxlen = 20\n",
    "    \n",
    "    model_config = [{'type':'conv', 'n_feature': 32, 'kw': 5,\n",
    "                    'activation': 'prelu', 'is_batch': True, 'is_drop': False,\n",
    "                    'n_pool': None},\n",
    "                    {'type':'conv', 'n_feature': 64, 'kw': 5,\n",
    "                    'activation': 'prelu', 'is_batch': True, 'is_drop': False,\n",
    "                    'n_pool': 2},\n",
    "                    {'type':'conv', 'n_feature': 64, 'kw': 5,\n",
    "                     'activation': 'prelu', 'is_batch': True, 'is_drop': False,\n",
    "                    'n_pool': 2},\n",
    "                    {'type':'full', 'n_feature': 32, 'kw': 4,\n",
    "                    'activation': 'prelu', 'is_batch': True, 'is_drop': False,\n",
    "                    'n_pool': None},\n",
    "                    {'type':'full', 'n_feature': 1, 'kw': 4,\n",
    "                     'activation': 'sigmoid', 'is_batch': False, 'is_drop': False,\n",
    "                    'n_pool': None}]"
   ]
  },
  {
   "cell_type": "code",
   "execution_count": 189,
   "metadata": {
    "collapsed": false
   },
   "outputs": [
    {
     "name": "stdout",
     "output_type": "stream",
     "text": [
      "build word2vec ...\n",
      "finished!\n",
      "buiild model ...\n",
      "finished\n",
      "start training\n",
      "Epoch 1/10\n",
      "271908/271908 [==============================] - 249s - loss: 0.6145 - acc: 0.6544   \n",
      "Epoch 2/10\n",
      "271908/271908 [==============================] - 249s - loss: 0.5692 - acc: 0.6984   \n",
      "Epoch 3/10\n",
      "271908/271908 [==============================] - 253s - loss: 0.5451 - acc: 0.7179   \n",
      "Epoch 4/10\n",
      "271908/271908 [==============================] - 249s - loss: 0.5216 - acc: 0.7353   \n",
      "Epoch 5/10\n",
      "271908/271908 [==============================] - 251s - loss: 0.4956 - acc: 0.7553   \n",
      "Epoch 6/10\n",
      "271908/271908 [==============================] - 251s - loss: 0.4663 - acc: 0.7751   \n",
      "Epoch 7/10\n",
      "271908/271908 [==============================] - 251s - loss: 0.4335 - acc: 0.7957   \n",
      "Epoch 8/10\n",
      "113408/271908 [===========>..................] - ETA: 145s - loss: 0.3923 - acc: 0.8202"
     ]
    },
    {
     "ename": "KeyboardInterrupt",
     "evalue": "",
     "output_type": "error",
     "traceback": [
      "\u001b[1;31m---------------------------------------------------------------------------\u001b[0m",
      "\u001b[1;31mKeyboardInterrupt\u001b[0m                         Traceback (most recent call last)",
      "\u001b[1;32m<ipython-input-189-3718071fec2c>\u001b[0m in \u001b[0;36m<module>\u001b[1;34m()\u001b[0m\n\u001b[0;32m      2\u001b[0m \u001b[1;31m# cnn = CNN(conf, labeled_sentences + unlabeled_sentences)\u001b[0m\u001b[1;33m\u001b[0m\u001b[1;33m\u001b[0m\u001b[0m\n\u001b[0;32m      3\u001b[0m \u001b[0mcnn\u001b[0m \u001b[1;33m=\u001b[0m \u001b[0mCNN\u001b[0m\u001b[1;33m(\u001b[0m\u001b[0mconf\u001b[0m\u001b[1;33m,\u001b[0m \u001b[0mlabeled_sentences\u001b[0m\u001b[1;33m)\u001b[0m\u001b[1;33m\u001b[0m\u001b[0m\n\u001b[1;32m----> 4\u001b[1;33m \u001b[0mcnn\u001b[0m\u001b[1;33m.\u001b[0m\u001b[0mtrain\u001b[0m\u001b[1;33m(\u001b[0m\u001b[0mlabeled_sentences\u001b[0m\u001b[1;33m,\u001b[0m \u001b[0mlabeled_labels\u001b[0m\u001b[1;33m)\u001b[0m\u001b[1;33m\u001b[0m\u001b[0m\n\u001b[0m",
      "\u001b[1;32m<ipython-input-175-d03ba3ee1884>\u001b[0m in \u001b[0;36mtrain\u001b[1;34m(self, input_data, target_data)\u001b[0m\n\u001b[0;32m     53\u001b[0m         \u001b[1;32mprint\u001b[0m\u001b[1;33m(\u001b[0m\u001b[1;34m\"start training\"\u001b[0m\u001b[1;33m)\u001b[0m\u001b[1;33m\u001b[0m\u001b[0m\n\u001b[0;32m     54\u001b[0m         \u001b[0mindex_data\u001b[0m \u001b[1;33m=\u001b[0m \u001b[0mself\u001b[0m\u001b[1;33m.\u001b[0m\u001b[0mword2indexes\u001b[0m\u001b[1;33m(\u001b[0m\u001b[0minput_data\u001b[0m\u001b[1;33m)\u001b[0m\u001b[1;33m\u001b[0m\u001b[0m\n\u001b[1;32m---> 55\u001b[1;33m         \u001b[0mself\u001b[0m\u001b[1;33m.\u001b[0m\u001b[0mmodel\u001b[0m\u001b[1;33m.\u001b[0m\u001b[0mfit\u001b[0m\u001b[1;33m(\u001b[0m\u001b[0mindex_data\u001b[0m\u001b[1;33m,\u001b[0m \u001b[0mtarget_data\u001b[0m\u001b[1;33m,\u001b[0m \u001b[0mnb_epoch\u001b[0m\u001b[1;33m=\u001b[0m\u001b[0mself\u001b[0m\u001b[1;33m.\u001b[0m\u001b[0mn_epoch\u001b[0m\u001b[1;33m,\u001b[0m \u001b[0mbatch_size\u001b[0m\u001b[1;33m=\u001b[0m\u001b[0mself\u001b[0m\u001b[1;33m.\u001b[0m\u001b[0mbatch_size\u001b[0m\u001b[1;33m)\u001b[0m\u001b[1;33m\u001b[0m\u001b[0m\n\u001b[0m\u001b[0;32m     56\u001b[0m         \u001b[1;32mprint\u001b[0m\u001b[1;33m(\u001b[0m\u001b[1;34m\"finished\"\u001b[0m\u001b[1;33m)\u001b[0m\u001b[1;33m\u001b[0m\u001b[0m\n\u001b[0;32m     57\u001b[0m \u001b[1;33m\u001b[0m\u001b[0m\n",
      "\u001b[1;32m/home/tomoaki/anaconda2/lib/python2.7/site-packages/keras/models.pyc\u001b[0m in \u001b[0;36mfit\u001b[1;34m(self, x, y, batch_size, nb_epoch, verbose, callbacks, validation_split, validation_data, shuffle, class_weight, sample_weight, **kwargs)\u001b[0m\n\u001b[0;32m    619\u001b[0m                               \u001b[0mshuffle\u001b[0m\u001b[1;33m=\u001b[0m\u001b[0mshuffle\u001b[0m\u001b[1;33m,\u001b[0m\u001b[1;33m\u001b[0m\u001b[0m\n\u001b[0;32m    620\u001b[0m                               \u001b[0mclass_weight\u001b[0m\u001b[1;33m=\u001b[0m\u001b[0mclass_weight\u001b[0m\u001b[1;33m,\u001b[0m\u001b[1;33m\u001b[0m\u001b[0m\n\u001b[1;32m--> 621\u001b[1;33m                               sample_weight=sample_weight)\n\u001b[0m\u001b[0;32m    622\u001b[0m \u001b[1;33m\u001b[0m\u001b[0m\n\u001b[0;32m    623\u001b[0m     def evaluate(self, x, y, batch_size=32, verbose=1,\n",
      "\u001b[1;32m/home/tomoaki/anaconda2/lib/python2.7/site-packages/keras/engine/training.pyc\u001b[0m in \u001b[0;36mfit\u001b[1;34m(self, x, y, batch_size, nb_epoch, verbose, callbacks, validation_split, validation_data, shuffle, class_weight, sample_weight)\u001b[0m\n\u001b[0;32m   1117\u001b[0m                               \u001b[0mverbose\u001b[0m\u001b[1;33m=\u001b[0m\u001b[0mverbose\u001b[0m\u001b[1;33m,\u001b[0m \u001b[0mcallbacks\u001b[0m\u001b[1;33m=\u001b[0m\u001b[0mcallbacks\u001b[0m\u001b[1;33m,\u001b[0m\u001b[1;33m\u001b[0m\u001b[0m\n\u001b[0;32m   1118\u001b[0m                               \u001b[0mval_f\u001b[0m\u001b[1;33m=\u001b[0m\u001b[0mval_f\u001b[0m\u001b[1;33m,\u001b[0m \u001b[0mval_ins\u001b[0m\u001b[1;33m=\u001b[0m\u001b[0mval_ins\u001b[0m\u001b[1;33m,\u001b[0m \u001b[0mshuffle\u001b[0m\u001b[1;33m=\u001b[0m\u001b[0mshuffle\u001b[0m\u001b[1;33m,\u001b[0m\u001b[1;33m\u001b[0m\u001b[0m\n\u001b[1;32m-> 1119\u001b[1;33m                               callback_metrics=callback_metrics)\n\u001b[0m\u001b[0;32m   1120\u001b[0m \u001b[1;33m\u001b[0m\u001b[0m\n\u001b[0;32m   1121\u001b[0m     \u001b[1;32mdef\u001b[0m \u001b[0mevaluate\u001b[0m\u001b[1;33m(\u001b[0m\u001b[0mself\u001b[0m\u001b[1;33m,\u001b[0m \u001b[0mx\u001b[0m\u001b[1;33m,\u001b[0m \u001b[0my\u001b[0m\u001b[1;33m,\u001b[0m \u001b[0mbatch_size\u001b[0m\u001b[1;33m=\u001b[0m\u001b[1;36m32\u001b[0m\u001b[1;33m,\u001b[0m \u001b[0mverbose\u001b[0m\u001b[1;33m=\u001b[0m\u001b[1;36m1\u001b[0m\u001b[1;33m,\u001b[0m \u001b[0msample_weight\u001b[0m\u001b[1;33m=\u001b[0m\u001b[0mNone\u001b[0m\u001b[1;33m)\u001b[0m\u001b[1;33m:\u001b[0m\u001b[1;33m\u001b[0m\u001b[0m\n",
      "\u001b[1;32m/home/tomoaki/anaconda2/lib/python2.7/site-packages/keras/engine/training.pyc\u001b[0m in \u001b[0;36m_fit_loop\u001b[1;34m(self, f, ins, out_labels, batch_size, nb_epoch, verbose, callbacks, val_f, val_ins, shuffle, callback_metrics)\u001b[0m\n\u001b[0;32m    835\u001b[0m                 \u001b[0mbatch_logs\u001b[0m\u001b[1;33m[\u001b[0m\u001b[1;34m'size'\u001b[0m\u001b[1;33m]\u001b[0m \u001b[1;33m=\u001b[0m \u001b[0mlen\u001b[0m\u001b[1;33m(\u001b[0m\u001b[0mbatch_ids\u001b[0m\u001b[1;33m)\u001b[0m\u001b[1;33m\u001b[0m\u001b[0m\n\u001b[0;32m    836\u001b[0m                 \u001b[0mcallbacks\u001b[0m\u001b[1;33m.\u001b[0m\u001b[0mon_batch_begin\u001b[0m\u001b[1;33m(\u001b[0m\u001b[0mbatch_index\u001b[0m\u001b[1;33m,\u001b[0m \u001b[0mbatch_logs\u001b[0m\u001b[1;33m)\u001b[0m\u001b[1;33m\u001b[0m\u001b[0m\n\u001b[1;32m--> 837\u001b[1;33m                 \u001b[0mouts\u001b[0m \u001b[1;33m=\u001b[0m \u001b[0mf\u001b[0m\u001b[1;33m(\u001b[0m\u001b[0mins_batch\u001b[0m\u001b[1;33m)\u001b[0m\u001b[1;33m\u001b[0m\u001b[0m\n\u001b[0m\u001b[0;32m    838\u001b[0m                 \u001b[1;32mif\u001b[0m \u001b[0mtype\u001b[0m\u001b[1;33m(\u001b[0m\u001b[0mouts\u001b[0m\u001b[1;33m)\u001b[0m \u001b[1;33m!=\u001b[0m \u001b[0mlist\u001b[0m\u001b[1;33m:\u001b[0m\u001b[1;33m\u001b[0m\u001b[0m\n\u001b[0;32m    839\u001b[0m                     \u001b[0mouts\u001b[0m \u001b[1;33m=\u001b[0m \u001b[1;33m[\u001b[0m\u001b[0mouts\u001b[0m\u001b[1;33m]\u001b[0m\u001b[1;33m\u001b[0m\u001b[0m\n",
      "\u001b[1;32m/home/tomoaki/anaconda2/lib/python2.7/site-packages/keras/backend/tensorflow_backend.pyc\u001b[0m in \u001b[0;36m__call__\u001b[1;34m(self, inputs)\u001b[0m\n\u001b[0;32m   1038\u001b[0m             \u001b[0mfeed_dict\u001b[0m\u001b[1;33m[\u001b[0m\u001b[0mtensor\u001b[0m\u001b[1;33m]\u001b[0m \u001b[1;33m=\u001b[0m \u001b[0mvalue\u001b[0m\u001b[1;33m\u001b[0m\u001b[0m\n\u001b[0;32m   1039\u001b[0m         \u001b[0msession\u001b[0m \u001b[1;33m=\u001b[0m \u001b[0mget_session\u001b[0m\u001b[1;33m(\u001b[0m\u001b[1;33m)\u001b[0m\u001b[1;33m\u001b[0m\u001b[0m\n\u001b[1;32m-> 1040\u001b[1;33m         \u001b[0mupdated\u001b[0m \u001b[1;33m=\u001b[0m \u001b[0msession\u001b[0m\u001b[1;33m.\u001b[0m\u001b[0mrun\u001b[0m\u001b[1;33m(\u001b[0m\u001b[0mself\u001b[0m\u001b[1;33m.\u001b[0m\u001b[0moutputs\u001b[0m \u001b[1;33m+\u001b[0m \u001b[1;33m[\u001b[0m\u001b[0mself\u001b[0m\u001b[1;33m.\u001b[0m\u001b[0mupdates_op\u001b[0m\u001b[1;33m]\u001b[0m\u001b[1;33m,\u001b[0m \u001b[0mfeed_dict\u001b[0m\u001b[1;33m=\u001b[0m\u001b[0mfeed_dict\u001b[0m\u001b[1;33m)\u001b[0m\u001b[1;33m\u001b[0m\u001b[0m\n\u001b[0m\u001b[0;32m   1041\u001b[0m         \u001b[1;32mreturn\u001b[0m \u001b[0mupdated\u001b[0m\u001b[1;33m[\u001b[0m\u001b[1;33m:\u001b[0m\u001b[0mlen\u001b[0m\u001b[1;33m(\u001b[0m\u001b[0mself\u001b[0m\u001b[1;33m.\u001b[0m\u001b[0moutputs\u001b[0m\u001b[1;33m)\u001b[0m\u001b[1;33m]\u001b[0m\u001b[1;33m\u001b[0m\u001b[0m\n\u001b[0;32m   1042\u001b[0m \u001b[1;33m\u001b[0m\u001b[0m\n",
      "\u001b[1;32m/home/tomoaki/anaconda2/lib/python2.7/site-packages/tensorflow/python/client/session.pyc\u001b[0m in \u001b[0;36mrun\u001b[1;34m(self, fetches, feed_dict, options, run_metadata)\u001b[0m\n\u001b[0;32m    764\u001b[0m     \u001b[1;32mtry\u001b[0m\u001b[1;33m:\u001b[0m\u001b[1;33m\u001b[0m\u001b[0m\n\u001b[0;32m    765\u001b[0m       result = self._run(None, fetches, feed_dict, options_ptr,\n\u001b[1;32m--> 766\u001b[1;33m                          run_metadata_ptr)\n\u001b[0m\u001b[0;32m    767\u001b[0m       \u001b[1;32mif\u001b[0m \u001b[0mrun_metadata\u001b[0m\u001b[1;33m:\u001b[0m\u001b[1;33m\u001b[0m\u001b[0m\n\u001b[0;32m    768\u001b[0m         \u001b[0mproto_data\u001b[0m \u001b[1;33m=\u001b[0m \u001b[0mtf_session\u001b[0m\u001b[1;33m.\u001b[0m\u001b[0mTF_GetBuffer\u001b[0m\u001b[1;33m(\u001b[0m\u001b[0mrun_metadata_ptr\u001b[0m\u001b[1;33m)\u001b[0m\u001b[1;33m\u001b[0m\u001b[0m\n",
      "\u001b[1;32m/home/tomoaki/anaconda2/lib/python2.7/site-packages/tensorflow/python/client/session.pyc\u001b[0m in \u001b[0;36m_run\u001b[1;34m(self, handle, fetches, feed_dict, options, run_metadata)\u001b[0m\n\u001b[0;32m    962\u001b[0m     \u001b[1;32mif\u001b[0m \u001b[0mfinal_fetches\u001b[0m \u001b[1;32mor\u001b[0m \u001b[0mfinal_targets\u001b[0m\u001b[1;33m:\u001b[0m\u001b[1;33m\u001b[0m\u001b[0m\n\u001b[0;32m    963\u001b[0m       results = self._do_run(handle, final_targets, final_fetches,\n\u001b[1;32m--> 964\u001b[1;33m                              feed_dict_string, options, run_metadata)\n\u001b[0m\u001b[0;32m    965\u001b[0m     \u001b[1;32melse\u001b[0m\u001b[1;33m:\u001b[0m\u001b[1;33m\u001b[0m\u001b[0m\n\u001b[0;32m    966\u001b[0m       \u001b[0mresults\u001b[0m \u001b[1;33m=\u001b[0m \u001b[1;33m[\u001b[0m\u001b[1;33m]\u001b[0m\u001b[1;33m\u001b[0m\u001b[0m\n",
      "\u001b[1;32m/home/tomoaki/anaconda2/lib/python2.7/site-packages/tensorflow/python/client/session.pyc\u001b[0m in \u001b[0;36m_do_run\u001b[1;34m(self, handle, target_list, fetch_list, feed_dict, options, run_metadata)\u001b[0m\n\u001b[0;32m   1012\u001b[0m     \u001b[1;32mif\u001b[0m \u001b[0mhandle\u001b[0m \u001b[1;32mis\u001b[0m \u001b[0mNone\u001b[0m\u001b[1;33m:\u001b[0m\u001b[1;33m\u001b[0m\u001b[0m\n\u001b[0;32m   1013\u001b[0m       return self._do_call(_run_fn, self._session, feed_dict, fetch_list,\n\u001b[1;32m-> 1014\u001b[1;33m                            target_list, options, run_metadata)\n\u001b[0m\u001b[0;32m   1015\u001b[0m     \u001b[1;32melse\u001b[0m\u001b[1;33m:\u001b[0m\u001b[1;33m\u001b[0m\u001b[0m\n\u001b[0;32m   1016\u001b[0m       return self._do_call(_prun_fn, self._session, handle, feed_dict,\n",
      "\u001b[1;32m/home/tomoaki/anaconda2/lib/python2.7/site-packages/tensorflow/python/client/session.pyc\u001b[0m in \u001b[0;36m_do_call\u001b[1;34m(self, fn, *args)\u001b[0m\n\u001b[0;32m   1019\u001b[0m   \u001b[1;32mdef\u001b[0m \u001b[0m_do_call\u001b[0m\u001b[1;33m(\u001b[0m\u001b[0mself\u001b[0m\u001b[1;33m,\u001b[0m \u001b[0mfn\u001b[0m\u001b[1;33m,\u001b[0m \u001b[1;33m*\u001b[0m\u001b[0margs\u001b[0m\u001b[1;33m)\u001b[0m\u001b[1;33m:\u001b[0m\u001b[1;33m\u001b[0m\u001b[0m\n\u001b[0;32m   1020\u001b[0m     \u001b[1;32mtry\u001b[0m\u001b[1;33m:\u001b[0m\u001b[1;33m\u001b[0m\u001b[0m\n\u001b[1;32m-> 1021\u001b[1;33m       \u001b[1;32mreturn\u001b[0m \u001b[0mfn\u001b[0m\u001b[1;33m(\u001b[0m\u001b[1;33m*\u001b[0m\u001b[0margs\u001b[0m\u001b[1;33m)\u001b[0m\u001b[1;33m\u001b[0m\u001b[0m\n\u001b[0m\u001b[0;32m   1022\u001b[0m     \u001b[1;32mexcept\u001b[0m \u001b[0merrors\u001b[0m\u001b[1;33m.\u001b[0m\u001b[0mOpError\u001b[0m \u001b[1;32mas\u001b[0m \u001b[0me\u001b[0m\u001b[1;33m:\u001b[0m\u001b[1;33m\u001b[0m\u001b[0m\n\u001b[0;32m   1023\u001b[0m       \u001b[0mmessage\u001b[0m \u001b[1;33m=\u001b[0m \u001b[0mcompat\u001b[0m\u001b[1;33m.\u001b[0m\u001b[0mas_text\u001b[0m\u001b[1;33m(\u001b[0m\u001b[0me\u001b[0m\u001b[1;33m.\u001b[0m\u001b[0mmessage\u001b[0m\u001b[1;33m)\u001b[0m\u001b[1;33m\u001b[0m\u001b[0m\n",
      "\u001b[1;32m/home/tomoaki/anaconda2/lib/python2.7/site-packages/tensorflow/python/client/session.pyc\u001b[0m in \u001b[0;36m_run_fn\u001b[1;34m(session, feed_dict, fetch_list, target_list, options, run_metadata)\u001b[0m\n\u001b[0;32m   1001\u001b[0m         return tf_session.TF_Run(session, options,\n\u001b[0;32m   1002\u001b[0m                                  \u001b[0mfeed_dict\u001b[0m\u001b[1;33m,\u001b[0m \u001b[0mfetch_list\u001b[0m\u001b[1;33m,\u001b[0m \u001b[0mtarget_list\u001b[0m\u001b[1;33m,\u001b[0m\u001b[1;33m\u001b[0m\u001b[0m\n\u001b[1;32m-> 1003\u001b[1;33m                                  status, run_metadata)\n\u001b[0m\u001b[0;32m   1004\u001b[0m \u001b[1;33m\u001b[0m\u001b[0m\n\u001b[0;32m   1005\u001b[0m     \u001b[1;32mdef\u001b[0m \u001b[0m_prun_fn\u001b[0m\u001b[1;33m(\u001b[0m\u001b[0msession\u001b[0m\u001b[1;33m,\u001b[0m \u001b[0mhandle\u001b[0m\u001b[1;33m,\u001b[0m \u001b[0mfeed_dict\u001b[0m\u001b[1;33m,\u001b[0m \u001b[0mfetch_list\u001b[0m\u001b[1;33m)\u001b[0m\u001b[1;33m:\u001b[0m\u001b[1;33m\u001b[0m\u001b[0m\n",
      "\u001b[1;31mKeyboardInterrupt\u001b[0m: "
     ]
    }
   ],
   "source": [
    "conf = Config()\n",
    "# cnn = CNN(conf, labeled_sentences + unlabeled_sentences)\n",
    "cnn = CNN(conf, labeled_sentences)\n",
    "cnn.train(labeled_sentences, labeled_labels)"
   ]
  },
  {
   "cell_type": "code",
   "execution_count": 83,
   "metadata": {
    "collapsed": false
   },
   "outputs": [
    {
     "data": {
      "text/plain": [
       "0"
      ]
     },
     "execution_count": 83,
     "metadata": {},
     "output_type": "execute_result"
    }
   ],
   "source": [
    "word\n"
   ]
  },
  {
   "cell_type": "code",
   "execution_count": 2,
   "metadata": {
    "collapsed": false
   },
   "outputs": [
    {
     "data": {
      "text/plain": [
       "['',\n",
       " '/Users/admin/pokemon/PokemonGo-Bot/src/pgoapi',\n",
       " '/Users/admin/anaconda/lib/python35.zip',\n",
       " '/Users/admin/anaconda/lib/python3.5',\n",
       " '/Users/admin/anaconda/lib/python3.5/plat-darwin',\n",
       " '/Users/admin/anaconda/lib/python3.5/lib-dynload',\n",
       " '/Users/admin/anaconda/lib/python3.5/site-packages',\n",
       " '/Users/admin/anaconda/lib/python3.5/site-packages/Sphinx-1.3.5-py3.5.egg',\n",
       " '/Users/admin/anaconda/lib/python3.5/site-packages/aeosa',\n",
       " '/Users/admin/anaconda/lib/python3.5/site-packages/IPython/extensions',\n",
       " '/Users/admin/.ipython']"
      ]
     },
     "execution_count": 2,
     "metadata": {},
     "output_type": "execute_result"
    }
   ],
   "source": [
    "sys.path"
   ]
  },
  {
   "cell_type": "code",
   "execution_count": 3,
   "metadata": {
    "collapsed": false
   },
   "outputs": [
    {
     "name": "stdout",
     "output_type": "stream",
     "text": [
      "/Users/admin/anaconda/bin/python\r\n"
     ]
    }
   ],
   "source": [
    "!which python\n"
   ]
  },
  {
   "cell_type": "code",
   "execution_count": 4,
   "metadata": {
    "collapsed": false
   },
   "outputs": [
    {
     "ename": "KeyError",
     "evalue": "'PYTHONPATH'",
     "output_type": "error",
     "traceback": [
      "\u001b[0;31m---------------------------------------------------------------------------\u001b[0m",
      "\u001b[0;31mKeyError\u001b[0m                                  Traceback (most recent call last)",
      "\u001b[0;32m<ipython-input-4-f357497d4da7>\u001b[0m in \u001b[0;36m<module>\u001b[0;34m()\u001b[0m\n\u001b[1;32m      1\u001b[0m \u001b[0;32mimport\u001b[0m \u001b[0mos\u001b[0m\u001b[0;34m\u001b[0m\u001b[0m\n\u001b[0;32m----> 2\u001b[0;31m \u001b[0mos\u001b[0m\u001b[0;34m.\u001b[0m\u001b[0menviron\u001b[0m\u001b[0;34m[\u001b[0m\u001b[0;34m'PYTHONPATH'\u001b[0m\u001b[0;34m]\u001b[0m\u001b[0;34m.\u001b[0m\u001b[0msplit\u001b[0m\u001b[0;34m(\u001b[0m\u001b[0mos\u001b[0m\u001b[0;34m.\u001b[0m\u001b[0mpathsep\u001b[0m\u001b[0;34m)\u001b[0m\u001b[0;34m\u001b[0m\u001b[0m\n\u001b[0m",
      "\u001b[0;32m/Users/admin/anaconda/lib/python3.5/os.py\u001b[0m in \u001b[0;36m__getitem__\u001b[0;34m(self, key)\u001b[0m\n\u001b[1;32m    681\u001b[0m         \u001b[0;32mexcept\u001b[0m \u001b[0mKeyError\u001b[0m\u001b[0;34m:\u001b[0m\u001b[0;34m\u001b[0m\u001b[0m\n\u001b[1;32m    682\u001b[0m             \u001b[0;31m# raise KeyError with the original key value\u001b[0m\u001b[0;34m\u001b[0m\u001b[0;34m\u001b[0m\u001b[0m\n\u001b[0;32m--> 683\u001b[0;31m             \u001b[0;32mraise\u001b[0m \u001b[0mKeyError\u001b[0m\u001b[0;34m(\u001b[0m\u001b[0mkey\u001b[0m\u001b[0;34m)\u001b[0m \u001b[0;32mfrom\u001b[0m \u001b[0;32mNone\u001b[0m\u001b[0;34m\u001b[0m\u001b[0m\n\u001b[0m\u001b[1;32m    684\u001b[0m         \u001b[0;32mreturn\u001b[0m \u001b[0mself\u001b[0m\u001b[0;34m.\u001b[0m\u001b[0mdecodevalue\u001b[0m\u001b[0;34m(\u001b[0m\u001b[0mvalue\u001b[0m\u001b[0;34m)\u001b[0m\u001b[0;34m\u001b[0m\u001b[0m\n\u001b[1;32m    685\u001b[0m \u001b[0;34m\u001b[0m\u001b[0m\n",
      "\u001b[0;31mKeyError\u001b[0m: 'PYTHONPATH'"
     ]
    }
   ],
   "source": [
    "import os\n",
    "os.environ['PYTHONPATH'].split(os.pathsep)"
   ]
  },
  {
   "cell_type": "code",
   "execution_count": 69,
   "metadata": {
    "collapsed": false
   },
   "outputs": [
    {
     "name": "stdout",
     "output_type": "stream",
     "text": [
      "[[1, 2, 3, 4], [2, 4, 5, 6]]\n"
     ]
    }
   ],
   "source": [
    "\n",
    "\n",
    "def f(x):\n",
    "    if x == 2:\n",
    "        return None\n",
    "    else:\n",
    "        return x\n",
    "\n",
    "index = map(f, [[1, 2, 3, 4], [2, 4, 5, 6]])\n",
    "print(list(index))"
   ]
  },
  {
   "cell_type": "code",
   "execution_count": null,
   "metadata": {
    "collapsed": true
   },
   "outputs": [],
   "source": []
  },
  {
   "cell_type": "code",
   "execution_count": 66,
   "metadata": {
    "collapsed": false
   },
   "outputs": [],
   "source": [
    "y = filter(lambda x: x is not None, index)"
   ]
  },
  {
   "cell_type": "code",
   "execution_count": 67,
   "metadata": {
    "collapsed": false
   },
   "outputs": [
    {
     "data": {
      "text/plain": [
       "array([[1, 2, 3, 4],\n",
       "       [2, 4, 5, 6]])"
      ]
     },
     "execution_count": 67,
     "metadata": {},
     "output_type": "execute_result"
    }
   ],
   "source": [
    "np.array(list(y))"
   ]
  },
  {
   "cell_type": "code",
   "execution_count": 105,
   "metadata": {
    "collapsed": false
   },
   "outputs": [],
   "source": [
    "vocab = dict([(k, v.index) for k, v in model.vocab.items()])"
   ]
  },
  {
   "cell_type": "code",
   "execution_count": 107,
   "metadata": {
    "collapsed": false
   },
   "outputs": [
    {
     "data": {
      "text/plain": [
       "4964"
      ]
     },
     "execution_count": 107,
     "metadata": {},
     "output_type": "execute_result"
    }
   ],
   "source": [
    "vocab['fury']"
   ]
  },
  {
   "cell_type": "code",
   "execution_count": 108,
   "metadata": {
    "collapsed": true
   },
   "outputs": [],
   "source": [
    "sample = labeled_sentences[:100]"
   ]
  },
  {
   "cell_type": "code",
   "execution_count": 124,
   "metadata": {
    "collapsed": false
   },
   "outputs": [],
   "source": [
    "index = map(lambda x: vocab[x], sample[0])"
   ]
  },
  {
   "cell_type": "code",
   "execution_count": 130,
   "metadata": {
    "collapsed": false
   },
   "outputs": [],
   "source": [
    "def w2v(word):\n",
    "    try:\n",
    "        return vocab[word]\n",
    "    except:\n",
    "        return None"
   ]
  },
  {
   "cell_type": "code",
   "execution_count": 131,
   "metadata": {
    "collapsed": false
   },
   "outputs": [],
   "source": [
    "index = map(w2v, sample[0])"
   ]
  },
  {
   "cell_type": "code",
   "execution_count": 132,
   "metadata": {
    "collapsed": false
   },
   "outputs": [
    {
     "data": {
      "text/plain": [
       "[None, 299, 5, 2, 1073, 200]"
      ]
     },
     "execution_count": 132,
     "metadata": {},
     "output_type": "execute_result"
    }
   ],
   "source": [
    "list(index)"
   ]
  },
  {
   "cell_type": "code",
   "execution_count": 123,
   "metadata": {
    "collapsed": false
   },
   "outputs": [
    {
     "data": {
      "text/plain": [
       "29494"
      ]
     },
     "execution_count": 123,
     "metadata": {},
     "output_type": "execute_result"
    }
   ],
   "source": [
    "len(vocab)"
   ]
  },
  {
   "cell_type": "code",
   "execution_count": 163,
   "metadata": {
    "collapsed": true
   },
   "outputs": [],
   "source": [
    "x = np.arange(100000000)"
   ]
  },
  {
   "cell_type": "code",
   "execution_count": 165,
   "metadata": {
    "collapsed": false
   },
   "outputs": [
    {
     "name": "stdout",
     "output_type": "stream",
     "text": [
      "CPU times: user 28.3 s, sys: 7.16 s, total: 35.5 s\n",
      "Wall time: 36.8 s\n"
     ]
    }
   ],
   "source": [
    "%%time\n",
    "y = [t**2 for t in x]"
   ]
  },
  {
   "cell_type": "code",
   "execution_count": 166,
   "metadata": {
    "collapsed": false
   },
   "outputs": [
    {
     "name": "stdout",
     "output_type": "stream",
     "text": [
      "CPU times: user 1.47 s, sys: 3.68 s, total: 5.14 s\n",
      "Wall time: 5.45 s\n"
     ]
    }
   ],
   "source": [
    "%%time\n",
    "y = map(lambda t: t**2, x)"
   ]
  },
  {
   "cell_type": "code",
   "execution_count": null,
   "metadata": {
    "collapsed": true
   },
   "outputs": [],
   "source": []
  }
 ],
 "metadata": {
  "anaconda-cloud": {},
  "kernelspec": {
   "display_name": "Python [Root]",
   "language": "python",
   "name": "Python [Root]"
  },
  "language_info": {
   "codemirror_mode": {
    "name": "ipython",
    "version": 2
   },
   "file_extension": ".py",
   "mimetype": "text/x-python",
   "name": "python",
   "nbconvert_exporter": "python",
   "pygments_lexer": "ipython2",
   "version": "2.7.12"
  }
 },
 "nbformat": 4,
 "nbformat_minor": 0
}
